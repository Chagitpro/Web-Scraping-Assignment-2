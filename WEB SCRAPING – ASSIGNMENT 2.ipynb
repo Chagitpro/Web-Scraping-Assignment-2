{
 "cells": [
  {
   "cell_type": "markdown",
   "id": "d5bf40bf",
   "metadata": {},
   "source": [
    "1.Write a python program to scrape data for “Data Analyst” Job position in “Bangalore” location. You have to scrape the job-title, job-location, company_name, experience_required. You have to scrape first 10 jobs data.\n",
    "\n",
    "This task will be done in following steps:\n",
    "1. First get the webpage https://www.naukri.com/\n",
    "2. Enter “Data Analyst” in “Skill, Designations, Companies” field and enter “Bangalore” in “enter the location” field.\n",
    "3. Then click the search button.\n",
    "4. Then scrape the data for the first 10 jobs results you get.\n",
    "5. Finally create a dataframe of the scraped data."
   ]
  },
  {
   "cell_type": "code",
   "execution_count": 1,
   "id": "1d752a79",
   "metadata": {},
   "outputs": [],
   "source": [
    "# Let's now import all the required libraries.\n",
    "import selenium\n",
    "import pandas as pd\n",
    "from selenium import webdriver\n",
    "import warnings\n",
    "warnings.filterwarnings(\"ignore\")\n",
    "import time"
   ]
  },
  {
   "cell_type": "code",
   "execution_count": 2,
   "id": "974842b8",
   "metadata": {},
   "outputs": [],
   "source": [
    "# let's first connect to the web driver\n",
    "driver = webdriver.Chrome(r\"C:\\Users\\Administrator\\Downloads\\chromedriver_win32\\chromedriver.exe\")\n"
   ]
  },
  {
   "cell_type": "code",
   "execution_count": 5,
   "id": "8eedebb1",
   "metadata": {},
   "outputs": [],
   "source": [
    "driver=webdriver.Chrome(\"chromedriver.exe\")\n",
    "time.sleep(2)"
   ]
  },
  {
   "cell_type": "code",
   "execution_count": 33,
   "id": "6e5a6ab5",
   "metadata": {},
   "outputs": [],
   "source": [
    "driver.close()"
   ]
  },
  {
   "cell_type": "code",
   "execution_count": 6,
   "id": "a45caca9",
   "metadata": {},
   "outputs": [],
   "source": [
    "driver.get('https://www.naukri.com/')"
   ]
  },
  {
   "cell_type": "code",
   "execution_count": 11,
   "id": "0ecb6fe8",
   "metadata": {},
   "outputs": [],
   "source": [
    "# Finding element for job search bar\n",
    "search_field_designation=driver.find_element_by_class_name(\"suggestor-input\") #job search bar\n",
    "search_field_designation.send_keys(\"Data Analyst\")\n",
    "search_field_loaction=driver.find_element_by_xpath('/html/body/div/div[2]/div[3]/div/div/div[3]/div/div/div/input') #Location Search bar\n",
    "search_field_loaction.send_keys(\"Bangalore\")"
   ]
  },
  {
   "cell_type": "code",
   "execution_count": 12,
   "id": "6b3d0127",
   "metadata": {},
   "outputs": [],
   "source": [
    "search_button=driver.find_element_by_xpath(\"/html/body/div/div[2]/div[3]/div/div/div[6]\")\n",
    "search_button.click()"
   ]
  },
  {
   "cell_type": "code",
   "execution_count": 13,
   "id": "b5e9a9e2",
   "metadata": {},
   "outputs": [],
   "source": [
    "# Specifying the url of the webpage to be scraped\n",
    "url=\"https://www.naukri.com/data-analyst-jobs-in-bangalore?k=data%20analyst&l=bangalore\""
   ]
  },
  {
   "cell_type": "code",
   "execution_count": 14,
   "id": "360907aa",
   "metadata": {},
   "outputs": [],
   "source": [
    "# Lets open the webpage through our web driver\n",
    "driver.get(url)"
   ]
  },
  {
   "cell_type": "code",
   "execution_count": 18,
   "id": "8662d34f",
   "metadata": {},
   "outputs": [],
   "source": [
    "job_titles=[]\n",
    "company_names=[]\n",
    "locations_list=[]\n",
    "experience_list=[]"
   ]
  },
  {
   "cell_type": "code",
   "execution_count": 19,
   "id": "5dcff96f",
   "metadata": {},
   "outputs": [
    {
     "data": {
      "text/plain": [
       "[<selenium.webdriver.remote.webelement.WebElement (session=\"8d8f7fe155722c1d5390ee3ff1bb1c9e\", element=\"9da1cf4b-110d-45e9-aad4-d52c791c843d\")>,\n",
       " <selenium.webdriver.remote.webelement.WebElement (session=\"8d8f7fe155722c1d5390ee3ff1bb1c9e\", element=\"2375dd39-b715-4135-a2e1-e62c7c54de58\")>,\n",
       " <selenium.webdriver.remote.webelement.WebElement (session=\"8d8f7fe155722c1d5390ee3ff1bb1c9e\", element=\"1f6c783e-8a65-4f9c-873e-d927fa6285a2\")>,\n",
       " <selenium.webdriver.remote.webelement.WebElement (session=\"8d8f7fe155722c1d5390ee3ff1bb1c9e\", element=\"1d910651-f921-4827-8f63-1ee229af009c\")>,\n",
       " <selenium.webdriver.remote.webelement.WebElement (session=\"8d8f7fe155722c1d5390ee3ff1bb1c9e\", element=\"18d14349-42ae-4c93-abe3-b8d89217c955\")>,\n",
       " <selenium.webdriver.remote.webelement.WebElement (session=\"8d8f7fe155722c1d5390ee3ff1bb1c9e\", element=\"694f82e9-f03a-4abc-a302-1b8852a2bda5\")>,\n",
       " <selenium.webdriver.remote.webelement.WebElement (session=\"8d8f7fe155722c1d5390ee3ff1bb1c9e\", element=\"3fd9c2a9-76f5-4087-98a8-bf69b078a692\")>,\n",
       " <selenium.webdriver.remote.webelement.WebElement (session=\"8d8f7fe155722c1d5390ee3ff1bb1c9e\", element=\"969521c7-d2fb-4d4a-b9f0-236017fa83bd\")>,\n",
       " <selenium.webdriver.remote.webelement.WebElement (session=\"8d8f7fe155722c1d5390ee3ff1bb1c9e\", element=\"a98bfc68-6e76-46e5-88af-96de66db0916\")>,\n",
       " <selenium.webdriver.remote.webelement.WebElement (session=\"8d8f7fe155722c1d5390ee3ff1bb1c9e\", element=\"91ead570-39c0-4a04-b20d-a37cc3b20d4e\")>]"
      ]
     },
     "execution_count": 19,
     "metadata": {},
     "output_type": "execute_result"
    }
   ],
   "source": [
    "titles_tags=driver.find_elements_by_xpath(\"//a[@class='title fw500 ellipsis']\")\n",
    "titles_tags[0:10]"
   ]
  },
  {
   "cell_type": "markdown",
   "id": "8d4fb722",
   "metadata": {},
   "source": [
    "Now we have all the tags in which there are the job titles.\n",
    "\n",
    "Now we will extract the text from these tags one by one by looping over these tags"
   ]
  },
  {
   "cell_type": "code",
   "execution_count": 20,
   "id": "70222693",
   "metadata": {},
   "outputs": [
    {
     "data": {
      "text/plain": [
       "['Senior Data Analyst/ Business Analyst',\n",
       " 'Sr Domain Expert -Data Analysts',\n",
       " 'Data Analyst',\n",
       " 'Senior Data Analyst',\n",
       " 'Senior Data Analyst',\n",
       " 'Senior Data Analyst (Digital Services Analytics)',\n",
       " 'Senior Data Analyst',\n",
       " 'Data Analyst',\n",
       " 'Senior Data analyst (Azure / MDM)',\n",
       " 'Senior Professional Data Analyst']"
      ]
     },
     "execution_count": 20,
     "metadata": {},
     "output_type": "execute_result"
    }
   ],
   "source": [
    "# Now the text of the title is inside the tags extracted above.\n",
    "\n",
    "# so we will run a loop to iterate over the tags extracted above and\n",
    "\n",
    "for i in titles_tags:\n",
    "    title=i.text\n",
    "    job_titles.append(title)\n",
    "job_titles[0:10]"
   ]
  },
  {
   "cell_type": "code",
   "execution_count": 21,
   "id": "28e2c854",
   "metadata": {},
   "outputs": [
    {
     "data": {
      "text/plain": [
       "[<selenium.webdriver.remote.webelement.WebElement (session=\"8d8f7fe155722c1d5390ee3ff1bb1c9e\", element=\"905ace6b-1958-4ad1-a44e-647fa79d53a3\")>,\n",
       " <selenium.webdriver.remote.webelement.WebElement (session=\"8d8f7fe155722c1d5390ee3ff1bb1c9e\", element=\"c32b57ad-7b15-417c-a0eb-4525b599811f\")>,\n",
       " <selenium.webdriver.remote.webelement.WebElement (session=\"8d8f7fe155722c1d5390ee3ff1bb1c9e\", element=\"eb5f497b-0750-4a8e-b0a1-8282f369f77f\")>,\n",
       " <selenium.webdriver.remote.webelement.WebElement (session=\"8d8f7fe155722c1d5390ee3ff1bb1c9e\", element=\"f51b38e0-790b-4b82-a03f-fcca43b05015\")>,\n",
       " <selenium.webdriver.remote.webelement.WebElement (session=\"8d8f7fe155722c1d5390ee3ff1bb1c9e\", element=\"57ff048f-32ba-4b04-bc49-8ced64c4b181\")>,\n",
       " <selenium.webdriver.remote.webelement.WebElement (session=\"8d8f7fe155722c1d5390ee3ff1bb1c9e\", element=\"47e64b3b-538a-4d66-88ea-1ff982ffcfbb\")>,\n",
       " <selenium.webdriver.remote.webelement.WebElement (session=\"8d8f7fe155722c1d5390ee3ff1bb1c9e\", element=\"82374436-4da8-4f4f-9e18-7a3dc2869db8\")>,\n",
       " <selenium.webdriver.remote.webelement.WebElement (session=\"8d8f7fe155722c1d5390ee3ff1bb1c9e\", element=\"6ae99a88-56b2-4653-8f19-3672f1fe20f0\")>,\n",
       " <selenium.webdriver.remote.webelement.WebElement (session=\"8d8f7fe155722c1d5390ee3ff1bb1c9e\", element=\"d47fdae1-048d-416c-a8a9-d75c79534690\")>,\n",
       " <selenium.webdriver.remote.webelement.WebElement (session=\"8d8f7fe155722c1d5390ee3ff1bb1c9e\", element=\"5b877ce3-c260-4153-9268-daef311ae5d3\")>]"
      ]
     },
     "execution_count": 21,
     "metadata": {},
     "output_type": "execute_result"
    }
   ],
   "source": [
    "# So lets extract all the tags having the company names\n",
    "companies_tags=driver.find_elements_by_xpath(\"//a[@class='subTitle ellipsis fleft']\")\n",
    "companies_tags[0:10]"
   ]
  },
  {
   "cell_type": "code",
   "execution_count": 22,
   "id": "c8d10f06",
   "metadata": {},
   "outputs": [
    {
     "data": {
      "text/plain": [
       "['Rupeek',\n",
       " 'Siemens',\n",
       " 'Enrich talents',\n",
       " 'LatentView',\n",
       " 'FINNOVATION TECH SOLUTIONS PRIVATE LIMITED',\n",
       " 'Dell Technologies',\n",
       " 'Cerner',\n",
       " 'Myntra',\n",
       " 'Syneos Health',\n",
       " 'DXC Technology']"
      ]
     },
     "execution_count": 22,
     "metadata": {},
     "output_type": "execute_result"
    }
   ],
   "source": [
    "for i in companies_tags:\n",
    "    company_name=i.text\n",
    "    company_names.append(company_name)\n",
    "company_names[0:10]"
   ]
  },
  {
   "cell_type": "code",
   "execution_count": 23,
   "id": "3245b55e",
   "metadata": {},
   "outputs": [
    {
     "data": {
      "text/plain": [
       "[<selenium.webdriver.remote.webelement.WebElement (session=\"8d8f7fe155722c1d5390ee3ff1bb1c9e\", element=\"197f6360-0170-40d1-be98-00959c5b234d\")>,\n",
       " <selenium.webdriver.remote.webelement.WebElement (session=\"8d8f7fe155722c1d5390ee3ff1bb1c9e\", element=\"035c0b26-a585-4023-a200-39b3a26bb218\")>,\n",
       " <selenium.webdriver.remote.webelement.WebElement (session=\"8d8f7fe155722c1d5390ee3ff1bb1c9e\", element=\"310d9e86-0fb2-41c1-b3aa-78dd0d144f6a\")>,\n",
       " <selenium.webdriver.remote.webelement.WebElement (session=\"8d8f7fe155722c1d5390ee3ff1bb1c9e\", element=\"81792673-a1bb-4fa2-8404-0a6bbb1eeafe\")>,\n",
       " <selenium.webdriver.remote.webelement.WebElement (session=\"8d8f7fe155722c1d5390ee3ff1bb1c9e\", element=\"e91b8441-5946-4ce1-b68c-719d186e8b8a\")>,\n",
       " <selenium.webdriver.remote.webelement.WebElement (session=\"8d8f7fe155722c1d5390ee3ff1bb1c9e\", element=\"cdd5ee75-7fb2-4ab4-a2ac-fec63521ed87\")>,\n",
       " <selenium.webdriver.remote.webelement.WebElement (session=\"8d8f7fe155722c1d5390ee3ff1bb1c9e\", element=\"d9eda594-2f0b-495d-8357-eea17c4c4fc3\")>,\n",
       " <selenium.webdriver.remote.webelement.WebElement (session=\"8d8f7fe155722c1d5390ee3ff1bb1c9e\", element=\"e2e96068-e39c-47bd-a40b-b76cf923b399\")>,\n",
       " <selenium.webdriver.remote.webelement.WebElement (session=\"8d8f7fe155722c1d5390ee3ff1bb1c9e\", element=\"92637e03-d488-4b76-af04-969e3733871d\")>,\n",
       " <selenium.webdriver.remote.webelement.WebElement (session=\"8d8f7fe155722c1d5390ee3ff1bb1c9e\", element=\"7130a83a-a276-43b0-8ad7-ccd38ab3afe3\")>]"
      ]
     },
     "execution_count": 23,
     "metadata": {},
     "output_type": "execute_result"
    }
   ],
   "source": [
    "# so lets extract all the tags having the experience required data\n",
    "\n",
    "experience_tags=driver.find_elements_by_xpath(\"//li[@class='fleft grey-text br2 placeHolderLi experience']/span[1]\")\n",
    "experience_tags[0:10]"
   ]
  },
  {
   "cell_type": "code",
   "execution_count": 24,
   "id": "dffd0187",
   "metadata": {},
   "outputs": [
    {
     "data": {
      "text/plain": [
       "['2-7 Yrs',\n",
       " '0-10 Yrs',\n",
       " '0-4 Yrs',\n",
       " '2-6 Yrs',\n",
       " '3-6 Yrs',\n",
       " '1-6 Yrs',\n",
       " '8-12 Yrs',\n",
       " '1-3 Yrs',\n",
       " '4-7 Yrs',\n",
       " '3-7 Yrs']"
      ]
     },
     "execution_count": 24,
     "metadata": {},
     "output_type": "execute_result"
    }
   ],
   "source": [
    "for i in experience_tags:\n",
    "    experience=i.text\n",
    "    experience_list.append(experience)\n",
    "experience_list[0:10]"
   ]
  },
  {
   "cell_type": "code",
   "execution_count": 25,
   "id": "3d11302b",
   "metadata": {},
   "outputs": [
    {
     "data": {
      "text/plain": [
       "[<selenium.webdriver.remote.webelement.WebElement (session=\"8d8f7fe155722c1d5390ee3ff1bb1c9e\", element=\"d070952b-be74-4fc5-84ba-5c511a1c7c27\")>,\n",
       " <selenium.webdriver.remote.webelement.WebElement (session=\"8d8f7fe155722c1d5390ee3ff1bb1c9e\", element=\"eb903a1a-c905-49b7-8766-4d87253accc6\")>,\n",
       " <selenium.webdriver.remote.webelement.WebElement (session=\"8d8f7fe155722c1d5390ee3ff1bb1c9e\", element=\"de3b03a7-d34e-4d2c-bdc0-294bdde4ef0c\")>,\n",
       " <selenium.webdriver.remote.webelement.WebElement (session=\"8d8f7fe155722c1d5390ee3ff1bb1c9e\", element=\"04143593-c970-47de-9ed5-5965fa890345\")>,\n",
       " <selenium.webdriver.remote.webelement.WebElement (session=\"8d8f7fe155722c1d5390ee3ff1bb1c9e\", element=\"60c644d5-f9fd-4123-ae36-4ae1ec25764c\")>,\n",
       " <selenium.webdriver.remote.webelement.WebElement (session=\"8d8f7fe155722c1d5390ee3ff1bb1c9e\", element=\"48022219-62ff-48aa-91ee-e4bac5e64f0b\")>,\n",
       " <selenium.webdriver.remote.webelement.WebElement (session=\"8d8f7fe155722c1d5390ee3ff1bb1c9e\", element=\"bd3a6d64-24df-4091-b227-0fdb91533004\")>,\n",
       " <selenium.webdriver.remote.webelement.WebElement (session=\"8d8f7fe155722c1d5390ee3ff1bb1c9e\", element=\"19752dbc-c9f5-44fa-8a8b-5f5cb2b32aa6\")>,\n",
       " <selenium.webdriver.remote.webelement.WebElement (session=\"8d8f7fe155722c1d5390ee3ff1bb1c9e\", element=\"98cec3b9-9cba-49c0-bba9-01163b489f28\")>,\n",
       " <selenium.webdriver.remote.webelement.WebElement (session=\"8d8f7fe155722c1d5390ee3ff1bb1c9e\", element=\"deffb5eb-d7b9-4343-bfbc-849b8d8329d9\")>]"
      ]
     },
     "execution_count": 25,
     "metadata": {},
     "output_type": "execute_result"
    }
   ],
   "source": [
    "# so lets extract all the tags having the location required data\n",
    "\n",
    "location_tags=driver.find_elements_by_xpath(\"//li[@class='fleft grey-text br2 placeHolderLi location']/span[1]\")\n",
    "location_tags[0:10]"
   ]
  },
  {
   "cell_type": "code",
   "execution_count": 26,
   "id": "2340b412",
   "metadata": {},
   "outputs": [
    {
     "data": {
      "text/plain": [
       "['Bangalore/Bengaluru',\n",
       " 'Bangalore/Bengaluru',\n",
       " 'Bangalore/Bengaluru',\n",
       " 'Chennai, Bangalore/Bengaluru',\n",
       " 'Bangalore/Bengaluru(Old Madras Road)',\n",
       " 'Bangalore/Bengaluru',\n",
       " 'Bangalore/Bengaluru',\n",
       " 'Bangalore/Bengaluru',\n",
       " 'Hyderabad/Secunderabad, Gurgaon/Gurugram, Bangalore/Bengaluru',\n",
       " 'Bangalore/Bengaluru']"
      ]
     },
     "execution_count": 26,
     "metadata": {},
     "output_type": "execute_result"
    }
   ],
   "source": [
    "for i in location_tags :\n",
    "    location=i.text\n",
    "    locations_list.append(location)\n",
    "locations_list[0:10]"
   ]
  },
  {
   "cell_type": "code",
   "execution_count": 30,
   "id": "1d396a33",
   "metadata": {},
   "outputs": [],
   "source": [
    "#So lets check th length of ech element.\n",
    "#Import pandas as pd\n",
    "jobs=pd.DataFrame({})\n",
    "jobs['title']=job_titles[:10]\n",
    "jobs['company']=company_names[:10]\n",
    "jobs['experience_required']=experience_list[:10]\n",
    "jobs['location']=locations_list[:10]"
   ]
  },
  {
   "cell_type": "code",
   "execution_count": 31,
   "id": "94422ed3",
   "metadata": {},
   "outputs": [
    {
     "data": {
      "text/html": [
       "<div>\n",
       "<style scoped>\n",
       "    .dataframe tbody tr th:only-of-type {\n",
       "        vertical-align: middle;\n",
       "    }\n",
       "\n",
       "    .dataframe tbody tr th {\n",
       "        vertical-align: top;\n",
       "    }\n",
       "\n",
       "    .dataframe thead th {\n",
       "        text-align: right;\n",
       "    }\n",
       "</style>\n",
       "<table border=\"1\" class=\"dataframe\">\n",
       "  <thead>\n",
       "    <tr style=\"text-align: right;\">\n",
       "      <th></th>\n",
       "      <th>title</th>\n",
       "      <th>company</th>\n",
       "      <th>experience_required</th>\n",
       "      <th>location</th>\n",
       "    </tr>\n",
       "  </thead>\n",
       "  <tbody>\n",
       "    <tr>\n",
       "      <th>0</th>\n",
       "      <td>Senior Data Analyst/ Business Analyst</td>\n",
       "      <td>Rupeek</td>\n",
       "      <td>2-7 Yrs</td>\n",
       "      <td>Bangalore/Bengaluru</td>\n",
       "    </tr>\n",
       "    <tr>\n",
       "      <th>1</th>\n",
       "      <td>Sr Domain Expert -Data Analysts</td>\n",
       "      <td>Siemens</td>\n",
       "      <td>0-10 Yrs</td>\n",
       "      <td>Bangalore/Bengaluru</td>\n",
       "    </tr>\n",
       "    <tr>\n",
       "      <th>2</th>\n",
       "      <td>Data Analyst</td>\n",
       "      <td>Enrich talents</td>\n",
       "      <td>0-4 Yrs</td>\n",
       "      <td>Bangalore/Bengaluru</td>\n",
       "    </tr>\n",
       "    <tr>\n",
       "      <th>3</th>\n",
       "      <td>Senior Data Analyst</td>\n",
       "      <td>LatentView</td>\n",
       "      <td>2-6 Yrs</td>\n",
       "      <td>Chennai, Bangalore/Bengaluru</td>\n",
       "    </tr>\n",
       "    <tr>\n",
       "      <th>4</th>\n",
       "      <td>Senior Data Analyst</td>\n",
       "      <td>FINNOVATION TECH SOLUTIONS PRIVATE LIMITED</td>\n",
       "      <td>3-6 Yrs</td>\n",
       "      <td>Bangalore/Bengaluru(Old Madras Road)</td>\n",
       "    </tr>\n",
       "    <tr>\n",
       "      <th>5</th>\n",
       "      <td>Senior Data Analyst (Digital Services Analytics)</td>\n",
       "      <td>Dell Technologies</td>\n",
       "      <td>1-6 Yrs</td>\n",
       "      <td>Bangalore/Bengaluru</td>\n",
       "    </tr>\n",
       "    <tr>\n",
       "      <th>6</th>\n",
       "      <td>Senior Data Analyst</td>\n",
       "      <td>Cerner</td>\n",
       "      <td>8-12 Yrs</td>\n",
       "      <td>Bangalore/Bengaluru</td>\n",
       "    </tr>\n",
       "    <tr>\n",
       "      <th>7</th>\n",
       "      <td>Data Analyst</td>\n",
       "      <td>Myntra</td>\n",
       "      <td>1-3 Yrs</td>\n",
       "      <td>Bangalore/Bengaluru</td>\n",
       "    </tr>\n",
       "    <tr>\n",
       "      <th>8</th>\n",
       "      <td>Senior Data analyst (Azure / MDM)</td>\n",
       "      <td>Syneos Health</td>\n",
       "      <td>4-7 Yrs</td>\n",
       "      <td>Hyderabad/Secunderabad, Gurgaon/Gurugram, Bang...</td>\n",
       "    </tr>\n",
       "    <tr>\n",
       "      <th>9</th>\n",
       "      <td>Senior Professional Data Analyst</td>\n",
       "      <td>DXC Technology</td>\n",
       "      <td>3-7 Yrs</td>\n",
       "      <td>Bangalore/Bengaluru</td>\n",
       "    </tr>\n",
       "  </tbody>\n",
       "</table>\n",
       "</div>"
      ],
      "text/plain": [
       "                                              title  \\\n",
       "0             Senior Data Analyst/ Business Analyst   \n",
       "1                   Sr Domain Expert -Data Analysts   \n",
       "2                                      Data Analyst   \n",
       "3                               Senior Data Analyst   \n",
       "4                               Senior Data Analyst   \n",
       "5  Senior Data Analyst (Digital Services Analytics)   \n",
       "6                               Senior Data Analyst   \n",
       "7                                      Data Analyst   \n",
       "8                 Senior Data analyst (Azure / MDM)   \n",
       "9                  Senior Professional Data Analyst   \n",
       "\n",
       "                                      company experience_required  \\\n",
       "0                                      Rupeek             2-7 Yrs   \n",
       "1                                     Siemens            0-10 Yrs   \n",
       "2                              Enrich talents             0-4 Yrs   \n",
       "3                                  LatentView             2-6 Yrs   \n",
       "4  FINNOVATION TECH SOLUTIONS PRIVATE LIMITED             3-6 Yrs   \n",
       "5                           Dell Technologies             1-6 Yrs   \n",
       "6                                      Cerner            8-12 Yrs   \n",
       "7                                      Myntra             1-3 Yrs   \n",
       "8                               Syneos Health             4-7 Yrs   \n",
       "9                              DXC Technology             3-7 Yrs   \n",
       "\n",
       "                                            location  \n",
       "0                                Bangalore/Bengaluru  \n",
       "1                                Bangalore/Bengaluru  \n",
       "2                                Bangalore/Bengaluru  \n",
       "3                       Chennai, Bangalore/Bengaluru  \n",
       "4               Bangalore/Bengaluru(Old Madras Road)  \n",
       "5                                Bangalore/Bengaluru  \n",
       "6                                Bangalore/Bengaluru  \n",
       "7                                Bangalore/Bengaluru  \n",
       "8  Hyderabad/Secunderabad, Gurgaon/Gurugram, Bang...  \n",
       "9                                Bangalore/Bengaluru  "
      ]
     },
     "execution_count": 31,
     "metadata": {},
     "output_type": "execute_result"
    }
   ],
   "source": [
    "jobs"
   ]
  },
  {
   "cell_type": "markdown",
   "id": "5e8b642f",
   "metadata": {},
   "source": [
    "Q2: Write a python program to scrape data for “Data Scientist” Job position in “Bangalore” location. You have to scrape the job-title, job-location, company_name. You have to scrape first 10 jobs data.\n",
    "\n",
    "This task will be done in following steps:\n",
    "    \n",
    "1. First get the webpage https://www.naukri.com/\n",
    "2. Enter “Data Scientist” in “Skill, Designations, Companies” field and enter “Bangalore” in “enter the location” field.\n",
    "3. Then click the search button.\n",
    "4. Then scrape the data for the first 10 jobs results you get.\n",
    "5. Finally create a dataframe of the scraped data.\n"
   ]
  },
  {
   "cell_type": "code",
   "execution_count": 32,
   "id": "bffd562d",
   "metadata": {},
   "outputs": [],
   "source": [
    "# Let's now import all the required libraries.\n",
    "import selenium\n",
    "import pandas as pd\n",
    "from selenium import webdriver\n",
    "import warnings\n",
    "warnings.filterwarnings(\"ignore\")\n",
    "import time"
   ]
  },
  {
   "cell_type": "code",
   "execution_count": 34,
   "id": "8e2acf4c",
   "metadata": {},
   "outputs": [],
   "source": [
    "# let's first connect to the web driver\n",
    "driver = webdriver.Chrome(r\"C:\\Users\\Administrator\\Downloads\\chromedriver_win32\\chromedriver.exe\")"
   ]
  },
  {
   "cell_type": "code",
   "execution_count": 35,
   "id": "d850efc9",
   "metadata": {},
   "outputs": [],
   "source": [
    "driver=webdriver.Chrome(\"chromedriver.exe\")\n",
    "time.sleep(2)"
   ]
  },
  {
   "cell_type": "code",
   "execution_count": 36,
   "id": "8fe7edf6",
   "metadata": {},
   "outputs": [],
   "source": [
    "driver.get('https://www.naukri.com/')"
   ]
  },
  {
   "cell_type": "code",
   "execution_count": 37,
   "id": "f919cdbf",
   "metadata": {},
   "outputs": [],
   "source": [
    "# Finding element for job search bar\n",
    "search_field_designation=driver.find_element_by_class_name(\"suggestor-input\") #job search bar\n",
    "search_field_designation.send_keys(\"Data Scientist\")\n",
    "search_field_loaction=driver.find_element_by_xpath('/html/body/div/div[2]/div[3]/div/div/div[3]/div/div/div/input') #Location Search bar\n",
    "search_field_loaction.send_keys(\"Bangalore\")"
   ]
  },
  {
   "cell_type": "code",
   "execution_count": 39,
   "id": "325f92e1",
   "metadata": {},
   "outputs": [],
   "source": [
    "search_button=driver.find_element_by_xpath(\"/html/body/div/div[2]/div[3]/div/div/div[6]\")\n",
    "search_button.click()"
   ]
  },
  {
   "cell_type": "code",
   "execution_count": 40,
   "id": "0cbe5dfc",
   "metadata": {},
   "outputs": [],
   "source": [
    "# Specifying the url of the webpage to be scraped\n",
    "url=\"https://www.naukri.com/data-scientist-jobs-in-bangalore?k=data%20scientist&l=bangalore\""
   ]
  },
  {
   "cell_type": "code",
   "execution_count": 41,
   "id": "1a7bd984",
   "metadata": {},
   "outputs": [],
   "source": [
    "# Lets open the webpage through our web driver\n",
    "driver.get(url)"
   ]
  },
  {
   "cell_type": "markdown",
   "id": "0cdc854a",
   "metadata": {},
   "source": [
    "So,Now lets first create 4 empty lists. In these lists the data will be stored while scraping. We have created 4 empty lists for 4 features which we have to extract.\n",
    "\n",
    "1Job_titles 2.company_names 3.locations_list\n",
    "\n",
    "First, We will extract all the tags where we have the job titles,lets me first show you on the webpage in which tags the job titles are put."
   ]
  },
  {
   "cell_type": "code",
   "execution_count": 42,
   "id": "6b803a46",
   "metadata": {},
   "outputs": [],
   "source": [
    "job_titles=[]\n",
    "company_names=[]\n",
    "locations_list=[]"
   ]
  },
  {
   "cell_type": "code",
   "execution_count": 43,
   "id": "0d798fd0",
   "metadata": {},
   "outputs": [
    {
     "data": {
      "text/plain": [
       "[<selenium.webdriver.remote.webelement.WebElement (session=\"5c0340a683ac919b929cdd35415bbcf5\", element=\"05b64cfe-17f2-4ea3-aba7-fb6f8c8664d4\")>,\n",
       " <selenium.webdriver.remote.webelement.WebElement (session=\"5c0340a683ac919b929cdd35415bbcf5\", element=\"cec9aaa5-b75d-4e49-b911-8ab40bb2c26f\")>,\n",
       " <selenium.webdriver.remote.webelement.WebElement (session=\"5c0340a683ac919b929cdd35415bbcf5\", element=\"45fdf945-25ee-4e76-89bc-ba3ee464b696\")>,\n",
       " <selenium.webdriver.remote.webelement.WebElement (session=\"5c0340a683ac919b929cdd35415bbcf5\", element=\"6701d634-f032-4331-bade-419974b03c16\")>,\n",
       " <selenium.webdriver.remote.webelement.WebElement (session=\"5c0340a683ac919b929cdd35415bbcf5\", element=\"2b0d2dc4-fc51-4ad1-a197-15ca89af47f0\")>,\n",
       " <selenium.webdriver.remote.webelement.WebElement (session=\"5c0340a683ac919b929cdd35415bbcf5\", element=\"44172b5d-9687-4862-a198-e0e9f1a12fde\")>,\n",
       " <selenium.webdriver.remote.webelement.WebElement (session=\"5c0340a683ac919b929cdd35415bbcf5\", element=\"7c3fb6dc-5698-4610-b584-2d2e2482af5f\")>,\n",
       " <selenium.webdriver.remote.webelement.WebElement (session=\"5c0340a683ac919b929cdd35415bbcf5\", element=\"66363069-abd6-4b86-a810-10e7a21f1bbd\")>,\n",
       " <selenium.webdriver.remote.webelement.WebElement (session=\"5c0340a683ac919b929cdd35415bbcf5\", element=\"4b75996f-408f-488d-b275-d1c946e431dc\")>,\n",
       " <selenium.webdriver.remote.webelement.WebElement (session=\"5c0340a683ac919b929cdd35415bbcf5\", element=\"f678b0d4-3cec-4014-bdc7-887002b646c3\")>]"
      ]
     },
     "execution_count": 43,
     "metadata": {},
     "output_type": "execute_result"
    }
   ],
   "source": [
    "titles_tags=driver.find_elements_by_xpath(\"//a[@class='title fw500 ellipsis']\")\n",
    "titles_tags[0:10]"
   ]
  },
  {
   "cell_type": "code",
   "execution_count": 44,
   "id": "95c6b1d9",
   "metadata": {},
   "outputs": [
    {
     "data": {
      "text/plain": [
       "['Senior Data Scientist',\n",
       " 'Sr. Data Scientist',\n",
       " 'Analyst - Data Scientist',\n",
       " 'Senior Data Scientist',\n",
       " 'Associate Data Scientist',\n",
       " 'Sr. Associate - Data Scientist',\n",
       " 'Senior Data Scientist',\n",
       " 'Data Scientist',\n",
       " 'Data Scientist',\n",
       " 'Data Scientist']"
      ]
     },
     "execution_count": 44,
     "metadata": {},
     "output_type": "execute_result"
    }
   ],
   "source": [
    "# Now the text of the title is inside the tags extracted above.\n",
    "for i in titles_tags:\n",
    "    title=i.text\n",
    "    job_titles.append(title)\n",
    "job_titles[0:10]"
   ]
  },
  {
   "cell_type": "code",
   "execution_count": 45,
   "id": "22b89685",
   "metadata": {},
   "outputs": [
    {
     "data": {
      "text/plain": [
       "[<selenium.webdriver.remote.webelement.WebElement (session=\"5c0340a683ac919b929cdd35415bbcf5\", element=\"7472972c-adfb-4eb4-822a-d7beebe3aabd\")>,\n",
       " <selenium.webdriver.remote.webelement.WebElement (session=\"5c0340a683ac919b929cdd35415bbcf5\", element=\"2815d26f-7b1b-4578-8751-b6766457d8d8\")>,\n",
       " <selenium.webdriver.remote.webelement.WebElement (session=\"5c0340a683ac919b929cdd35415bbcf5\", element=\"b1b6ed41-3de7-4f09-8b56-4eb99398fce0\")>,\n",
       " <selenium.webdriver.remote.webelement.WebElement (session=\"5c0340a683ac919b929cdd35415bbcf5\", element=\"dc3c873a-402f-46ea-bca4-c0d019900b55\")>,\n",
       " <selenium.webdriver.remote.webelement.WebElement (session=\"5c0340a683ac919b929cdd35415bbcf5\", element=\"17325d3a-67f7-4707-a2ef-a2f6f9f32426\")>,\n",
       " <selenium.webdriver.remote.webelement.WebElement (session=\"5c0340a683ac919b929cdd35415bbcf5\", element=\"ac862f9e-e916-450d-8f75-5376433acb1b\")>,\n",
       " <selenium.webdriver.remote.webelement.WebElement (session=\"5c0340a683ac919b929cdd35415bbcf5\", element=\"2d199a47-b7fc-495b-95db-737a06447c40\")>,\n",
       " <selenium.webdriver.remote.webelement.WebElement (session=\"5c0340a683ac919b929cdd35415bbcf5\", element=\"739a1112-5806-4f79-9425-f071dcf2c0df\")>,\n",
       " <selenium.webdriver.remote.webelement.WebElement (session=\"5c0340a683ac919b929cdd35415bbcf5\", element=\"b5c929f3-1b40-4f10-a302-7eedd49683db\")>,\n",
       " <selenium.webdriver.remote.webelement.WebElement (session=\"5c0340a683ac919b929cdd35415bbcf5\", element=\"2ecd1550-30b3-438a-ab7e-0f9edd3d7ca4\")>]"
      ]
     },
     "execution_count": 45,
     "metadata": {},
     "output_type": "execute_result"
    }
   ],
   "source": [
    "# So lets extract all the tags having the company names\n",
    "companies_tags=driver.find_elements_by_xpath(\"//a[@class='subTitle ellipsis fleft']\")\n",
    "companies_tags[0:10]"
   ]
  },
  {
   "cell_type": "code",
   "execution_count": 46,
   "id": "80b442c1",
   "metadata": {},
   "outputs": [
    {
     "data": {
      "text/plain": [
       "['GSK India',\n",
       " 'Silicon Valley Bank',\n",
       " 'MilliporeSigma',\n",
       " 'Flipkart',\n",
       " 'experionglobal',\n",
       " 'CHANGE LEADERS CONSULTING',\n",
       " 'GSK India',\n",
       " 'Thoucentric Technology Pvt ltd',\n",
       " 'Roposo',\n",
       " 'Silent Eight Pte Ltd']"
      ]
     },
     "execution_count": 46,
     "metadata": {},
     "output_type": "execute_result"
    }
   ],
   "source": [
    "for i in companies_tags:\n",
    "    company_name=i.text\n",
    "    company_names.append(company_name)\n",
    "company_names[0:10]"
   ]
  },
  {
   "cell_type": "code",
   "execution_count": 50,
   "id": "dfb866d0",
   "metadata": {},
   "outputs": [
    {
     "data": {
      "text/plain": [
       "[<selenium.webdriver.remote.webelement.WebElement (session=\"5c0340a683ac919b929cdd35415bbcf5\", element=\"685572c9-1013-4dc3-a6d6-6b538af5e301\")>,\n",
       " <selenium.webdriver.remote.webelement.WebElement (session=\"5c0340a683ac919b929cdd35415bbcf5\", element=\"267715c1-548e-48c5-859a-d9b234f97926\")>,\n",
       " <selenium.webdriver.remote.webelement.WebElement (session=\"5c0340a683ac919b929cdd35415bbcf5\", element=\"be6c1b6f-d6cc-4f31-bc92-47353e22881a\")>,\n",
       " <selenium.webdriver.remote.webelement.WebElement (session=\"5c0340a683ac919b929cdd35415bbcf5\", element=\"6b0e8cf6-60c1-45a8-95dc-143a823cdc13\")>,\n",
       " <selenium.webdriver.remote.webelement.WebElement (session=\"5c0340a683ac919b929cdd35415bbcf5\", element=\"82f99505-b193-471f-a628-f9aa55c23d43\")>,\n",
       " <selenium.webdriver.remote.webelement.WebElement (session=\"5c0340a683ac919b929cdd35415bbcf5\", element=\"88c23e0d-112c-4de5-b6d0-e11a7c8b5f34\")>,\n",
       " <selenium.webdriver.remote.webelement.WebElement (session=\"5c0340a683ac919b929cdd35415bbcf5\", element=\"cdf52a21-c131-4562-92af-fb6f35a84de6\")>,\n",
       " <selenium.webdriver.remote.webelement.WebElement (session=\"5c0340a683ac919b929cdd35415bbcf5\", element=\"471892b5-acc2-4796-b42b-7231bb11f4c5\")>,\n",
       " <selenium.webdriver.remote.webelement.WebElement (session=\"5c0340a683ac919b929cdd35415bbcf5\", element=\"57c69203-c7e0-4d68-9fa7-94e1e347ff58\")>,\n",
       " <selenium.webdriver.remote.webelement.WebElement (session=\"5c0340a683ac919b929cdd35415bbcf5\", element=\"9bf5de7d-7c73-46a5-80bb-dd1f4e383096\")>]"
      ]
     },
     "execution_count": 50,
     "metadata": {},
     "output_type": "execute_result"
    }
   ],
   "source": [
    "# So lets extract all the tags having the location names\n",
    "location_tags=driver.find_elements_by_xpath(\"//li[@class='fleft grey-text br2 placeHolderLi location']/span[1]\")\n",
    "location_tags[0:10]"
   ]
  },
  {
   "cell_type": "code",
   "execution_count": 51,
   "id": "846f0318",
   "metadata": {},
   "outputs": [
    {
     "data": {
      "text/plain": [
       "['Bangalore/Bengaluru',\n",
       " 'Bangalore/Bengaluru',\n",
       " 'Bangalore/Bengaluru',\n",
       " 'Bangalore/Bengaluru',\n",
       " 'Kochi/Cochin, Bangalore/Bengaluru, Trivandrum/Thiruvananthapuram',\n",
       " 'Hyderabad/Secunderabad, Bangalore/Bengaluru',\n",
       " 'Bangalore/Bengaluru',\n",
       " 'Bangalore/Bengaluru(HSR Layout +2)',\n",
       " 'Bangalore/Bengaluru',\n",
       " 'Bangalore/Bengaluru']"
      ]
     },
     "execution_count": 51,
     "metadata": {},
     "output_type": "execute_result"
    }
   ],
   "source": [
    "for i in location_tags :\n",
    "    location=i.text\n",
    "    locations_list.append(location)\n",
    "locations_list[0:10]"
   ]
  },
  {
   "cell_type": "code",
   "execution_count": 52,
   "id": "80a1160f",
   "metadata": {},
   "outputs": [
    {
     "name": "stdout",
     "output_type": "stream",
     "text": [
      "20 20 20\n"
     ]
    }
   ],
   "source": [
    "print(len(job_titles),len(company_names),len(locations_list))"
   ]
  },
  {
   "cell_type": "code",
   "execution_count": 53,
   "id": "b1011edb",
   "metadata": {},
   "outputs": [],
   "source": [
    "#Import pandas as pd\n",
    "jobs=pd.DataFrame({})\n",
    "jobs['title']=job_titles[:10]\n",
    "jobs['company']=company_names[:10]\n",
    "jobs['location']=locations_list[:10]"
   ]
  },
  {
   "cell_type": "code",
   "execution_count": 54,
   "id": "65e41d61",
   "metadata": {},
   "outputs": [
    {
     "data": {
      "text/html": [
       "<div>\n",
       "<style scoped>\n",
       "    .dataframe tbody tr th:only-of-type {\n",
       "        vertical-align: middle;\n",
       "    }\n",
       "\n",
       "    .dataframe tbody tr th {\n",
       "        vertical-align: top;\n",
       "    }\n",
       "\n",
       "    .dataframe thead th {\n",
       "        text-align: right;\n",
       "    }\n",
       "</style>\n",
       "<table border=\"1\" class=\"dataframe\">\n",
       "  <thead>\n",
       "    <tr style=\"text-align: right;\">\n",
       "      <th></th>\n",
       "      <th>title</th>\n",
       "      <th>company</th>\n",
       "      <th>location</th>\n",
       "    </tr>\n",
       "  </thead>\n",
       "  <tbody>\n",
       "    <tr>\n",
       "      <th>0</th>\n",
       "      <td>Senior Data Scientist</td>\n",
       "      <td>GSK India</td>\n",
       "      <td>Bangalore/Bengaluru</td>\n",
       "    </tr>\n",
       "    <tr>\n",
       "      <th>1</th>\n",
       "      <td>Sr. Data Scientist</td>\n",
       "      <td>Silicon Valley Bank</td>\n",
       "      <td>Bangalore/Bengaluru</td>\n",
       "    </tr>\n",
       "    <tr>\n",
       "      <th>2</th>\n",
       "      <td>Analyst - Data Scientist</td>\n",
       "      <td>MilliporeSigma</td>\n",
       "      <td>Bangalore/Bengaluru</td>\n",
       "    </tr>\n",
       "    <tr>\n",
       "      <th>3</th>\n",
       "      <td>Senior Data Scientist</td>\n",
       "      <td>Flipkart</td>\n",
       "      <td>Bangalore/Bengaluru</td>\n",
       "    </tr>\n",
       "    <tr>\n",
       "      <th>4</th>\n",
       "      <td>Associate Data Scientist</td>\n",
       "      <td>experionglobal</td>\n",
       "      <td>Kochi/Cochin, Bangalore/Bengaluru, Trivandrum/...</td>\n",
       "    </tr>\n",
       "    <tr>\n",
       "      <th>5</th>\n",
       "      <td>Sr. Associate - Data Scientist</td>\n",
       "      <td>CHANGE LEADERS CONSULTING</td>\n",
       "      <td>Hyderabad/Secunderabad, Bangalore/Bengaluru</td>\n",
       "    </tr>\n",
       "    <tr>\n",
       "      <th>6</th>\n",
       "      <td>Senior Data Scientist</td>\n",
       "      <td>GSK India</td>\n",
       "      <td>Bangalore/Bengaluru</td>\n",
       "    </tr>\n",
       "    <tr>\n",
       "      <th>7</th>\n",
       "      <td>Data Scientist</td>\n",
       "      <td>Thoucentric Technology Pvt ltd</td>\n",
       "      <td>Bangalore/Bengaluru(HSR Layout +2)</td>\n",
       "    </tr>\n",
       "    <tr>\n",
       "      <th>8</th>\n",
       "      <td>Data Scientist</td>\n",
       "      <td>Roposo</td>\n",
       "      <td>Bangalore/Bengaluru</td>\n",
       "    </tr>\n",
       "    <tr>\n",
       "      <th>9</th>\n",
       "      <td>Data Scientist</td>\n",
       "      <td>Silent Eight Pte Ltd</td>\n",
       "      <td>Bangalore/Bengaluru</td>\n",
       "    </tr>\n",
       "  </tbody>\n",
       "</table>\n",
       "</div>"
      ],
      "text/plain": [
       "                            title                         company  \\\n",
       "0           Senior Data Scientist                       GSK India   \n",
       "1              Sr. Data Scientist             Silicon Valley Bank   \n",
       "2        Analyst - Data Scientist                  MilliporeSigma   \n",
       "3           Senior Data Scientist                        Flipkart   \n",
       "4        Associate Data Scientist                  experionglobal   \n",
       "5  Sr. Associate - Data Scientist       CHANGE LEADERS CONSULTING   \n",
       "6           Senior Data Scientist                       GSK India   \n",
       "7                  Data Scientist  Thoucentric Technology Pvt ltd   \n",
       "8                  Data Scientist                          Roposo   \n",
       "9                  Data Scientist            Silent Eight Pte Ltd   \n",
       "\n",
       "                                            location  \n",
       "0                                Bangalore/Bengaluru  \n",
       "1                                Bangalore/Bengaluru  \n",
       "2                                Bangalore/Bengaluru  \n",
       "3                                Bangalore/Bengaluru  \n",
       "4  Kochi/Cochin, Bangalore/Bengaluru, Trivandrum/...  \n",
       "5        Hyderabad/Secunderabad, Bangalore/Bengaluru  \n",
       "6                                Bangalore/Bengaluru  \n",
       "7                 Bangalore/Bengaluru(HSR Layout +2)  \n",
       "8                                Bangalore/Bengaluru  \n",
       "9                                Bangalore/Bengaluru  "
      ]
     },
     "execution_count": 54,
     "metadata": {},
     "output_type": "execute_result"
    }
   ],
   "source": [
    "jobs"
   ]
  },
  {
   "cell_type": "markdown",
   "id": "7c91d496",
   "metadata": {},
   "source": [
    "Q3: In this question you have to scrape data using the filters available on the webpage as shown below:\n",
    "    The task will be done as shown in the below steps:\n",
    "1. first get the webpage https://www.naukri.com/\n",
    "2. Enter “Data Scientist” in “Skill, Designations, and Companies” field.\n",
    "3. Then click the search button.\n",
    "4. Then apply the location filter and salary filter by checking the respective boxes\n",
    "5. Then scrape the data for the first 10 jobs results you get.\n",
    "6. Finally create a dataframe of the scraped data."
   ]
  },
  {
   "cell_type": "code",
   "execution_count": 122,
   "id": "8f35e973",
   "metadata": {},
   "outputs": [],
   "source": [
    "# Lets now import all the required libraries\n",
    "import selenium\n",
    "import pandas as pd\n",
    "from selenium import webdriver\n",
    "import warnings\n",
    "warnings.filterwarnings(\"ignore\")\n",
    "import time"
   ]
  },
  {
   "cell_type": "code",
   "execution_count": 123,
   "id": "8b040cf0",
   "metadata": {},
   "outputs": [],
   "source": [
    "# Lets first connect to the web driver\n",
    "driver = webdriver.Chrome(r\"C:\\Users\\Administrator\\Downloads\\chromedriver_win32\\chromedriver.exe\")"
   ]
  },
  {
   "cell_type": "code",
   "execution_count": 124,
   "id": "c96c6152",
   "metadata": {},
   "outputs": [],
   "source": [
    "driver=webdriver.Chrome(\"chromedriver.exe\")\n",
    "time.sleep(2)"
   ]
  },
  {
   "cell_type": "code",
   "execution_count": 126,
   "id": "a7777ae5",
   "metadata": {},
   "outputs": [],
   "source": [
    "driver.get('https://www.naukri.com')"
   ]
  },
  {
   "cell_type": "code",
   "execution_count": 127,
   "id": "9d5ea913",
   "metadata": {},
   "outputs": [],
   "source": [
    "# Finding element for job search bar\n",
    "search_field_designation=driver.find_element_by_class_name(\"suggestor-input\") #job search bar\n",
    "search_field_designation.send_keys(\"Data Scientist\")\n"
   ]
  },
  {
   "cell_type": "code",
   "execution_count": 128,
   "id": "c8878ce4",
   "metadata": {},
   "outputs": [],
   "source": [
    "search_button=driver.find_element_by_xpath(\"/html/body/div/div[2]/div[3]/div/div/div[6]\")\n",
    "search_button.click()"
   ]
  },
  {
   "cell_type": "code",
   "execution_count": 129,
   "id": "8b5c041d",
   "metadata": {},
   "outputs": [],
   "source": [
    "# Specifying the url of the webpage to be scraped\n",
    "url=\"https://www.naukri.com/data-scientist-jobs?k=data%20scientist\""
   ]
  },
  {
   "cell_type": "code",
   "execution_count": 130,
   "id": "25279978",
   "metadata": {},
   "outputs": [],
   "source": [
    "# Lets open the webpage through our web driver\n",
    "driver.get(url)"
   ]
  },
  {
   "cell_type": "code",
   "execution_count": 131,
   "id": "34c6ba2c",
   "metadata": {},
   "outputs": [],
   "source": [
    "job_titles=[]\n",
    "company_names=[]\n",
    "locations_list=[]\n",
    "experience_list=[]\n",
    "salary_list=[]"
   ]
  },
  {
   "cell_type": "code",
   "execution_count": 132,
   "id": "001b52ec",
   "metadata": {},
   "outputs": [
    {
     "data": {
      "text/plain": [
       "[<selenium.webdriver.remote.webelement.WebElement (session=\"35211edd32ba9deeff0fff625ba0f2be\", element=\"a20c4b78-612e-40fc-81f4-7d7a25809b00\")>,\n",
       " <selenium.webdriver.remote.webelement.WebElement (session=\"35211edd32ba9deeff0fff625ba0f2be\", element=\"86a14d94-bd45-4957-9c63-1ed1c90ad69a\")>,\n",
       " <selenium.webdriver.remote.webelement.WebElement (session=\"35211edd32ba9deeff0fff625ba0f2be\", element=\"4ec7940b-e913-4b6b-beab-d5dbaf600f1d\")>,\n",
       " <selenium.webdriver.remote.webelement.WebElement (session=\"35211edd32ba9deeff0fff625ba0f2be\", element=\"3c1e242c-c958-457c-97b7-679d2703808c\")>,\n",
       " <selenium.webdriver.remote.webelement.WebElement (session=\"35211edd32ba9deeff0fff625ba0f2be\", element=\"4d45ed54-26f9-4ec1-ae87-63c1f9a32b0c\")>,\n",
       " <selenium.webdriver.remote.webelement.WebElement (session=\"35211edd32ba9deeff0fff625ba0f2be\", element=\"8ee4844c-ed2b-4b0f-89fa-c3b7b0cec44b\")>,\n",
       " <selenium.webdriver.remote.webelement.WebElement (session=\"35211edd32ba9deeff0fff625ba0f2be\", element=\"35c7179c-3dc5-4e0a-b747-7d4e4147252b\")>,\n",
       " <selenium.webdriver.remote.webelement.WebElement (session=\"35211edd32ba9deeff0fff625ba0f2be\", element=\"a382e8df-cca6-4f78-b57f-afce1cc9d76c\")>,\n",
       " <selenium.webdriver.remote.webelement.WebElement (session=\"35211edd32ba9deeff0fff625ba0f2be\", element=\"0c192599-6dac-4a5e-8b4a-68952b7207d7\")>,\n",
       " <selenium.webdriver.remote.webelement.WebElement (session=\"35211edd32ba9deeff0fff625ba0f2be\", element=\"0eb1240e-4789-4168-a611-f6c91e12fed8\")>]"
      ]
     },
     "execution_count": 132,
     "metadata": {},
     "output_type": "execute_result"
    }
   ],
   "source": [
    "# So lets extract all the tags having the job-titles\n",
    "titles_tags=driver.find_elements_by_xpath(\"//a[@class='title fw500 ellipsis']\")\n",
    "titles_tags[0:10]\n"
   ]
  },
  {
   "cell_type": "code",
   "execution_count": 133,
   "id": "1802c5a4",
   "metadata": {},
   "outputs": [
    {
     "data": {
      "text/plain": [
       "['Sr. Data Scientist',\n",
       " 'Data Analyst/ Data Scientist Data Analytics & Visualizations',\n",
       " 'Senior Data Scientist',\n",
       " 'Data Scientist',\n",
       " 'Senior Data Scientist',\n",
       " 'Data Analyst / Data Scientist',\n",
       " 'Opening For Data Scientist',\n",
       " 'Data Scientist / Machine learning Engineer',\n",
       " 'Senior Data Scientist',\n",
       " 'Data Scientist']"
      ]
     },
     "execution_count": 133,
     "metadata": {},
     "output_type": "execute_result"
    }
   ],
   "source": [
    "# Now the text of the title is inside the tags extracted above.\n",
    "for i in titles_tags:\n",
    "    title=i.text\n",
    "    job_titles.append(title)\n",
    "job_titles[0:10]"
   ]
  },
  {
   "cell_type": "code",
   "execution_count": 134,
   "id": "ba2fbb17",
   "metadata": {},
   "outputs": [
    {
     "data": {
      "text/plain": [
       "[<selenium.webdriver.remote.webelement.WebElement (session=\"35211edd32ba9deeff0fff625ba0f2be\", element=\"c25a52c6-4faf-49d6-a084-4a7848079f37\")>,\n",
       " <selenium.webdriver.remote.webelement.WebElement (session=\"35211edd32ba9deeff0fff625ba0f2be\", element=\"2bd2f36a-3539-4ba4-a045-cf18bf993bda\")>,\n",
       " <selenium.webdriver.remote.webelement.WebElement (session=\"35211edd32ba9deeff0fff625ba0f2be\", element=\"162caa4a-dfe0-4c93-89de-50afd969eddd\")>,\n",
       " <selenium.webdriver.remote.webelement.WebElement (session=\"35211edd32ba9deeff0fff625ba0f2be\", element=\"96badfb7-ee4a-4a81-9d26-10ccc2293e66\")>,\n",
       " <selenium.webdriver.remote.webelement.WebElement (session=\"35211edd32ba9deeff0fff625ba0f2be\", element=\"43f3f350-6dc9-4f7a-af41-f30559c3cf31\")>,\n",
       " <selenium.webdriver.remote.webelement.WebElement (session=\"35211edd32ba9deeff0fff625ba0f2be\", element=\"1e33d54a-e414-4fd6-80e0-0938acc9b470\")>,\n",
       " <selenium.webdriver.remote.webelement.WebElement (session=\"35211edd32ba9deeff0fff625ba0f2be\", element=\"9dbaeca2-b833-4d28-bc98-ddf43f473409\")>,\n",
       " <selenium.webdriver.remote.webelement.WebElement (session=\"35211edd32ba9deeff0fff625ba0f2be\", element=\"0154c146-8ddb-4687-9805-956be72840f8\")>,\n",
       " <selenium.webdriver.remote.webelement.WebElement (session=\"35211edd32ba9deeff0fff625ba0f2be\", element=\"d5c7b101-dbec-4b85-bb77-888627f52c0e\")>,\n",
       " <selenium.webdriver.remote.webelement.WebElement (session=\"35211edd32ba9deeff0fff625ba0f2be\", element=\"d453157f-f69c-4df0-aaf6-c646e2950814\")>]"
      ]
     },
     "execution_count": 134,
     "metadata": {},
     "output_type": "execute_result"
    }
   ],
   "source": [
    "# So lets extract all the tags having the company names\n",
    "companies_tags=driver.find_elements_by_xpath(\"//a[@class='subTitle ellipsis fleft']\")\n",
    "companies_tags[0:10]"
   ]
  },
  {
   "cell_type": "code",
   "execution_count": 135,
   "id": "ed45e5fa",
   "metadata": {},
   "outputs": [
    {
     "data": {
      "text/plain": [
       "['Thales',\n",
       " 'SGS GLOBAL SERVICES PRIVATE LIMITED',\n",
       " 'Synaptic',\n",
       " 'Genpact',\n",
       " 'Michelin',\n",
       " 'JK Technosoft',\n",
       " 'Care Health Insurance',\n",
       " 'Leading US MNC into Analytics',\n",
       " 'GSK India',\n",
       " 'Applied Materials']"
      ]
     },
     "execution_count": 135,
     "metadata": {},
     "output_type": "execute_result"
    }
   ],
   "source": [
    "for i in companies_tags:\n",
    "    company_name=i.text\n",
    "    company_names.append(company_name)\n",
    "company_names[0:10]"
   ]
  },
  {
   "cell_type": "code",
   "execution_count": 136,
   "id": "d8cf69d2",
   "metadata": {},
   "outputs": [
    {
     "data": {
      "text/plain": [
       "[<selenium.webdriver.remote.webelement.WebElement (session=\"35211edd32ba9deeff0fff625ba0f2be\", element=\"84e9b826-0649-45e6-b091-11380646b832\")>,\n",
       " <selenium.webdriver.remote.webelement.WebElement (session=\"35211edd32ba9deeff0fff625ba0f2be\", element=\"44b475ac-8ffd-4de3-b292-a6b192d05bf6\")>,\n",
       " <selenium.webdriver.remote.webelement.WebElement (session=\"35211edd32ba9deeff0fff625ba0f2be\", element=\"913bca57-30c7-4a1c-b32c-ab2aab8d4bb6\")>,\n",
       " <selenium.webdriver.remote.webelement.WebElement (session=\"35211edd32ba9deeff0fff625ba0f2be\", element=\"ea5c505e-58c7-489b-96df-150da6914dd6\")>,\n",
       " <selenium.webdriver.remote.webelement.WebElement (session=\"35211edd32ba9deeff0fff625ba0f2be\", element=\"1269c3db-ea80-4f60-921d-971994f8aa92\")>,\n",
       " <selenium.webdriver.remote.webelement.WebElement (session=\"35211edd32ba9deeff0fff625ba0f2be\", element=\"e8ba49bc-cf58-473a-b306-3d1d3fd32e0b\")>,\n",
       " <selenium.webdriver.remote.webelement.WebElement (session=\"35211edd32ba9deeff0fff625ba0f2be\", element=\"29a6e0ad-b645-4e27-a084-7fa6aa05e69c\")>,\n",
       " <selenium.webdriver.remote.webelement.WebElement (session=\"35211edd32ba9deeff0fff625ba0f2be\", element=\"7034b75f-8cee-4d40-b893-ef09b34b7af7\")>,\n",
       " <selenium.webdriver.remote.webelement.WebElement (session=\"35211edd32ba9deeff0fff625ba0f2be\", element=\"093c7265-59b2-474d-8367-b298db913374\")>,\n",
       " <selenium.webdriver.remote.webelement.WebElement (session=\"35211edd32ba9deeff0fff625ba0f2be\", element=\"36246968-5a06-48c3-90ae-d37615ba8103\")>]"
      ]
     },
     "execution_count": 136,
     "metadata": {},
     "output_type": "execute_result"
    }
   ],
   "source": [
    "# so lets extract all the tags having the experience required data\n",
    "\n",
    "experience_tags=driver.find_elements_by_xpath(\"//li[@class='fleft grey-text br2 placeHolderLi experience']/span[1]\")\n",
    "experience_tags[0:10]"
   ]
  },
  {
   "cell_type": "code",
   "execution_count": 137,
   "id": "3aeb7bc9",
   "metadata": {},
   "outputs": [
    {
     "data": {
      "text/plain": [
       "['3-7 Yrs',\n",
       " '2-4 Yrs',\n",
       " '3-7 Yrs',\n",
       " '7-12 Yrs',\n",
       " '3-7 Yrs',\n",
       " '5-7 Yrs',\n",
       " '1-5 Yrs',\n",
       " '2-7 Yrs',\n",
       " '5-9 Yrs',\n",
       " '2-7 Yrs']"
      ]
     },
     "execution_count": 137,
     "metadata": {},
     "output_type": "execute_result"
    }
   ],
   "source": [
    "for i in experience_tags:\n",
    "    experience=i.text\n",
    "    experience_list.append(experience)\n",
    "experience_list[0:10]"
   ]
  },
  {
   "cell_type": "code",
   "execution_count": 138,
   "id": "05c615c2",
   "metadata": {},
   "outputs": [
    {
     "data": {
      "text/plain": [
       "[<selenium.webdriver.remote.webelement.WebElement (session=\"35211edd32ba9deeff0fff625ba0f2be\", element=\"d3b0d207-3c33-47f0-bffe-1e502198a417\")>,\n",
       " <selenium.webdriver.remote.webelement.WebElement (session=\"35211edd32ba9deeff0fff625ba0f2be\", element=\"7b97fbee-0fb9-442d-87c5-5c95699910b8\")>,\n",
       " <selenium.webdriver.remote.webelement.WebElement (session=\"35211edd32ba9deeff0fff625ba0f2be\", element=\"19d0b9d1-0230-4a01-b77a-a54b1c0e47d0\")>,\n",
       " <selenium.webdriver.remote.webelement.WebElement (session=\"35211edd32ba9deeff0fff625ba0f2be\", element=\"17e7cc06-12ff-47ee-9b28-f4f089c34556\")>,\n",
       " <selenium.webdriver.remote.webelement.WebElement (session=\"35211edd32ba9deeff0fff625ba0f2be\", element=\"f404fc73-636a-4608-9b36-3fc773966cbe\")>,\n",
       " <selenium.webdriver.remote.webelement.WebElement (session=\"35211edd32ba9deeff0fff625ba0f2be\", element=\"7067422a-5ab7-4297-a052-12503d4503b6\")>,\n",
       " <selenium.webdriver.remote.webelement.WebElement (session=\"35211edd32ba9deeff0fff625ba0f2be\", element=\"06116e89-7c7b-491f-81b8-b63ab8b960f6\")>,\n",
       " <selenium.webdriver.remote.webelement.WebElement (session=\"35211edd32ba9deeff0fff625ba0f2be\", element=\"6fbb58d0-c36a-45a2-86a8-62ceb7454386\")>,\n",
       " <selenium.webdriver.remote.webelement.WebElement (session=\"35211edd32ba9deeff0fff625ba0f2be\", element=\"49f8a3bd-6b60-4d81-8162-802734d26fd5\")>,\n",
       " <selenium.webdriver.remote.webelement.WebElement (session=\"35211edd32ba9deeff0fff625ba0f2be\", element=\"04be0589-3bd6-4d43-9856-5b0cfb6872e3\")>]"
      ]
     },
     "execution_count": 138,
     "metadata": {},
     "output_type": "execute_result"
    }
   ],
   "source": [
    "location_tags=driver.find_elements_by_xpath(\"//li[@class='fleft grey-text br2 placeHolderLi location']/span[1]\")\n",
    "location_tags[0:10]"
   ]
  },
  {
   "cell_type": "code",
   "execution_count": 139,
   "id": "04cff2b1",
   "metadata": {},
   "outputs": [
    {
     "data": {
      "text/plain": [
       "['Gurgaon/Gurugram',\n",
       " 'Noida(Sector-2 Noida)',\n",
       " 'Gurgaon/Gurugram',\n",
       " 'Noida, Hyderabad/Secunderabad, Gurgaon/Gurugram, Bangalore/Bengaluru',\n",
       " 'Pune',\n",
       " 'Noida, Hyderabad/Secunderabad, Bangalore/Bengaluru',\n",
       " 'Gurgaon/Gurugram',\n",
       " 'Bangalore/Bengaluru, Delhi / NCR',\n",
       " 'Bangalore/Bengaluru',\n",
       " 'Bangalore/Bengaluru']"
      ]
     },
     "execution_count": 139,
     "metadata": {},
     "output_type": "execute_result"
    }
   ],
   "source": [
    "for i in location_tags :\n",
    "    location=i.text\n",
    "    locations_list.append(location)\n",
    "locations_list[0:10]"
   ]
  },
  {
   "cell_type": "code",
   "execution_count": 140,
   "id": "ab0ecc48",
   "metadata": {},
   "outputs": [
    {
     "data": {
      "text/plain": [
       "[<selenium.webdriver.remote.webelement.WebElement (session=\"35211edd32ba9deeff0fff625ba0f2be\", element=\"c39e951b-dc0e-45db-af6e-46b560c75f35\")>,\n",
       " <selenium.webdriver.remote.webelement.WebElement (session=\"35211edd32ba9deeff0fff625ba0f2be\", element=\"e1b33c63-fe92-43f2-bb9d-d56dfe9e9384\")>,\n",
       " <selenium.webdriver.remote.webelement.WebElement (session=\"35211edd32ba9deeff0fff625ba0f2be\", element=\"a8e08e4b-e4bf-43eb-81d7-40dc66f927b9\")>,\n",
       " <selenium.webdriver.remote.webelement.WebElement (session=\"35211edd32ba9deeff0fff625ba0f2be\", element=\"789981d7-238e-4f6a-8acc-d78e26db9bb9\")>,\n",
       " <selenium.webdriver.remote.webelement.WebElement (session=\"35211edd32ba9deeff0fff625ba0f2be\", element=\"f0dbca33-4f1f-461c-bb37-83058c4ec9a2\")>,\n",
       " <selenium.webdriver.remote.webelement.WebElement (session=\"35211edd32ba9deeff0fff625ba0f2be\", element=\"44a26f4e-b8e9-4466-ae24-6b226928b498\")>,\n",
       " <selenium.webdriver.remote.webelement.WebElement (session=\"35211edd32ba9deeff0fff625ba0f2be\", element=\"f93d04d7-0631-4a88-835f-4f4d24b127ec\")>,\n",
       " <selenium.webdriver.remote.webelement.WebElement (session=\"35211edd32ba9deeff0fff625ba0f2be\", element=\"44430119-8092-416e-8fff-8cd709e7a013\")>,\n",
       " <selenium.webdriver.remote.webelement.WebElement (session=\"35211edd32ba9deeff0fff625ba0f2be\", element=\"f29590bf-74e9-4e2e-b41e-c72f7615709a\")>,\n",
       " <selenium.webdriver.remote.webelement.WebElement (session=\"35211edd32ba9deeff0fff625ba0f2be\", element=\"d7866bad-04ff-49a1-9461-f94c4ef54d10\")>]"
      ]
     },
     "execution_count": 140,
     "metadata": {},
     "output_type": "execute_result"
    }
   ],
   "source": [
    "salary_tags=driver.find_elements_by_xpath(\"//li[@class='fleft grey-text br2 placeHolderLi salary']/span[1]\")\n",
    "salary_tags[0:10]"
   ]
  },
  {
   "cell_type": "code",
   "execution_count": 141,
   "id": "29ebe943",
   "metadata": {},
   "outputs": [
    {
     "data": {
      "text/plain": [
       "['Not disclosed',\n",
       " '7,50,000 - 12,00,000 PA.',\n",
       " 'Not disclosed',\n",
       " 'Not disclosed',\n",
       " 'Not disclosed',\n",
       " 'Not disclosed',\n",
       " '3,00,000 - 7,00,000 PA.',\n",
       " '15,00,000 - 25,00,000 PA.',\n",
       " 'Not disclosed',\n",
       " 'Not disclosed']"
      ]
     },
     "execution_count": 141,
     "metadata": {},
     "output_type": "execute_result"
    }
   ],
   "source": [
    "for i in salary_tags :\n",
    "    salary=i.text\n",
    "    salary_list.append(salary)\n",
    "salary_list[0:10]"
   ]
  },
  {
   "cell_type": "code",
   "execution_count": 144,
   "id": "8ca9084d",
   "metadata": {},
   "outputs": [],
   "source": [
    "#So lets check th length of ech element.\n",
    "#Import pandas as pd\n",
    "jobs=pd.DataFrame({})\n",
    "jobs['Title']=job_titles[:10]\n",
    "jobs['Company']=company_names[:10]\n",
    "jobs['Experience_required']=experience_list[:10]\n",
    "jobs['Location']=locations_list[:10]\n",
    "jobs['Salary']=salary_list[:10]"
   ]
  },
  {
   "cell_type": "code",
   "execution_count": 145,
   "id": "e187203c",
   "metadata": {},
   "outputs": [
    {
     "data": {
      "text/html": [
       "<div>\n",
       "<style scoped>\n",
       "    .dataframe tbody tr th:only-of-type {\n",
       "        vertical-align: middle;\n",
       "    }\n",
       "\n",
       "    .dataframe tbody tr th {\n",
       "        vertical-align: top;\n",
       "    }\n",
       "\n",
       "    .dataframe thead th {\n",
       "        text-align: right;\n",
       "    }\n",
       "</style>\n",
       "<table border=\"1\" class=\"dataframe\">\n",
       "  <thead>\n",
       "    <tr style=\"text-align: right;\">\n",
       "      <th></th>\n",
       "      <th>Title</th>\n",
       "      <th>Company</th>\n",
       "      <th>Experience_required</th>\n",
       "      <th>Location</th>\n",
       "      <th>Salary</th>\n",
       "    </tr>\n",
       "  </thead>\n",
       "  <tbody>\n",
       "    <tr>\n",
       "      <th>0</th>\n",
       "      <td>Sr. Data Scientist</td>\n",
       "      <td>Thales</td>\n",
       "      <td>3-7 Yrs</td>\n",
       "      <td>Gurgaon/Gurugram</td>\n",
       "      <td>Not disclosed</td>\n",
       "    </tr>\n",
       "    <tr>\n",
       "      <th>1</th>\n",
       "      <td>Data Analyst/ Data Scientist Data Analytics &amp; ...</td>\n",
       "      <td>SGS GLOBAL SERVICES PRIVATE LIMITED</td>\n",
       "      <td>2-4 Yrs</td>\n",
       "      <td>Noida(Sector-2 Noida)</td>\n",
       "      <td>7,50,000 - 12,00,000 PA.</td>\n",
       "    </tr>\n",
       "    <tr>\n",
       "      <th>2</th>\n",
       "      <td>Senior Data Scientist</td>\n",
       "      <td>Synaptic</td>\n",
       "      <td>3-7 Yrs</td>\n",
       "      <td>Gurgaon/Gurugram</td>\n",
       "      <td>Not disclosed</td>\n",
       "    </tr>\n",
       "    <tr>\n",
       "      <th>3</th>\n",
       "      <td>Data Scientist</td>\n",
       "      <td>Genpact</td>\n",
       "      <td>7-12 Yrs</td>\n",
       "      <td>Noida, Hyderabad/Secunderabad, Gurgaon/Gurugra...</td>\n",
       "      <td>Not disclosed</td>\n",
       "    </tr>\n",
       "    <tr>\n",
       "      <th>4</th>\n",
       "      <td>Senior Data Scientist</td>\n",
       "      <td>Michelin</td>\n",
       "      <td>3-7 Yrs</td>\n",
       "      <td>Pune</td>\n",
       "      <td>Not disclosed</td>\n",
       "    </tr>\n",
       "    <tr>\n",
       "      <th>5</th>\n",
       "      <td>Data Analyst / Data Scientist</td>\n",
       "      <td>JK Technosoft</td>\n",
       "      <td>5-7 Yrs</td>\n",
       "      <td>Noida, Hyderabad/Secunderabad, Bangalore/Benga...</td>\n",
       "      <td>Not disclosed</td>\n",
       "    </tr>\n",
       "    <tr>\n",
       "      <th>6</th>\n",
       "      <td>Opening For Data Scientist</td>\n",
       "      <td>Care Health Insurance</td>\n",
       "      <td>1-5 Yrs</td>\n",
       "      <td>Gurgaon/Gurugram</td>\n",
       "      <td>3,00,000 - 7,00,000 PA.</td>\n",
       "    </tr>\n",
       "    <tr>\n",
       "      <th>7</th>\n",
       "      <td>Data Scientist / Machine learning Engineer</td>\n",
       "      <td>Leading US MNC into Analytics</td>\n",
       "      <td>2-7 Yrs</td>\n",
       "      <td>Bangalore/Bengaluru, Delhi / NCR</td>\n",
       "      <td>15,00,000 - 25,00,000 PA.</td>\n",
       "    </tr>\n",
       "    <tr>\n",
       "      <th>8</th>\n",
       "      <td>Senior Data Scientist</td>\n",
       "      <td>GSK India</td>\n",
       "      <td>5-9 Yrs</td>\n",
       "      <td>Bangalore/Bengaluru</td>\n",
       "      <td>Not disclosed</td>\n",
       "    </tr>\n",
       "    <tr>\n",
       "      <th>9</th>\n",
       "      <td>Data Scientist</td>\n",
       "      <td>Applied Materials</td>\n",
       "      <td>2-7 Yrs</td>\n",
       "      <td>Bangalore/Bengaluru</td>\n",
       "      <td>Not disclosed</td>\n",
       "    </tr>\n",
       "  </tbody>\n",
       "</table>\n",
       "</div>"
      ],
      "text/plain": [
       "                                               Title  \\\n",
       "0                                 Sr. Data Scientist   \n",
       "1  Data Analyst/ Data Scientist Data Analytics & ...   \n",
       "2                              Senior Data Scientist   \n",
       "3                                     Data Scientist   \n",
       "4                              Senior Data Scientist   \n",
       "5                      Data Analyst / Data Scientist   \n",
       "6                         Opening For Data Scientist   \n",
       "7         Data Scientist / Machine learning Engineer   \n",
       "8                              Senior Data Scientist   \n",
       "9                                     Data Scientist   \n",
       "\n",
       "                               Company Experience_required  \\\n",
       "0                               Thales             3-7 Yrs   \n",
       "1  SGS GLOBAL SERVICES PRIVATE LIMITED             2-4 Yrs   \n",
       "2                             Synaptic             3-7 Yrs   \n",
       "3                              Genpact            7-12 Yrs   \n",
       "4                             Michelin             3-7 Yrs   \n",
       "5                        JK Technosoft             5-7 Yrs   \n",
       "6                Care Health Insurance             1-5 Yrs   \n",
       "7        Leading US MNC into Analytics             2-7 Yrs   \n",
       "8                            GSK India             5-9 Yrs   \n",
       "9                    Applied Materials             2-7 Yrs   \n",
       "\n",
       "                                            Location  \\\n",
       "0                                   Gurgaon/Gurugram   \n",
       "1                              Noida(Sector-2 Noida)   \n",
       "2                                   Gurgaon/Gurugram   \n",
       "3  Noida, Hyderabad/Secunderabad, Gurgaon/Gurugra...   \n",
       "4                                               Pune   \n",
       "5  Noida, Hyderabad/Secunderabad, Bangalore/Benga...   \n",
       "6                                   Gurgaon/Gurugram   \n",
       "7                   Bangalore/Bengaluru, Delhi / NCR   \n",
       "8                                Bangalore/Bengaluru   \n",
       "9                                Bangalore/Bengaluru   \n",
       "\n",
       "                      Salary  \n",
       "0              Not disclosed  \n",
       "1   7,50,000 - 12,00,000 PA.  \n",
       "2              Not disclosed  \n",
       "3              Not disclosed  \n",
       "4              Not disclosed  \n",
       "5              Not disclosed  \n",
       "6    3,00,000 - 7,00,000 PA.  \n",
       "7  15,00,000 - 25,00,000 PA.  \n",
       "8              Not disclosed  \n",
       "9              Not disclosed  "
      ]
     },
     "execution_count": 145,
     "metadata": {},
     "output_type": "execute_result"
    }
   ],
   "source": [
    "jobs"
   ]
  },
  {
   "cell_type": "markdown",
   "id": "03db9c29",
   "metadata": {},
   "source": [
    "Q4: Scrape data of first 100 sunglasses listings on flipkart.com. You have to scrape four attributes:\n",
    "    \n",
    "    "
   ]
  },
  {
   "cell_type": "code",
   "execution_count": 146,
   "id": "3451a91a",
   "metadata": {},
   "outputs": [],
   "source": [
    "# Lets now import all the required libraries\n",
    "import selenium\n",
    "import pandas as pd\n",
    "from selenium import webdriver\n",
    "import warnings\n",
    "warnings.filterwarnings(\"ignore\")\n",
    "import time"
   ]
  },
  {
   "cell_type": "code",
   "execution_count": 147,
   "id": "b2dea7f2",
   "metadata": {},
   "outputs": [],
   "source": [
    "# Lets first connect to the web driver\n",
    "driver = webdriver.Chrome(r\"C:\\Users\\Administrator\\Downloads\\chromedriver_win32\\chromedriver.exe\")"
   ]
  },
  {
   "cell_type": "code",
   "execution_count": 148,
   "id": "9a21eb6d",
   "metadata": {},
   "outputs": [],
   "source": [
    "driver=webdriver.Chrome(\"chromedriver.exe\")\n",
    "time.sleep(2)"
   ]
  },
  {
   "cell_type": "code",
   "execution_count": 150,
   "id": "79298fd2",
   "metadata": {},
   "outputs": [],
   "source": [
    "driver.get('https://www.flipkart.com/')"
   ]
  },
  {
   "cell_type": "code",
   "execution_count": 154,
   "id": "04b7dbda",
   "metadata": {},
   "outputs": [
    {
     "data": {
      "text/plain": [
       "<selenium.webdriver.remote.webelement.WebElement (session=\"e3b81a0c62e69b199248c70efe30a2ec\", element=\"509057e9-2c59-4363-94da-15e36bfacae1\")>"
      ]
     },
     "execution_count": 154,
     "metadata": {},
     "output_type": "execute_result"
    }
   ],
   "source": [
    "# Finding element for search bar\n",
    "search_g= driver.find_element_by_xpath(\"//input[@class='_3704LK']\") \n",
    "search_g"
   ]
  },
  {
   "cell_type": "code",
   "execution_count": 155,
   "id": "3a726150",
   "metadata": {},
   "outputs": [],
   "source": [
    "# write on search bar\n",
    "search_g.send_keys('sunglasses')"
   ]
  },
  {
   "cell_type": "code",
   "execution_count": 156,
   "id": "13e1a048",
   "metadata": {},
   "outputs": [],
   "source": [
    "search_button=driver.find_element_by_xpath(\"//button[@class='L0Z3Pu']\")\n",
    "search_button.click()"
   ]
  },
  {
   "cell_type": "code",
   "execution_count": 157,
   "id": "fa771f84",
   "metadata": {},
   "outputs": [],
   "source": [
    "B_name=[]\n",
    "Price=[]\n",
    "P_desc=[]"
   ]
  },
  {
   "cell_type": "code",
   "execution_count": 158,
   "id": "ec2eabf9",
   "metadata": {},
   "outputs": [],
   "source": [
    "for i in range(3):\n",
    "    b_name=driver.find_elements_by_xpath(\"//div[@class='_2WkVRV']\")\n",
    "   "
   ]
  },
  {
   "cell_type": "code",
   "execution_count": 159,
   "id": "5e55e4b7",
   "metadata": {},
   "outputs": [
    {
     "data": {
      "text/plain": [
       "['john jacobs',\n",
       " 'ROZZETTA CRAFT',\n",
       " 'Elligator',\n",
       " 'New Specs',\n",
       " 'SRPM',\n",
       " 'PIRASO',\n",
       " 'SHAAH COLLECTIONS',\n",
       " 'Singco India',\n",
       " 'GANSTA',\n",
       " 'Fastrack',\n",
       " 'SUNBEE',\n",
       " 'Sewell',\n",
       " 'Lee Topper',\n",
       " 'Elligator',\n",
       " 'Lee Topper',\n",
       " 'Singco India',\n",
       " 'kingsunglasses',\n",
       " 'PIRASO',\n",
       " 'kingsunglasses',\n",
       " 'Singco India',\n",
       " 'PIRASO',\n",
       " 'SRPM',\n",
       " 'PIRASO',\n",
       " 'ROZZETTA CRAFT',\n",
       " 'New Specs',\n",
       " 'PIRASO',\n",
       " 'elegante',\n",
       " 'Sewell',\n",
       " 'SRPM',\n",
       " 'kingsunglasses',\n",
       " 'Fastrack',\n",
       " 'Amour Propre',\n",
       " 'DEIXELS',\n",
       " 'Mi',\n",
       " 'ROZZETTA CRAFT',\n",
       " 'AUTOSITE',\n",
       " 'SUNBEE',\n",
       " 'hipe',\n",
       " 'PHENOMENAL',\n",
       " 'ROZZETTA CRAFT']"
      ]
     },
     "execution_count": 159,
     "metadata": {},
     "output_type": "execute_result"
    }
   ],
   "source": [
    " for j  in b_name:\n",
    "        B_name.append(j.text)\n",
    "B_name[:100]"
   ]
  },
  {
   "cell_type": "code",
   "execution_count": 160,
   "id": "c3930423",
   "metadata": {},
   "outputs": [],
   "source": [
    "for i in range(3): \n",
    "    p_desc=driver.find_elements_by_xpath(\"//a[@class='IRpwTa']\")"
   ]
  },
  {
   "cell_type": "code",
   "execution_count": 161,
   "id": "01857025",
   "metadata": {},
   "outputs": [
    {
     "data": {
      "text/plain": [
       "['Polarized, UV Protection Aviator Sunglasses (53)',\n",
       " 'UV Protection, Gradient Round Sunglasses (Free Size)',\n",
       " 'UV Protection Round Sunglasses (54)',\n",
       " 'UV Protection Rectangular Sunglasses (Free Size)',\n",
       " 'UV Protection Wayfarer Sunglasses (50)',\n",
       " 'UV Protection Aviator Sunglasses (54)',\n",
       " 'UV Protection, Polarized, Mirrored Rectangular Sunglass...',\n",
       " 'UV Protection, Riding Glasses, Others Aviator, Wayfarer...',\n",
       " 'UV Protection, Riding Glasses Wayfarer Sunglasses (53)',\n",
       " 'UV Protection Rectangular Sunglasses (Free Size)',\n",
       " 'UV Protection, Polarized Wayfarer Sunglasses (Free Size...',\n",
       " 'Polarized Butterfly Sunglasses (Free Size)',\n",
       " 'Riding Glasses Wrap-around Sunglasses (Free Size)',\n",
       " 'UV Protection Round Sunglasses (53)',\n",
       " 'UV Protection Rectangular Sunglasses (Free Size)',\n",
       " 'Riding Glasses, UV Protection Clubmaster, Wayfarer Sung...',\n",
       " 'UV Protection, Riding Glasses, Mirrored Wayfarer Sungla...',\n",
       " 'UV Protection Aviator Sunglasses (54)',\n",
       " 'UV Protection Round Sunglasses (Free Size)',\n",
       " 'UV Protection Aviator Sunglasses (45)',\n",
       " 'UV Protection Wayfarer Sunglasses (32)',\n",
       " 'Others Wayfarer, Retro Square Sunglasses (50)',\n",
       " 'UV Protection Aviator Sunglasses (54)',\n",
       " 'UV Protection Aviator Sunglasses (62)',\n",
       " 'Mirrored, UV Protection, Riding Glasses, Others Round S...',\n",
       " 'UV Protection Aviator Sunglasses (58)',\n",
       " 'Polarized, Riding Glasses, Night Vision Sports, Wrap-ar...',\n",
       " 'Polarized Butterfly Sunglasses (Free Size)',\n",
       " 'UV Protection Wayfarer Sunglasses (54)',\n",
       " 'UV Protection Round Sunglasses (54)',\n",
       " 'UV Protection Wayfarer Sunglasses (Free Size)',\n",
       " 'Others Wayfarer Sunglasses (52)',\n",
       " 'UV Protection Aviator, Wayfarer Sunglasses (Free Size)',\n",
       " 'Polarized Aviator Sunglasses (Free Size)',\n",
       " 'UV Protection Retro Square Sunglasses (Free Size)',\n",
       " 'Night Vision Rectangular Sunglasses (63)',\n",
       " 'UV Protection, Polarized, Mirrored Retro Square Sunglas...',\n",
       " 'Mirrored, UV Protection, Gradient Round Sunglasses (55)',\n",
       " 'UV Protection Retro Square Sunglasses (53)',\n",
       " 'UV Protection, Gradient Retro Square Sunglasses (62)']"
      ]
     },
     "execution_count": 161,
     "metadata": {},
     "output_type": "execute_result"
    }
   ],
   "source": [
    "for k in p_desc:\n",
    "        P_desc.append(k.text)\n",
    "P_desc[:100]\n",
    "    "
   ]
  },
  {
   "cell_type": "code",
   "execution_count": 162,
   "id": "d16fd99c",
   "metadata": {},
   "outputs": [],
   "source": [
    "for i in range(3): \n",
    "    price =driver.find_elements_by_xpath(\"//div[@class='_30jeq3']\")\n"
   ]
  },
  {
   "cell_type": "code",
   "execution_count": 163,
   "id": "6139f7a5",
   "metadata": {},
   "outputs": [
    {
     "data": {
      "text/plain": [
       "['₹2,500',\n",
       " '₹342',\n",
       " '₹295',\n",
       " '₹269',\n",
       " '₹249',\n",
       " '₹249',\n",
       " '₹185',\n",
       " '₹217',\n",
       " '₹198',\n",
       " '₹679',\n",
       " '₹273',\n",
       " '₹649',\n",
       " '₹275',\n",
       " '₹229',\n",
       " '₹199',\n",
       " '₹299',\n",
       " '₹209',\n",
       " '₹225',\n",
       " '₹329',\n",
       " '₹329',\n",
       " '₹225',\n",
       " '₹239',\n",
       " '₹225',\n",
       " '₹616',\n",
       " '₹299',\n",
       " '₹399',\n",
       " '₹499',\n",
       " '₹649',\n",
       " '₹197',\n",
       " '₹214',\n",
       " '₹759',\n",
       " '₹162',\n",
       " '₹229',\n",
       " '₹939',\n",
       " '₹474',\n",
       " '₹149',\n",
       " '₹249',\n",
       " '₹170',\n",
       " '₹339',\n",
       " '₹474']"
      ]
     },
     "execution_count": 163,
     "metadata": {},
     "output_type": "execute_result"
    }
   ],
   "source": [
    "for l in price:\n",
    "        Price.append(l.text)\n",
    "Price[:100] "
   ]
  },
  {
   "cell_type": "code",
   "execution_count": 181,
   "id": "10d90ffe",
   "metadata": {},
   "outputs": [
    {
     "name": "stdout",
     "output_type": "stream",
     "text": [
      "40\n",
      "40\n",
      "40\n"
     ]
    },
    {
     "data": {
      "text/plain": [
       "(None, None, None)"
      ]
     },
     "execution_count": 181,
     "metadata": {},
     "output_type": "execute_result"
    }
   ],
   "source": [
    "#So lets check th length of ech element.\n",
    "print(len(B_name[:40])),print(len(Price[:40])),print(len(P_desc[:40]))"
   ]
  },
  {
   "cell_type": "code",
   "execution_count": 182,
   "id": "4c934ae9",
   "metadata": {},
   "outputs": [],
   "source": [
    "#Import pandas as pd\n",
    "sun_gl=pd.DataFrame({})\n",
    "sun_gl['Brand_name']=B_name[:40]\n",
    "sun_gl['P_price']=Price[:40]\n",
    "sun_gl['Pr_desc']=P_desc[:40]"
   ]
  },
  {
   "cell_type": "code",
   "execution_count": 183,
   "id": "9383181c",
   "metadata": {},
   "outputs": [
    {
     "data": {
      "text/html": [
       "<div>\n",
       "<style scoped>\n",
       "    .dataframe tbody tr th:only-of-type {\n",
       "        vertical-align: middle;\n",
       "    }\n",
       "\n",
       "    .dataframe tbody tr th {\n",
       "        vertical-align: top;\n",
       "    }\n",
       "\n",
       "    .dataframe thead th {\n",
       "        text-align: right;\n",
       "    }\n",
       "</style>\n",
       "<table border=\"1\" class=\"dataframe\">\n",
       "  <thead>\n",
       "    <tr style=\"text-align: right;\">\n",
       "      <th></th>\n",
       "      <th>Brand_name</th>\n",
       "      <th>P_price</th>\n",
       "      <th>Pr_desc</th>\n",
       "    </tr>\n",
       "  </thead>\n",
       "  <tbody>\n",
       "    <tr>\n",
       "      <th>0</th>\n",
       "      <td>john jacobs</td>\n",
       "      <td>₹2,500</td>\n",
       "      <td>Polarized, UV Protection Aviator Sunglasses (53)</td>\n",
       "    </tr>\n",
       "    <tr>\n",
       "      <th>1</th>\n",
       "      <td>ROZZETTA CRAFT</td>\n",
       "      <td>₹342</td>\n",
       "      <td>UV Protection, Gradient Round Sunglasses (Free...</td>\n",
       "    </tr>\n",
       "    <tr>\n",
       "      <th>2</th>\n",
       "      <td>Elligator</td>\n",
       "      <td>₹295</td>\n",
       "      <td>UV Protection Round Sunglasses (54)</td>\n",
       "    </tr>\n",
       "    <tr>\n",
       "      <th>3</th>\n",
       "      <td>New Specs</td>\n",
       "      <td>₹269</td>\n",
       "      <td>UV Protection Rectangular Sunglasses (Free Size)</td>\n",
       "    </tr>\n",
       "    <tr>\n",
       "      <th>4</th>\n",
       "      <td>SRPM</td>\n",
       "      <td>₹249</td>\n",
       "      <td>UV Protection Wayfarer Sunglasses (50)</td>\n",
       "    </tr>\n",
       "    <tr>\n",
       "      <th>5</th>\n",
       "      <td>PIRASO</td>\n",
       "      <td>₹249</td>\n",
       "      <td>UV Protection Aviator Sunglasses (54)</td>\n",
       "    </tr>\n",
       "    <tr>\n",
       "      <th>6</th>\n",
       "      <td>SHAAH COLLECTIONS</td>\n",
       "      <td>₹185</td>\n",
       "      <td>UV Protection, Polarized, Mirrored Rectangular...</td>\n",
       "    </tr>\n",
       "    <tr>\n",
       "      <th>7</th>\n",
       "      <td>Singco India</td>\n",
       "      <td>₹217</td>\n",
       "      <td>UV Protection, Riding Glasses, Others Aviator,...</td>\n",
       "    </tr>\n",
       "    <tr>\n",
       "      <th>8</th>\n",
       "      <td>GANSTA</td>\n",
       "      <td>₹198</td>\n",
       "      <td>UV Protection, Riding Glasses Wayfarer Sunglas...</td>\n",
       "    </tr>\n",
       "    <tr>\n",
       "      <th>9</th>\n",
       "      <td>Fastrack</td>\n",
       "      <td>₹679</td>\n",
       "      <td>UV Protection Rectangular Sunglasses (Free Size)</td>\n",
       "    </tr>\n",
       "    <tr>\n",
       "      <th>10</th>\n",
       "      <td>SUNBEE</td>\n",
       "      <td>₹273</td>\n",
       "      <td>UV Protection, Polarized Wayfarer Sunglasses (...</td>\n",
       "    </tr>\n",
       "    <tr>\n",
       "      <th>11</th>\n",
       "      <td>Sewell</td>\n",
       "      <td>₹649</td>\n",
       "      <td>Polarized Butterfly Sunglasses (Free Size)</td>\n",
       "    </tr>\n",
       "    <tr>\n",
       "      <th>12</th>\n",
       "      <td>Lee Topper</td>\n",
       "      <td>₹275</td>\n",
       "      <td>Riding Glasses Wrap-around Sunglasses (Free Size)</td>\n",
       "    </tr>\n",
       "    <tr>\n",
       "      <th>13</th>\n",
       "      <td>Elligator</td>\n",
       "      <td>₹229</td>\n",
       "      <td>UV Protection Round Sunglasses (53)</td>\n",
       "    </tr>\n",
       "    <tr>\n",
       "      <th>14</th>\n",
       "      <td>Lee Topper</td>\n",
       "      <td>₹199</td>\n",
       "      <td>UV Protection Rectangular Sunglasses (Free Size)</td>\n",
       "    </tr>\n",
       "    <tr>\n",
       "      <th>15</th>\n",
       "      <td>Singco India</td>\n",
       "      <td>₹299</td>\n",
       "      <td>Riding Glasses, UV Protection Clubmaster, Wayf...</td>\n",
       "    </tr>\n",
       "    <tr>\n",
       "      <th>16</th>\n",
       "      <td>kingsunglasses</td>\n",
       "      <td>₹209</td>\n",
       "      <td>UV Protection, Riding Glasses, Mirrored Wayfar...</td>\n",
       "    </tr>\n",
       "    <tr>\n",
       "      <th>17</th>\n",
       "      <td>PIRASO</td>\n",
       "      <td>₹225</td>\n",
       "      <td>UV Protection Aviator Sunglasses (54)</td>\n",
       "    </tr>\n",
       "    <tr>\n",
       "      <th>18</th>\n",
       "      <td>kingsunglasses</td>\n",
       "      <td>₹329</td>\n",
       "      <td>UV Protection Round Sunglasses (Free Size)</td>\n",
       "    </tr>\n",
       "    <tr>\n",
       "      <th>19</th>\n",
       "      <td>Singco India</td>\n",
       "      <td>₹329</td>\n",
       "      <td>UV Protection Aviator Sunglasses (45)</td>\n",
       "    </tr>\n",
       "    <tr>\n",
       "      <th>20</th>\n",
       "      <td>PIRASO</td>\n",
       "      <td>₹225</td>\n",
       "      <td>UV Protection Wayfarer Sunglasses (32)</td>\n",
       "    </tr>\n",
       "    <tr>\n",
       "      <th>21</th>\n",
       "      <td>SRPM</td>\n",
       "      <td>₹239</td>\n",
       "      <td>Others Wayfarer, Retro Square Sunglasses (50)</td>\n",
       "    </tr>\n",
       "    <tr>\n",
       "      <th>22</th>\n",
       "      <td>PIRASO</td>\n",
       "      <td>₹225</td>\n",
       "      <td>UV Protection Aviator Sunglasses (54)</td>\n",
       "    </tr>\n",
       "    <tr>\n",
       "      <th>23</th>\n",
       "      <td>ROZZETTA CRAFT</td>\n",
       "      <td>₹616</td>\n",
       "      <td>UV Protection Aviator Sunglasses (62)</td>\n",
       "    </tr>\n",
       "    <tr>\n",
       "      <th>24</th>\n",
       "      <td>New Specs</td>\n",
       "      <td>₹299</td>\n",
       "      <td>Mirrored, UV Protection, Riding Glasses, Other...</td>\n",
       "    </tr>\n",
       "    <tr>\n",
       "      <th>25</th>\n",
       "      <td>PIRASO</td>\n",
       "      <td>₹399</td>\n",
       "      <td>UV Protection Aviator Sunglasses (58)</td>\n",
       "    </tr>\n",
       "    <tr>\n",
       "      <th>26</th>\n",
       "      <td>elegante</td>\n",
       "      <td>₹499</td>\n",
       "      <td>Polarized, Riding Glasses, Night Vision Sports...</td>\n",
       "    </tr>\n",
       "    <tr>\n",
       "      <th>27</th>\n",
       "      <td>Sewell</td>\n",
       "      <td>₹649</td>\n",
       "      <td>Polarized Butterfly Sunglasses (Free Size)</td>\n",
       "    </tr>\n",
       "    <tr>\n",
       "      <th>28</th>\n",
       "      <td>SRPM</td>\n",
       "      <td>₹197</td>\n",
       "      <td>UV Protection Wayfarer Sunglasses (54)</td>\n",
       "    </tr>\n",
       "    <tr>\n",
       "      <th>29</th>\n",
       "      <td>kingsunglasses</td>\n",
       "      <td>₹214</td>\n",
       "      <td>UV Protection Round Sunglasses (54)</td>\n",
       "    </tr>\n",
       "    <tr>\n",
       "      <th>30</th>\n",
       "      <td>Fastrack</td>\n",
       "      <td>₹759</td>\n",
       "      <td>UV Protection Wayfarer Sunglasses (Free Size)</td>\n",
       "    </tr>\n",
       "    <tr>\n",
       "      <th>31</th>\n",
       "      <td>Amour Propre</td>\n",
       "      <td>₹162</td>\n",
       "      <td>Others Wayfarer Sunglasses (52)</td>\n",
       "    </tr>\n",
       "    <tr>\n",
       "      <th>32</th>\n",
       "      <td>DEIXELS</td>\n",
       "      <td>₹229</td>\n",
       "      <td>UV Protection Aviator, Wayfarer Sunglasses (Fr...</td>\n",
       "    </tr>\n",
       "    <tr>\n",
       "      <th>33</th>\n",
       "      <td>Mi</td>\n",
       "      <td>₹939</td>\n",
       "      <td>Polarized Aviator Sunglasses (Free Size)</td>\n",
       "    </tr>\n",
       "    <tr>\n",
       "      <th>34</th>\n",
       "      <td>ROZZETTA CRAFT</td>\n",
       "      <td>₹474</td>\n",
       "      <td>UV Protection Retro Square Sunglasses (Free Size)</td>\n",
       "    </tr>\n",
       "    <tr>\n",
       "      <th>35</th>\n",
       "      <td>AUTOSITE</td>\n",
       "      <td>₹149</td>\n",
       "      <td>Night Vision Rectangular Sunglasses (63)</td>\n",
       "    </tr>\n",
       "    <tr>\n",
       "      <th>36</th>\n",
       "      <td>SUNBEE</td>\n",
       "      <td>₹249</td>\n",
       "      <td>UV Protection, Polarized, Mirrored Retro Squar...</td>\n",
       "    </tr>\n",
       "    <tr>\n",
       "      <th>37</th>\n",
       "      <td>hipe</td>\n",
       "      <td>₹170</td>\n",
       "      <td>Mirrored, UV Protection, Gradient Round Sungla...</td>\n",
       "    </tr>\n",
       "    <tr>\n",
       "      <th>38</th>\n",
       "      <td>PHENOMENAL</td>\n",
       "      <td>₹339</td>\n",
       "      <td>UV Protection Retro Square Sunglasses (53)</td>\n",
       "    </tr>\n",
       "    <tr>\n",
       "      <th>39</th>\n",
       "      <td>ROZZETTA CRAFT</td>\n",
       "      <td>₹474</td>\n",
       "      <td>UV Protection, Gradient Retro Square Sunglasse...</td>\n",
       "    </tr>\n",
       "  </tbody>\n",
       "</table>\n",
       "</div>"
      ],
      "text/plain": [
       "           Brand_name P_price  \\\n",
       "0         john jacobs  ₹2,500   \n",
       "1      ROZZETTA CRAFT    ₹342   \n",
       "2           Elligator    ₹295   \n",
       "3           New Specs    ₹269   \n",
       "4                SRPM    ₹249   \n",
       "5              PIRASO    ₹249   \n",
       "6   SHAAH COLLECTIONS    ₹185   \n",
       "7        Singco India    ₹217   \n",
       "8              GANSTA    ₹198   \n",
       "9            Fastrack    ₹679   \n",
       "10             SUNBEE    ₹273   \n",
       "11             Sewell    ₹649   \n",
       "12         Lee Topper    ₹275   \n",
       "13          Elligator    ₹229   \n",
       "14         Lee Topper    ₹199   \n",
       "15       Singco India    ₹299   \n",
       "16     kingsunglasses    ₹209   \n",
       "17             PIRASO    ₹225   \n",
       "18     kingsunglasses    ₹329   \n",
       "19       Singco India    ₹329   \n",
       "20             PIRASO    ₹225   \n",
       "21               SRPM    ₹239   \n",
       "22             PIRASO    ₹225   \n",
       "23     ROZZETTA CRAFT    ₹616   \n",
       "24          New Specs    ₹299   \n",
       "25             PIRASO    ₹399   \n",
       "26           elegante    ₹499   \n",
       "27             Sewell    ₹649   \n",
       "28               SRPM    ₹197   \n",
       "29     kingsunglasses    ₹214   \n",
       "30           Fastrack    ₹759   \n",
       "31       Amour Propre    ₹162   \n",
       "32            DEIXELS    ₹229   \n",
       "33                 Mi    ₹939   \n",
       "34     ROZZETTA CRAFT    ₹474   \n",
       "35           AUTOSITE    ₹149   \n",
       "36             SUNBEE    ₹249   \n",
       "37               hipe    ₹170   \n",
       "38         PHENOMENAL    ₹339   \n",
       "39     ROZZETTA CRAFT    ₹474   \n",
       "\n",
       "                                              Pr_desc  \n",
       "0    Polarized, UV Protection Aviator Sunglasses (53)  \n",
       "1   UV Protection, Gradient Round Sunglasses (Free...  \n",
       "2                 UV Protection Round Sunglasses (54)  \n",
       "3    UV Protection Rectangular Sunglasses (Free Size)  \n",
       "4              UV Protection Wayfarer Sunglasses (50)  \n",
       "5               UV Protection Aviator Sunglasses (54)  \n",
       "6   UV Protection, Polarized, Mirrored Rectangular...  \n",
       "7   UV Protection, Riding Glasses, Others Aviator,...  \n",
       "8   UV Protection, Riding Glasses Wayfarer Sunglas...  \n",
       "9    UV Protection Rectangular Sunglasses (Free Size)  \n",
       "10  UV Protection, Polarized Wayfarer Sunglasses (...  \n",
       "11         Polarized Butterfly Sunglasses (Free Size)  \n",
       "12  Riding Glasses Wrap-around Sunglasses (Free Size)  \n",
       "13                UV Protection Round Sunglasses (53)  \n",
       "14   UV Protection Rectangular Sunglasses (Free Size)  \n",
       "15  Riding Glasses, UV Protection Clubmaster, Wayf...  \n",
       "16  UV Protection, Riding Glasses, Mirrored Wayfar...  \n",
       "17              UV Protection Aviator Sunglasses (54)  \n",
       "18         UV Protection Round Sunglasses (Free Size)  \n",
       "19              UV Protection Aviator Sunglasses (45)  \n",
       "20             UV Protection Wayfarer Sunglasses (32)  \n",
       "21      Others Wayfarer, Retro Square Sunglasses (50)  \n",
       "22              UV Protection Aviator Sunglasses (54)  \n",
       "23              UV Protection Aviator Sunglasses (62)  \n",
       "24  Mirrored, UV Protection, Riding Glasses, Other...  \n",
       "25              UV Protection Aviator Sunglasses (58)  \n",
       "26  Polarized, Riding Glasses, Night Vision Sports...  \n",
       "27         Polarized Butterfly Sunglasses (Free Size)  \n",
       "28             UV Protection Wayfarer Sunglasses (54)  \n",
       "29                UV Protection Round Sunglasses (54)  \n",
       "30      UV Protection Wayfarer Sunglasses (Free Size)  \n",
       "31                    Others Wayfarer Sunglasses (52)  \n",
       "32  UV Protection Aviator, Wayfarer Sunglasses (Fr...  \n",
       "33           Polarized Aviator Sunglasses (Free Size)  \n",
       "34  UV Protection Retro Square Sunglasses (Free Size)  \n",
       "35           Night Vision Rectangular Sunglasses (63)  \n",
       "36  UV Protection, Polarized, Mirrored Retro Squar...  \n",
       "37  Mirrored, UV Protection, Gradient Round Sungla...  \n",
       "38         UV Protection Retro Square Sunglasses (53)  \n",
       "39  UV Protection, Gradient Retro Square Sunglasse...  "
      ]
     },
     "execution_count": 183,
     "metadata": {},
     "output_type": "execute_result"
    }
   ],
   "source": [
    "sun_gl"
   ]
  },
  {
   "cell_type": "code",
   "execution_count": 175,
   "id": "ce3dad2f",
   "metadata": {},
   "outputs": [],
   "source": [
    "for i in range(3):\n",
    "    b_name=driver.find_elements_by_xpath(\"//div[@class='_2WkVRV']\")\n",
    "    p_desc=driver.find_elements_by_xpath(\"//a[@class='IRpwTa']\")\n",
    "    price =driver.find_elements_by_xpath(\"//div[@class='_30jeq3']\")\n",
    "    \n",
    "    for j  in b_name:\n",
    "        B_name.append(j.text)\n",
    "    B_name[:100]\n",
    "        \n",
    "    for k in p_desc:\n",
    "        P_desc.append(k.text)\n",
    "    P_desc[:100]\n",
    "        \n",
    "    for l in price:\n",
    "        Price.append(l.text)\n",
    "    Price[:100]\n",
    "\n",
    "    "
   ]
  },
  {
   "cell_type": "code",
   "execution_count": 176,
   "id": "3dab28d5",
   "metadata": {},
   "outputs": [
    {
     "data": {
      "text/plain": [
       "['john jacobs',\n",
       " 'ROZZETTA CRAFT',\n",
       " 'Elligator',\n",
       " 'New Specs',\n",
       " 'SRPM',\n",
       " 'PIRASO',\n",
       " 'SHAAH COLLECTIONS',\n",
       " 'Singco India',\n",
       " 'GANSTA',\n",
       " 'Fastrack',\n",
       " 'SUNBEE',\n",
       " 'Sewell',\n",
       " 'Lee Topper',\n",
       " 'Elligator',\n",
       " 'Lee Topper',\n",
       " 'Singco India',\n",
       " 'kingsunglasses',\n",
       " 'PIRASO',\n",
       " 'kingsunglasses',\n",
       " 'Singco India',\n",
       " 'PIRASO',\n",
       " 'SRPM',\n",
       " 'PIRASO',\n",
       " 'ROZZETTA CRAFT',\n",
       " 'New Specs',\n",
       " 'PIRASO',\n",
       " 'elegante',\n",
       " 'Sewell',\n",
       " 'SRPM',\n",
       " 'kingsunglasses',\n",
       " 'Fastrack',\n",
       " 'Amour Propre',\n",
       " 'DEIXELS',\n",
       " 'Mi',\n",
       " 'ROZZETTA CRAFT',\n",
       " 'AUTOSITE',\n",
       " 'SUNBEE',\n",
       " 'hipe',\n",
       " 'PHENOMENAL',\n",
       " 'ROZZETTA CRAFT',\n",
       " 'kingsunglasses',\n",
       " 'kingsunglasses',\n",
       " 'Elligator',\n",
       " 'john jacobs',\n",
       " 'ROYAL SON',\n",
       " 'SHAAH COLLECTIONS',\n",
       " 'ROZZETTA CRAFT',\n",
       " 'ROZZETTA CRAFT',\n",
       " 'Fastrack',\n",
       " 'New Specs',\n",
       " 'SUNBEE',\n",
       " 'Singco India',\n",
       " 'PIRASO',\n",
       " 'NuVew',\n",
       " 'Fastrack',\n",
       " 'Sewell',\n",
       " 'SRPM',\n",
       " 'hipe',\n",
       " 'SHAAH COLLECTIONS',\n",
       " 'Singco India',\n",
       " 'kingsunglasses',\n",
       " 'Fastrack',\n",
       " 'Fastrack',\n",
       " 'Singco India',\n",
       " 'Fastrack',\n",
       " 'Fastrack',\n",
       " 'AISLIN',\n",
       " 'Sewell',\n",
       " 'hipe',\n",
       " 'AISLIN',\n",
       " 'ROZZETTA CRAFT',\n",
       " 'AUTOSITE',\n",
       " 'SRPM',\n",
       " 'Singco India',\n",
       " 'PHENOMENAL',\n",
       " 'Amour Propre',\n",
       " 'AISLIN',\n",
       " 'Elligator',\n",
       " 'elegante',\n",
       " 'ROZZETTA CRAFT',\n",
       " 'kingsunglasses',\n",
       " 'kingsunglasses',\n",
       " 'Elligator',\n",
       " 'john jacobs',\n",
       " 'ROYAL SON',\n",
       " 'SHAAH COLLECTIONS',\n",
       " 'ROZZETTA CRAFT',\n",
       " 'ROZZETTA CRAFT',\n",
       " 'Fastrack',\n",
       " 'New Specs',\n",
       " 'SUNBEE',\n",
       " 'Singco India',\n",
       " 'PIRASO',\n",
       " 'NuVew',\n",
       " 'Fastrack',\n",
       " 'Sewell',\n",
       " 'SRPM',\n",
       " 'hipe',\n",
       " 'SHAAH COLLECTIONS',\n",
       " 'Singco India']"
      ]
     },
     "execution_count": 176,
     "metadata": {},
     "output_type": "execute_result"
    }
   ],
   "source": [
    "B_name[:100]\n"
   ]
  },
  {
   "cell_type": "code",
   "execution_count": 177,
   "id": "4758da3f",
   "metadata": {},
   "outputs": [
    {
     "data": {
      "text/plain": [
       "['Polarized, UV Protection Aviator Sunglasses (53)',\n",
       " 'UV Protection, Gradient Round Sunglasses (Free Size)',\n",
       " 'UV Protection Round Sunglasses (54)',\n",
       " 'UV Protection Rectangular Sunglasses (Free Size)',\n",
       " 'UV Protection Wayfarer Sunglasses (50)',\n",
       " 'UV Protection Aviator Sunglasses (54)',\n",
       " 'UV Protection, Polarized, Mirrored Rectangular Sunglass...',\n",
       " 'UV Protection, Riding Glasses, Others Aviator, Wayfarer...',\n",
       " 'UV Protection, Riding Glasses Wayfarer Sunglasses (53)',\n",
       " 'UV Protection Rectangular Sunglasses (Free Size)',\n",
       " 'UV Protection, Polarized Wayfarer Sunglasses (Free Size...',\n",
       " 'Polarized Butterfly Sunglasses (Free Size)',\n",
       " 'Riding Glasses Wrap-around Sunglasses (Free Size)',\n",
       " 'UV Protection Round Sunglasses (53)',\n",
       " 'UV Protection Rectangular Sunglasses (Free Size)',\n",
       " 'Riding Glasses, UV Protection Clubmaster, Wayfarer Sung...',\n",
       " 'UV Protection, Riding Glasses, Mirrored Wayfarer Sungla...',\n",
       " 'UV Protection Aviator Sunglasses (54)',\n",
       " 'UV Protection Round Sunglasses (Free Size)',\n",
       " 'UV Protection Aviator Sunglasses (45)',\n",
       " 'UV Protection Wayfarer Sunglasses (32)',\n",
       " 'Others Wayfarer, Retro Square Sunglasses (50)',\n",
       " 'UV Protection Aviator Sunglasses (54)',\n",
       " 'UV Protection Aviator Sunglasses (62)',\n",
       " 'Mirrored, UV Protection, Riding Glasses, Others Round S...',\n",
       " 'UV Protection Aviator Sunglasses (58)',\n",
       " 'Polarized, Riding Glasses, Night Vision Sports, Wrap-ar...',\n",
       " 'Polarized Butterfly Sunglasses (Free Size)',\n",
       " 'UV Protection Wayfarer Sunglasses (54)',\n",
       " 'UV Protection Round Sunglasses (54)',\n",
       " 'UV Protection Wayfarer Sunglasses (Free Size)',\n",
       " 'Others Wayfarer Sunglasses (52)',\n",
       " 'UV Protection Aviator, Wayfarer Sunglasses (Free Size)',\n",
       " 'Polarized Aviator Sunglasses (Free Size)',\n",
       " 'UV Protection Retro Square Sunglasses (Free Size)',\n",
       " 'Night Vision Rectangular Sunglasses (63)',\n",
       " 'UV Protection, Polarized, Mirrored Retro Square Sunglas...',\n",
       " 'Mirrored, UV Protection, Gradient Round Sunglasses (55)',\n",
       " 'UV Protection Retro Square Sunglasses (53)',\n",
       " 'UV Protection, Gradient Retro Square Sunglasses (62)',\n",
       " 'UV Protection Round Sunglasses (54)',\n",
       " 'UV Protection Wayfarer Sunglasses (Free Size)',\n",
       " 'UV Protection Wayfarer Sunglasses (50)',\n",
       " 'UV Protection Rectangular Sunglasses (Free Size)',\n",
       " 'UV Protection Aviator Sunglasses (54)',\n",
       " 'UV Protection, Polarized, Mirrored Rectangular Sunglass...',\n",
       " 'UV Protection Rectangular Sunglasses (Free Size)',\n",
       " 'Riding Glasses Wrap-around Sunglasses (Free Size)',\n",
       " 'UV Protection, Polarized Wayfarer Sunglasses (Free Size...',\n",
       " 'UV Protection Round Sunglasses (53)',\n",
       " 'Mirrored, UV Protection, Riding Glasses, Others Round S...',\n",
       " 'UV Protection, Riding Glasses, Mirrored Wayfarer Sungla...',\n",
       " 'UV Protection Rectangular Sunglasses (Free Size)',\n",
       " 'UV Protection Wayfarer Sunglasses (32)',\n",
       " 'Others Wayfarer, Retro Square Sunglasses (50)',\n",
       " 'UV Protection, Riding Glasses Wayfarer Sunglasses (53)',\n",
       " 'UV Protection Aviator Sunglasses (54)',\n",
       " 'Polarized, UV Protection Aviator Sunglasses (53)',\n",
       " 'UV Protection Aviator Sunglasses (58)',\n",
       " 'UV Protection, Mirrored Sports Sunglasses (Free Size)',\n",
       " 'Polarized, Riding Glasses, Night Vision Sports, Wrap-ar...',\n",
       " 'UV Protection, Gradient Round Sunglasses (Free Size)',\n",
       " 'UV Protection Wayfarer Sunglasses (54)',\n",
       " 'UV Protection Wayfarer Sunglasses (Free Size)',\n",
       " 'UV Protection Round Sunglasses (54)',\n",
       " 'UV Protection, Riding Glasses, Others Aviator, Wayfarer...',\n",
       " 'UV Protection Retro Square Sunglasses (Free Size)',\n",
       " 'UV Protection Aviator, Wayfarer Sunglasses (Free Size)',\n",
       " 'UV Protection, Polarized, Mirrored Retro Square Sunglas...',\n",
       " 'UV Protection Aviator Sunglasses (88)',\n",
       " 'UV Protection, Gradient Retro Square Sunglasses (Free S...',\n",
       " 'Mirrored, UV Protection Wayfarer Sunglasses (Free Size)',\n",
       " 'UV Protection, Night Vision Wayfarer Sunglasses (Free S...',\n",
       " 'UV Protection Aviator Sunglasses (50)',\n",
       " 'UV Protection Round Sunglasses (54)',\n",
       " 'UV Protection Wayfarer Sunglasses (Free Size)',\n",
       " 'UV Protection Wayfarer Sunglasses (50)',\n",
       " 'UV Protection Rectangular Sunglasses (Free Size)',\n",
       " 'UV Protection Aviator Sunglasses (54)',\n",
       " 'UV Protection, Polarized, Mirrored Rectangular Sunglass...',\n",
       " 'UV Protection Rectangular Sunglasses (Free Size)',\n",
       " 'Riding Glasses Wrap-around Sunglasses (Free Size)',\n",
       " 'UV Protection, Polarized Wayfarer Sunglasses (Free Size...',\n",
       " 'UV Protection Round Sunglasses (53)',\n",
       " 'Mirrored, UV Protection, Riding Glasses, Others Round S...',\n",
       " 'UV Protection, Riding Glasses, Mirrored Wayfarer Sungla...',\n",
       " 'UV Protection Rectangular Sunglasses (Free Size)',\n",
       " 'UV Protection Wayfarer Sunglasses (32)',\n",
       " 'Others Wayfarer, Retro Square Sunglasses (50)',\n",
       " 'UV Protection, Riding Glasses Wayfarer Sunglasses (53)',\n",
       " 'UV Protection Aviator Sunglasses (54)',\n",
       " 'Polarized, UV Protection Aviator Sunglasses (53)',\n",
       " 'UV Protection Aviator Sunglasses (58)',\n",
       " 'UV Protection, Mirrored Sports Sunglasses (Free Size)',\n",
       " 'Polarized, Riding Glasses, Night Vision Sports, Wrap-ar...',\n",
       " 'UV Protection, Gradient Round Sunglasses (Free Size)',\n",
       " 'UV Protection Wayfarer Sunglasses (54)',\n",
       " 'UV Protection Wayfarer Sunglasses (Free Size)',\n",
       " 'UV Protection Round Sunglasses (54)',\n",
       " 'UV Protection, Riding Glasses, Others Aviator, Wayfarer...']"
      ]
     },
     "execution_count": 177,
     "metadata": {},
     "output_type": "execute_result"
    }
   ],
   "source": [
    "P_desc[:100]"
   ]
  },
  {
   "cell_type": "code",
   "execution_count": 178,
   "id": "b4a3bf31",
   "metadata": {},
   "outputs": [
    {
     "data": {
      "text/plain": [
       "['₹2,500',\n",
       " '₹342',\n",
       " '₹295',\n",
       " '₹269',\n",
       " '₹249',\n",
       " '₹249',\n",
       " '₹185',\n",
       " '₹217',\n",
       " '₹198',\n",
       " '₹679',\n",
       " '₹273',\n",
       " '₹649',\n",
       " '₹275',\n",
       " '₹229',\n",
       " '₹199',\n",
       " '₹299',\n",
       " '₹209',\n",
       " '₹225',\n",
       " '₹329',\n",
       " '₹329',\n",
       " '₹225',\n",
       " '₹239',\n",
       " '₹225',\n",
       " '₹616',\n",
       " '₹299',\n",
       " '₹399',\n",
       " '₹499',\n",
       " '₹649',\n",
       " '₹197',\n",
       " '₹214',\n",
       " '₹759',\n",
       " '₹162',\n",
       " '₹229',\n",
       " '₹939',\n",
       " '₹474',\n",
       " '₹149',\n",
       " '₹249',\n",
       " '₹170',\n",
       " '₹339',\n",
       " '₹474',\n",
       " '₹232',\n",
       " '₹303',\n",
       " '₹295',\n",
       " '₹759',\n",
       " '₹249',\n",
       " '₹269',\n",
       " '₹249',\n",
       " '₹590',\n",
       " '₹185',\n",
       " '₹679',\n",
       " '₹275',\n",
       " '₹272',\n",
       " '₹273',\n",
       " '₹229',\n",
       " '₹299',\n",
       " '₹323',\n",
       " '₹209',\n",
       " '₹199',\n",
       " '₹225',\n",
       " '₹569',\n",
       " '₹239',\n",
       " '₹198',\n",
       " '₹225',\n",
       " '₹2,500',\n",
       " '₹399',\n",
       " '₹185',\n",
       " '₹499',\n",
       " '₹342',\n",
       " '₹197',\n",
       " '₹759',\n",
       " '₹214',\n",
       " '₹217',\n",
       " '₹474',\n",
       " '₹229',\n",
       " '₹249',\n",
       " '₹320',\n",
       " '₹307',\n",
       " '₹269',\n",
       " '₹299',\n",
       " '₹313',\n",
       " '₹232',\n",
       " '₹303',\n",
       " '₹295',\n",
       " '₹759',\n",
       " '₹249',\n",
       " '₹269',\n",
       " '₹249',\n",
       " '₹590',\n",
       " '₹185',\n",
       " '₹679',\n",
       " '₹275',\n",
       " '₹272',\n",
       " '₹273',\n",
       " '₹229',\n",
       " '₹299',\n",
       " '₹323',\n",
       " '₹209',\n",
       " '₹199',\n",
       " '₹225',\n",
       " '₹569']"
      ]
     },
     "execution_count": 178,
     "metadata": {},
     "output_type": "execute_result"
    }
   ],
   "source": [
    "Price[:100]"
   ]
  },
  {
   "cell_type": "code",
   "execution_count": 179,
   "id": "148152e3",
   "metadata": {},
   "outputs": [],
   "source": [
    "#Import pandas as pd\n",
    "sun_gl=pd.DataFrame({})\n",
    "sun_gl['Brand_name']=B_name[:100]\n",
    "sun_gl['P_price']=Price[:100]\n",
    "sun_gl['Pr_desc']=P_desc[:100]"
   ]
  },
  {
   "cell_type": "code",
   "execution_count": 180,
   "id": "79211cf1",
   "metadata": {},
   "outputs": [
    {
     "data": {
      "text/html": [
       "<div>\n",
       "<style scoped>\n",
       "    .dataframe tbody tr th:only-of-type {\n",
       "        vertical-align: middle;\n",
       "    }\n",
       "\n",
       "    .dataframe tbody tr th {\n",
       "        vertical-align: top;\n",
       "    }\n",
       "\n",
       "    .dataframe thead th {\n",
       "        text-align: right;\n",
       "    }\n",
       "</style>\n",
       "<table border=\"1\" class=\"dataframe\">\n",
       "  <thead>\n",
       "    <tr style=\"text-align: right;\">\n",
       "      <th></th>\n",
       "      <th>Brand_name</th>\n",
       "      <th>P_price</th>\n",
       "      <th>Pr_desc</th>\n",
       "    </tr>\n",
       "  </thead>\n",
       "  <tbody>\n",
       "    <tr>\n",
       "      <th>0</th>\n",
       "      <td>john jacobs</td>\n",
       "      <td>₹2,500</td>\n",
       "      <td>Polarized, UV Protection Aviator Sunglasses (53)</td>\n",
       "    </tr>\n",
       "    <tr>\n",
       "      <th>1</th>\n",
       "      <td>ROZZETTA CRAFT</td>\n",
       "      <td>₹342</td>\n",
       "      <td>UV Protection, Gradient Round Sunglasses (Free...</td>\n",
       "    </tr>\n",
       "    <tr>\n",
       "      <th>2</th>\n",
       "      <td>Elligator</td>\n",
       "      <td>₹295</td>\n",
       "      <td>UV Protection Round Sunglasses (54)</td>\n",
       "    </tr>\n",
       "    <tr>\n",
       "      <th>3</th>\n",
       "      <td>New Specs</td>\n",
       "      <td>₹269</td>\n",
       "      <td>UV Protection Rectangular Sunglasses (Free Size)</td>\n",
       "    </tr>\n",
       "    <tr>\n",
       "      <th>4</th>\n",
       "      <td>SRPM</td>\n",
       "      <td>₹249</td>\n",
       "      <td>UV Protection Wayfarer Sunglasses (50)</td>\n",
       "    </tr>\n",
       "    <tr>\n",
       "      <th>...</th>\n",
       "      <td>...</td>\n",
       "      <td>...</td>\n",
       "      <td>...</td>\n",
       "    </tr>\n",
       "    <tr>\n",
       "      <th>95</th>\n",
       "      <td>Sewell</td>\n",
       "      <td>₹323</td>\n",
       "      <td>UV Protection, Gradient Round Sunglasses (Free...</td>\n",
       "    </tr>\n",
       "    <tr>\n",
       "      <th>96</th>\n",
       "      <td>SRPM</td>\n",
       "      <td>₹209</td>\n",
       "      <td>UV Protection Wayfarer Sunglasses (54)</td>\n",
       "    </tr>\n",
       "    <tr>\n",
       "      <th>97</th>\n",
       "      <td>hipe</td>\n",
       "      <td>₹199</td>\n",
       "      <td>UV Protection Wayfarer Sunglasses (Free Size)</td>\n",
       "    </tr>\n",
       "    <tr>\n",
       "      <th>98</th>\n",
       "      <td>SHAAH COLLECTIONS</td>\n",
       "      <td>₹225</td>\n",
       "      <td>UV Protection Round Sunglasses (54)</td>\n",
       "    </tr>\n",
       "    <tr>\n",
       "      <th>99</th>\n",
       "      <td>Singco India</td>\n",
       "      <td>₹569</td>\n",
       "      <td>UV Protection, Riding Glasses, Others Aviator,...</td>\n",
       "    </tr>\n",
       "  </tbody>\n",
       "</table>\n",
       "<p>100 rows × 3 columns</p>\n",
       "</div>"
      ],
      "text/plain": [
       "           Brand_name P_price  \\\n",
       "0         john jacobs  ₹2,500   \n",
       "1      ROZZETTA CRAFT    ₹342   \n",
       "2           Elligator    ₹295   \n",
       "3           New Specs    ₹269   \n",
       "4                SRPM    ₹249   \n",
       "..                ...     ...   \n",
       "95             Sewell    ₹323   \n",
       "96               SRPM    ₹209   \n",
       "97               hipe    ₹199   \n",
       "98  SHAAH COLLECTIONS    ₹225   \n",
       "99       Singco India    ₹569   \n",
       "\n",
       "                                              Pr_desc  \n",
       "0    Polarized, UV Protection Aviator Sunglasses (53)  \n",
       "1   UV Protection, Gradient Round Sunglasses (Free...  \n",
       "2                 UV Protection Round Sunglasses (54)  \n",
       "3    UV Protection Rectangular Sunglasses (Free Size)  \n",
       "4              UV Protection Wayfarer Sunglasses (50)  \n",
       "..                                                ...  \n",
       "95  UV Protection, Gradient Round Sunglasses (Free...  \n",
       "96             UV Protection Wayfarer Sunglasses (54)  \n",
       "97      UV Protection Wayfarer Sunglasses (Free Size)  \n",
       "98                UV Protection Round Sunglasses (54)  \n",
       "99  UV Protection, Riding Glasses, Others Aviator,...  \n",
       "\n",
       "[100 rows x 3 columns]"
      ]
     },
     "execution_count": 180,
     "metadata": {},
     "output_type": "execute_result"
    }
   ],
   "source": [
    "sun_gl"
   ]
  },
  {
   "cell_type": "markdown",
   "id": "92e68ead",
   "metadata": {},
   "source": [
    "Q6: Scrape data for first 100 sneakers you find when you visit flipkart.com andsearch for “sneakers” in the search field."
   ]
  },
  {
   "cell_type": "code",
   "execution_count": 189,
   "id": "1184eb3a",
   "metadata": {},
   "outputs": [],
   "source": [
    "# Lets now import all the required libraries\n",
    "import selenium\n",
    "import pandas as pd\n",
    "from selenium import webdriver\n",
    "import warnings\n",
    "warnings.filterwarnings(\"ignore\")\n",
    "import time"
   ]
  },
  {
   "cell_type": "code",
   "execution_count": 190,
   "id": "56a2bfff",
   "metadata": {},
   "outputs": [],
   "source": [
    "# Lets first connect to the web driver\n",
    "driver = webdriver.Chrome(r\"C:\\Users\\Administrator\\Downloads\\chromedriver_win32\\chromedriver.exe\")"
   ]
  },
  {
   "cell_type": "code",
   "execution_count": 191,
   "id": "0e478a5c",
   "metadata": {},
   "outputs": [],
   "source": [
    "driver=webdriver.Chrome(\"chromedriver.exe\")\n",
    "time.sleep(2)"
   ]
  },
  {
   "cell_type": "code",
   "execution_count": 192,
   "id": "42984789",
   "metadata": {},
   "outputs": [],
   "source": [
    "driver.get('https://www.flipkart.com/')"
   ]
  },
  {
   "cell_type": "code",
   "execution_count": 193,
   "id": "c0472f10",
   "metadata": {},
   "outputs": [
    {
     "data": {
      "text/plain": [
       "<selenium.webdriver.remote.webelement.WebElement (session=\"921e8951e874fa92a80655d2e9186deb\", element=\"ab2280b3-7af4-4a96-9617-7b02cc8c85a5\")>"
      ]
     },
     "execution_count": 193,
     "metadata": {},
     "output_type": "execute_result"
    }
   ],
   "source": [
    "# Finding element for search bar\n",
    "search_g= driver.find_element_by_xpath(\"//input[@class='_3704LK']\") \n",
    "search_g"
   ]
  },
  {
   "cell_type": "code",
   "execution_count": 194,
   "id": "2ab9789a",
   "metadata": {},
   "outputs": [],
   "source": [
    "# write on search bar\n",
    "search_g.send_keys('sneakers')"
   ]
  },
  {
   "cell_type": "code",
   "execution_count": 195,
   "id": "28827d62",
   "metadata": {},
   "outputs": [],
   "source": [
    "search_button=driver.find_element_by_xpath(\"//button[@class='L0Z3Pu']\")\n",
    "search_button.click()"
   ]
  },
  {
   "cell_type": "code",
   "execution_count": 196,
   "id": "0de03f00",
   "metadata": {},
   "outputs": [],
   "source": [
    "B_name=[]\n",
    "Price=[]\n",
    "P_desc=[]\n",
    "Discount=[]"
   ]
  },
  {
   "cell_type": "code",
   "execution_count": 199,
   "id": "0455fd80",
   "metadata": {},
   "outputs": [],
   "source": [
    "for i in range(3):\n",
    "    b_name=driver.find_elements_by_xpath(\"//div[@class='_2WkVRV']\")\n",
    "    p_desc=driver.find_elements_by_xpath(\"//a[@class='IRpwTa']\")\n",
    "    price =driver.find_elements_by_xpath(\"//div[@class='_30jeq3']\")\n",
    "    discount=driver.find_elements_by_xpath(\"//div[@class='_3Ay6Sb']\")\n",
    "    \n",
    "    for j  in b_name:\n",
    "        B_name.append(j.text)\n",
    "    B_name[:100]    \n",
    "    \n",
    "    \n",
    "    \n",
    "    for k in p_desc:\n",
    "        P_desc.append(k.text)\n",
    "    P_desc[:100] \n",
    "    \n",
    "    \n",
    "    for l in price:\n",
    "        Price.append(l.text)\n",
    "    Price[:100] \n",
    "    \n",
    "    \n",
    "    for t in discount:\n",
    "        Discount.append(t.text)\n",
    "    Discount[:100]"
   ]
  },
  {
   "cell_type": "code",
   "execution_count": 200,
   "id": "1fbf3e8b",
   "metadata": {},
   "outputs": [
    {
     "data": {
      "text/plain": [
       "['Echor',\n",
       " 'HIGHLANDER',\n",
       " 'ASTEROID',\n",
       " 'URBANBOX',\n",
       " 'Magnolia',\n",
       " 'KWIK FIT',\n",
       " 'BRUTON',\n",
       " 'Roadster',\n",
       " 'Chevit',\n",
       " 'Chevit',\n",
       " 'Chevit',\n",
       " 'Echor',\n",
       " 'corsac',\n",
       " 'aadi',\n",
       " 'World Wear Footwear',\n",
       " 'Mr ShoesWala',\n",
       " 'Chevit',\n",
       " 'World Wear Footwear',\n",
       " 'D-SNEAKERZ',\n",
       " 'RapidBox',\n",
       " 'ASTEROID',\n",
       " 'SCATCHITE',\n",
       " 'Layasa',\n",
       " 'Echor',\n",
       " 'Chevit',\n",
       " 'ZF - ALFIYA',\n",
       " 'Labbin',\n",
       " 'RapidBox',\n",
       " 'Shoes Bank',\n",
       " 'Rzisbo',\n",
       " 'CLYMB',\n",
       " 'pollachief',\n",
       " 'World Wear Footwear',\n",
       " 'Hida',\n",
       " 'BRUTON',\n",
       " 'CLYMB',\n",
       " 'Kraasa',\n",
       " 'aadi',\n",
       " 'Kraasa',\n",
       " 'Roadster',\n",
       " 'Echor',\n",
       " 'HIGHLANDER',\n",
       " 'ASTEROID',\n",
       " 'URBANBOX',\n",
       " 'Magnolia',\n",
       " 'KWIK FIT',\n",
       " 'BRUTON',\n",
       " 'Roadster',\n",
       " 'Chevit',\n",
       " 'Chevit',\n",
       " 'Chevit',\n",
       " 'Echor',\n",
       " 'corsac',\n",
       " 'aadi',\n",
       " 'World Wear Footwear',\n",
       " 'Mr ShoesWala',\n",
       " 'Chevit',\n",
       " 'World Wear Footwear',\n",
       " 'D-SNEAKERZ',\n",
       " 'RapidBox',\n",
       " 'ASTEROID',\n",
       " 'SCATCHITE',\n",
       " 'Layasa',\n",
       " 'Echor',\n",
       " 'Chevit',\n",
       " 'ZF - ALFIYA',\n",
       " 'Labbin',\n",
       " 'RapidBox',\n",
       " 'Shoes Bank',\n",
       " 'Rzisbo',\n",
       " 'CLYMB',\n",
       " 'pollachief',\n",
       " 'World Wear Footwear',\n",
       " 'Hida',\n",
       " 'BRUTON',\n",
       " 'CLYMB',\n",
       " 'Kraasa',\n",
       " 'aadi',\n",
       " 'Kraasa',\n",
       " 'Roadster',\n",
       " 'Echor',\n",
       " 'HIGHLANDER',\n",
       " 'ASTEROID',\n",
       " 'URBANBOX',\n",
       " 'Magnolia',\n",
       " 'KWIK FIT',\n",
       " 'BRUTON',\n",
       " 'Roadster',\n",
       " 'Chevit',\n",
       " 'Chevit',\n",
       " 'Chevit',\n",
       " 'Echor',\n",
       " 'corsac',\n",
       " 'aadi',\n",
       " 'World Wear Footwear',\n",
       " 'Mr ShoesWala',\n",
       " 'Chevit',\n",
       " 'World Wear Footwear',\n",
       " 'D-SNEAKERZ',\n",
       " 'RapidBox']"
      ]
     },
     "execution_count": 200,
     "metadata": {},
     "output_type": "execute_result"
    }
   ],
   "source": [
    "B_name[:100]"
   ]
  },
  {
   "cell_type": "code",
   "execution_count": 201,
   "id": "0c1905e7",
   "metadata": {},
   "outputs": [
    {
     "data": {
      "text/plain": [
       "[\"Men's casual shoes sports shoes black sneaker Sneakers ...\",\n",
       " 'Sneakers For Men',\n",
       " \"Original Luxury Branded Fashionable Men's Casual Walkin...\",\n",
       " 'Sneakers For Men',\n",
       " 'Kwik FIT casual sneaker shoes and partywear shoes Casua...',\n",
       " 'Modern Trendy Sneakers Shoes Sneakers For Men',\n",
       " 'Men White Solid Sneakers Sneakers For Men',\n",
       " 'Super Stylish & Trendy Combo Pack of 02 Pairs Sneakers ...',\n",
       " 'Perfect Combo Pack of 02 Pairs Casual Sneakers Outdoor ...',\n",
       " 'Perfect & Affordable Combo Pack of 02 Pairs Sneakers Ou...',\n",
       " \"Men's Casual sneaker shoes running shoes walking shoes ...\",\n",
       " 'STYLISH MENS BLACK SNEAKER Sneakers For Men',\n",
       " 'Sneakers For Men',\n",
       " '5013-Latest Collection Stylish & Trendy of casuals Snea...',\n",
       " \"Men's Casual Shoes in White Color Walking Running Gymwe...\",\n",
       " '516 Trendy Star Perfect Sneakers For Men',\n",
       " '5011-Latest Collection Stylish & Trendy Casual Sneakers...',\n",
       " \"Casual , Partywear Sneakers Shoes For Men's And Boys Wh...\",\n",
       " 'Original Luxury Branded Black Fancy Casual Walking Part...',\n",
       " 'Sneakers Sneakers For Men',\n",
       " 'Sneakers For Men',\n",
       " 'Sneakers For Men',\n",
       " 'Super 445 Fashion Sneakers For Men',\n",
       " 'Sneakers For Men',\n",
       " 'Sneakers For Men',\n",
       " \"White Sneaker For Men's/Boy's Sneakers For Men\",\n",
       " 'Sneakers For Men',\n",
       " 'Sneakers For Men',\n",
       " 'Casual Sneaker for Men Sneakers For Men',\n",
       " 'Men 5014 Latest Collection Stylish Casual Sports Loafer...',\n",
       " 'Combo Pack Of 4 Casual Shoes Loafer Shoes Sneakers For ...',\n",
       " \"Perfect Sports Shoes for Men's Running ,Cycling & Trekk...\",\n",
       " 'Series 7 Sneakers For Men',\n",
       " 'Sneakers For Men',\n",
       " 'Casuals, Canvas, Partywear Sneakers For Men',\n",
       " 'Sneakers For Men',\n",
       " \"Men's casual shoes sports shoes black sneaker Sneakers ...\",\n",
       " 'Sneakers For Men',\n",
       " \"Original Luxury Branded Fashionable Men's Casual Walkin...\",\n",
       " 'Sneakers For Men',\n",
       " 'Kwik FIT casual sneaker shoes and partywear shoes Casua...',\n",
       " 'Modern Trendy Sneakers Shoes Sneakers For Men',\n",
       " 'Men White Solid Sneakers Sneakers For Men',\n",
       " 'Super Stylish & Trendy Combo Pack of 02 Pairs Sneakers ...',\n",
       " 'Perfect Combo Pack of 02 Pairs Casual Sneakers Outdoor ...',\n",
       " 'Perfect & Affordable Combo Pack of 02 Pairs Sneakers Ou...',\n",
       " \"Men's Casual sneaker shoes running shoes walking shoes ...\",\n",
       " 'STYLISH MENS BLACK SNEAKER Sneakers For Men',\n",
       " 'Sneakers For Men',\n",
       " '5013-Latest Collection Stylish & Trendy of casuals Snea...',\n",
       " \"Men's Casual Shoes in White Color Walking Running Gymwe...\",\n",
       " '516 Trendy Star Perfect Sneakers For Men',\n",
       " '5011-Latest Collection Stylish & Trendy Casual Sneakers...',\n",
       " \"Casual , Partywear Sneakers Shoes For Men's And Boys Wh...\",\n",
       " 'Original Luxury Branded Black Fancy Casual Walking Part...',\n",
       " 'Sneakers Sneakers For Men',\n",
       " 'Sneakers For Men',\n",
       " 'Sneakers For Men',\n",
       " 'Super 445 Fashion Sneakers For Men',\n",
       " 'Sneakers For Men',\n",
       " 'Sneakers For Men',\n",
       " \"White Sneaker For Men's/Boy's Sneakers For Men\",\n",
       " 'Sneakers For Men',\n",
       " 'Sneakers For Men',\n",
       " 'Casual Sneaker for Men Sneakers For Men',\n",
       " 'Men 5014 Latest Collection Stylish Casual Sports Loafer...',\n",
       " 'Combo Pack Of 4 Casual Shoes Loafer Shoes Sneakers For ...',\n",
       " \"Perfect Sports Shoes for Men's Running ,Cycling & Trekk...\",\n",
       " 'Series 7 Sneakers For Men',\n",
       " 'Sneakers For Men',\n",
       " 'Casuals, Canvas, Partywear Sneakers For Men',\n",
       " 'Sneakers For Men',\n",
       " \"Men's casual shoes sports shoes black sneaker Sneakers ...\",\n",
       " 'Sneakers For Men',\n",
       " \"Original Luxury Branded Fashionable Men's Casual Walkin...\",\n",
       " 'Sneakers For Men',\n",
       " 'Kwik FIT casual sneaker shoes and partywear shoes Casua...',\n",
       " 'Modern Trendy Sneakers Shoes Sneakers For Men',\n",
       " 'Men White Solid Sneakers Sneakers For Men',\n",
       " 'Super Stylish & Trendy Combo Pack of 02 Pairs Sneakers ...',\n",
       " 'Perfect Combo Pack of 02 Pairs Casual Sneakers Outdoor ...',\n",
       " 'Perfect & Affordable Combo Pack of 02 Pairs Sneakers Ou...',\n",
       " \"Men's Casual sneaker shoes running shoes walking shoes ...\",\n",
       " 'STYLISH MENS BLACK SNEAKER Sneakers For Men',\n",
       " 'Sneakers For Men',\n",
       " '5013-Latest Collection Stylish & Trendy of casuals Snea...',\n",
       " \"Men's Casual Shoes in White Color Walking Running Gymwe...\",\n",
       " '516 Trendy Star Perfect Sneakers For Men',\n",
       " '5011-Latest Collection Stylish & Trendy Casual Sneakers...',\n",
       " \"Casual , Partywear Sneakers Shoes For Men's And Boys Wh...\",\n",
       " 'Original Luxury Branded Black Fancy Casual Walking Part...',\n",
       " 'Sneakers Sneakers For Men',\n",
       " 'Sneakers For Men',\n",
       " 'Sneakers For Men',\n",
       " 'Super 445 Fashion Sneakers For Men',\n",
       " 'Sneakers For Men',\n",
       " 'Sneakers For Men',\n",
       " \"White Sneaker For Men's/Boy's Sneakers For Men\",\n",
       " 'Sneakers For Men',\n",
       " 'Sneakers For Men']"
      ]
     },
     "execution_count": 201,
     "metadata": {},
     "output_type": "execute_result"
    }
   ],
   "source": [
    "P_desc[:100]"
   ]
  },
  {
   "cell_type": "code",
   "execution_count": 202,
   "id": "0d5ab1a1",
   "metadata": {},
   "outputs": [
    {
     "data": {
      "text/plain": [
       "['₹449',\n",
       " '₹669',\n",
       " '₹424',\n",
       " '₹158',\n",
       " '₹374',\n",
       " '₹399',\n",
       " '₹209',\n",
       " '₹1,449',\n",
       " '₹599',\n",
       " '₹544',\n",
       " '₹499',\n",
       " '₹449',\n",
       " '₹449',\n",
       " '₹317',\n",
       " '₹159',\n",
       " '₹435',\n",
       " '₹209',\n",
       " '₹159',\n",
       " '₹249',\n",
       " '₹610',\n",
       " '₹449',\n",
       " '₹348',\n",
       " '₹399',\n",
       " '₹489',\n",
       " '₹399',\n",
       " '₹449',\n",
       " '₹424',\n",
       " '₹670',\n",
       " '₹349',\n",
       " '₹549',\n",
       " '₹534',\n",
       " '₹328',\n",
       " '₹209',\n",
       " '₹566',\n",
       " '₹449',\n",
       " '₹239',\n",
       " '₹394',\n",
       " '₹269',\n",
       " '₹394',\n",
       " '₹1,034',\n",
       " '₹449',\n",
       " '₹669',\n",
       " '₹424',\n",
       " '₹158',\n",
       " '₹374',\n",
       " '₹399',\n",
       " '₹209',\n",
       " '₹1,449',\n",
       " '₹599',\n",
       " '₹544',\n",
       " '₹499',\n",
       " '₹449',\n",
       " '₹449',\n",
       " '₹317',\n",
       " '₹159',\n",
       " '₹435',\n",
       " '₹209',\n",
       " '₹159',\n",
       " '₹249',\n",
       " '₹610',\n",
       " '₹449',\n",
       " '₹348',\n",
       " '₹399',\n",
       " '₹489',\n",
       " '₹399',\n",
       " '₹449',\n",
       " '₹424',\n",
       " '₹670',\n",
       " '₹349',\n",
       " '₹549',\n",
       " '₹534',\n",
       " '₹328',\n",
       " '₹209',\n",
       " '₹566',\n",
       " '₹449',\n",
       " '₹239',\n",
       " '₹394',\n",
       " '₹269',\n",
       " '₹394',\n",
       " '₹1,034',\n",
       " '₹449',\n",
       " '₹669',\n",
       " '₹424',\n",
       " '₹158',\n",
       " '₹374',\n",
       " '₹399',\n",
       " '₹209',\n",
       " '₹1,449',\n",
       " '₹599',\n",
       " '₹544',\n",
       " '₹499',\n",
       " '₹449',\n",
       " '₹449',\n",
       " '₹317',\n",
       " '₹159',\n",
       " '₹435',\n",
       " '₹209',\n",
       " '₹159',\n",
       " '₹249',\n",
       " '₹610']"
      ]
     },
     "execution_count": 202,
     "metadata": {},
     "output_type": "execute_result"
    }
   ],
   "source": [
    "Price[:100]"
   ]
  },
  {
   "cell_type": "code",
   "execution_count": 203,
   "id": "b423e614",
   "metadata": {},
   "outputs": [
    {
     "data": {
      "text/plain": [
       "['70% off',\n",
       " '44% off',\n",
       " '78% off',\n",
       " '84% off',\n",
       " '62% off',\n",
       " '80% off',\n",
       " '83% off',\n",
       " '56% off',\n",
       " '62% off',\n",
       " '76% off',\n",
       " '72% off',\n",
       " '70% off',\n",
       " '70% off',\n",
       " '68% off',\n",
       " '68% off',\n",
       " '56% off',\n",
       " '73% off',\n",
       " '68% off',\n",
       " '62% off',\n",
       " '38% off',\n",
       " '55% off',\n",
       " '65% off',\n",
       " '60% off',\n",
       " '67% off',\n",
       " '20% off',\n",
       " '55% off',\n",
       " '57% off',\n",
       " '32% off',\n",
       " '65% off',\n",
       " '45% off',\n",
       " '64% off',\n",
       " '67% off',\n",
       " '58% off',\n",
       " '43% off',\n",
       " '87% off',\n",
       " '76% off',\n",
       " '60% off',\n",
       " '73% off',\n",
       " '60% off',\n",
       " '65% off',\n",
       " '70% off',\n",
       " '44% off',\n",
       " '78% off',\n",
       " '84% off',\n",
       " '62% off',\n",
       " '80% off',\n",
       " '83% off',\n",
       " '56% off',\n",
       " '62% off',\n",
       " '76% off',\n",
       " '72% off',\n",
       " '70% off',\n",
       " '70% off',\n",
       " '68% off',\n",
       " '68% off',\n",
       " '56% off',\n",
       " '73% off',\n",
       " '68% off',\n",
       " '62% off',\n",
       " '38% off',\n",
       " '55% off',\n",
       " '65% off',\n",
       " '60% off',\n",
       " '67% off',\n",
       " '20% off',\n",
       " '55% off',\n",
       " '57% off',\n",
       " '32% off',\n",
       " '65% off',\n",
       " '45% off',\n",
       " '64% off',\n",
       " '67% off',\n",
       " '58% off',\n",
       " '43% off',\n",
       " '87% off',\n",
       " '76% off',\n",
       " '60% off',\n",
       " '73% off',\n",
       " '60% off',\n",
       " '65% off',\n",
       " '70% off',\n",
       " '44% off',\n",
       " '78% off',\n",
       " '84% off',\n",
       " '62% off',\n",
       " '80% off',\n",
       " '83% off',\n",
       " '56% off',\n",
       " '62% off',\n",
       " '76% off',\n",
       " '72% off',\n",
       " '70% off',\n",
       " '70% off',\n",
       " '68% off',\n",
       " '68% off',\n",
       " '56% off',\n",
       " '73% off',\n",
       " '68% off',\n",
       " '62% off',\n",
       " '38% off']"
      ]
     },
     "execution_count": 203,
     "metadata": {},
     "output_type": "execute_result"
    }
   ],
   "source": [
    "Discount[:100]"
   ]
  },
  {
   "cell_type": "code",
   "execution_count": 204,
   "id": "846abe73",
   "metadata": {},
   "outputs": [],
   "source": [
    "#Import pandas as pd\n",
    "sneakers=pd.DataFrame({})\n",
    "sneakers['Brand_name']=B_name[:100]\n",
    "sneakers['P_price']=Price[:100]\n",
    "sneakers['Pr_desc']=P_desc[:100]"
   ]
  },
  {
   "cell_type": "code",
   "execution_count": 205,
   "id": "913c60c9",
   "metadata": {},
   "outputs": [
    {
     "data": {
      "text/html": [
       "<div>\n",
       "<style scoped>\n",
       "    .dataframe tbody tr th:only-of-type {\n",
       "        vertical-align: middle;\n",
       "    }\n",
       "\n",
       "    .dataframe tbody tr th {\n",
       "        vertical-align: top;\n",
       "    }\n",
       "\n",
       "    .dataframe thead th {\n",
       "        text-align: right;\n",
       "    }\n",
       "</style>\n",
       "<table border=\"1\" class=\"dataframe\">\n",
       "  <thead>\n",
       "    <tr style=\"text-align: right;\">\n",
       "      <th></th>\n",
       "      <th>Brand_name</th>\n",
       "      <th>P_price</th>\n",
       "      <th>Pr_desc</th>\n",
       "    </tr>\n",
       "  </thead>\n",
       "  <tbody>\n",
       "    <tr>\n",
       "      <th>0</th>\n",
       "      <td>Echor</td>\n",
       "      <td>₹449</td>\n",
       "      <td>Men's casual shoes sports shoes black sneaker ...</td>\n",
       "    </tr>\n",
       "    <tr>\n",
       "      <th>1</th>\n",
       "      <td>HIGHLANDER</td>\n",
       "      <td>₹669</td>\n",
       "      <td>Sneakers For Men</td>\n",
       "    </tr>\n",
       "    <tr>\n",
       "      <th>2</th>\n",
       "      <td>ASTEROID</td>\n",
       "      <td>₹424</td>\n",
       "      <td>Original Luxury Branded Fashionable Men's Casu...</td>\n",
       "    </tr>\n",
       "    <tr>\n",
       "      <th>3</th>\n",
       "      <td>URBANBOX</td>\n",
       "      <td>₹158</td>\n",
       "      <td>Sneakers For Men</td>\n",
       "    </tr>\n",
       "    <tr>\n",
       "      <th>4</th>\n",
       "      <td>Magnolia</td>\n",
       "      <td>₹374</td>\n",
       "      <td>Kwik FIT casual sneaker shoes and partywear sh...</td>\n",
       "    </tr>\n",
       "    <tr>\n",
       "      <th>...</th>\n",
       "      <td>...</td>\n",
       "      <td>...</td>\n",
       "      <td>...</td>\n",
       "    </tr>\n",
       "    <tr>\n",
       "      <th>95</th>\n",
       "      <td>Mr ShoesWala</td>\n",
       "      <td>₹435</td>\n",
       "      <td>Sneakers For Men</td>\n",
       "    </tr>\n",
       "    <tr>\n",
       "      <th>96</th>\n",
       "      <td>Chevit</td>\n",
       "      <td>₹209</td>\n",
       "      <td>Sneakers For Men</td>\n",
       "    </tr>\n",
       "    <tr>\n",
       "      <th>97</th>\n",
       "      <td>World Wear Footwear</td>\n",
       "      <td>₹159</td>\n",
       "      <td>White Sneaker For Men's/Boy's Sneakers For Men</td>\n",
       "    </tr>\n",
       "    <tr>\n",
       "      <th>98</th>\n",
       "      <td>D-SNEAKERZ</td>\n",
       "      <td>₹249</td>\n",
       "      <td>Sneakers For Men</td>\n",
       "    </tr>\n",
       "    <tr>\n",
       "      <th>99</th>\n",
       "      <td>RapidBox</td>\n",
       "      <td>₹610</td>\n",
       "      <td>Sneakers For Men</td>\n",
       "    </tr>\n",
       "  </tbody>\n",
       "</table>\n",
       "<p>100 rows × 3 columns</p>\n",
       "</div>"
      ],
      "text/plain": [
       "             Brand_name P_price  \\\n",
       "0                 Echor    ₹449   \n",
       "1            HIGHLANDER    ₹669   \n",
       "2              ASTEROID    ₹424   \n",
       "3              URBANBOX    ₹158   \n",
       "4              Magnolia    ₹374   \n",
       "..                  ...     ...   \n",
       "95         Mr ShoesWala    ₹435   \n",
       "96               Chevit    ₹209   \n",
       "97  World Wear Footwear    ₹159   \n",
       "98           D-SNEAKERZ    ₹249   \n",
       "99             RapidBox    ₹610   \n",
       "\n",
       "                                              Pr_desc  \n",
       "0   Men's casual shoes sports shoes black sneaker ...  \n",
       "1                                    Sneakers For Men  \n",
       "2   Original Luxury Branded Fashionable Men's Casu...  \n",
       "3                                    Sneakers For Men  \n",
       "4   Kwik FIT casual sneaker shoes and partywear sh...  \n",
       "..                                                ...  \n",
       "95                                   Sneakers For Men  \n",
       "96                                   Sneakers For Men  \n",
       "97     White Sneaker For Men's/Boy's Sneakers For Men  \n",
       "98                                   Sneakers For Men  \n",
       "99                                   Sneakers For Men  \n",
       "\n",
       "[100 rows x 3 columns]"
      ]
     },
     "execution_count": 205,
     "metadata": {},
     "output_type": "execute_result"
    }
   ],
   "source": [
    "sneakers"
   ]
  },
  {
   "cell_type": "markdown",
   "id": "3d843147",
   "metadata": {},
   "source": [
    "Q9: Write a python program to scrape data for first 10 job results for Data Scientist Designation in Noida location. You have to scrape company name, No. of days ago when job was posted, Rating of the company."
   ]
  },
  {
   "cell_type": "code",
   "execution_count": 46,
   "id": "ea6794a2",
   "metadata": {},
   "outputs": [],
   "source": [
    "# Lets now import all the required libraries\n",
    "import selenium\n",
    "import pandas as pd\n",
    "from selenium import webdriver\n",
    "import warnings\n",
    "warnings.filterwarnings(\"ignore\")\n",
    "import time"
   ]
  },
  {
   "cell_type": "code",
   "execution_count": 47,
   "id": "e5b95951",
   "metadata": {},
   "outputs": [],
   "source": [
    "# Lets first connect to the web driver\n",
    "driver = webdriver.Chrome(r\"C:\\Users\\Administrator\\Downloads\\chromedriver_win32\\chromedriver.exe\")"
   ]
  },
  {
   "cell_type": "code",
   "execution_count": 152,
   "id": "18153778",
   "metadata": {},
   "outputs": [],
   "source": [
    "driver=webdriver.Chrome(\"chromedriver.exe\")\n",
    "time.sleep(2)"
   ]
  },
  {
   "cell_type": "code",
   "execution_count": 155,
   "id": "db6d840c",
   "metadata": {},
   "outputs": [],
   "source": [
    "driver.get('https://www.ambitionbox.com/')"
   ]
  },
  {
   "cell_type": "code",
   "execution_count": 156,
   "id": "290f0a25",
   "metadata": {},
   "outputs": [
    {
     "data": {
      "text/plain": [
       "<selenium.webdriver.remote.webelement.WebElement (session=\"3942e36755e93b8d457e7c5ab9a90041\", element=\"482b0973-0b2c-4817-ad70-61c67ceae91c\")>"
      ]
     },
     "execution_count": 156,
     "metadata": {},
     "output_type": "execute_result"
    }
   ],
   "source": [
    "# Finding element for job search bar\n",
    "search_g= driver.find_element_by_xpath(\"//a[@class='link jobs']\") \n",
    "search_g"
   ]
  },
  {
   "cell_type": "code",
   "execution_count": 157,
   "id": "361f5fec",
   "metadata": {},
   "outputs": [],
   "source": [
    "# write on search bar\n",
    "search_g.send_keys('jobs')"
   ]
  },
  {
   "cell_type": "code",
   "execution_count": 158,
   "id": "8ba9010d",
   "metadata": {},
   "outputs": [],
   "source": [
    "search_button=driver.find_element_by_xpath(\"/html/body/div[1]/nav/nav/a[6]\")\n",
    "search_button.click()"
   ]
  },
  {
   "cell_type": "code",
   "execution_count": 85,
   "id": "cfcb035c",
   "metadata": {},
   "outputs": [],
   "source": [
    "# Specifying the url of the webpage to be scraped\n",
    "url=\"https://www.ambitionbox.com/jobs\""
   ]
  },
  {
   "cell_type": "code",
   "execution_count": 86,
   "id": "836cb641",
   "metadata": {},
   "outputs": [],
   "source": [
    "# Lets open the webpage through our web driver\n",
    "driver.get(url)"
   ]
  },
  {
   "cell_type": "code",
   "execution_count": 159,
   "id": "f954154d",
   "metadata": {},
   "outputs": [],
   "source": [
    "search_field_designation=driver.find_element_by_xpath(\"/html/body/div/div/div/div[2]/div[1]/div[1]/div/div/div/div/span/input\") #job search bar\n"
   ]
  },
  {
   "cell_type": "code",
   "execution_count": 160,
   "id": "f9eeb159",
   "metadata": {},
   "outputs": [
    {
     "data": {
      "text/plain": [
       "<selenium.webdriver.remote.webelement.WebElement (session=\"3942e36755e93b8d457e7c5ab9a90041\", element=\"504d1fca-23b3-4e9f-b242-0c04463e00c4\")>"
      ]
     },
     "execution_count": 160,
     "metadata": {},
     "output_type": "execute_result"
    }
   ],
   "source": [
    "search_field_designation"
   ]
  },
  {
   "cell_type": "code",
   "execution_count": 161,
   "id": "617d0678",
   "metadata": {},
   "outputs": [],
   "source": [
    "search_field_designation.send_keys(\"Data Scientist\")"
   ]
  },
  {
   "cell_type": "code",
   "execution_count": 162,
   "id": "4babe8d2",
   "metadata": {},
   "outputs": [],
   "source": [
    "search_button=driver.find_element_by_xpath(\"/html/body/div/div/div/div[2]/div[1]/div[1]/div/div/div/button/span\")\n",
    "search_button.click()"
   ]
  },
  {
   "cell_type": "code",
   "execution_count": 153,
   "id": "0092dbbf",
   "metadata": {},
   "outputs": [],
   "source": [
    "url=\"https://www.ambitionbox.com/jobs/search?tag=Data%20Scientist\""
   ]
  },
  {
   "cell_type": "code",
   "execution_count": 163,
   "id": "98cd9d71",
   "metadata": {},
   "outputs": [],
   "source": [
    "search_field_loaction=driver.find_element_by_xpath('/html/body/div/div/div/div[2]/div[1]/div[2]/div[1]/div/div/div/div[2]/div[1]/i') \n"
   ]
  },
  {
   "cell_type": "code",
   "execution_count": 164,
   "id": "11a45b74",
   "metadata": {},
   "outputs": [],
   "source": [
    "search_button=driver.find_element_by_xpath('/html/body/div/div/div/div[2]/div[1]/div[2]/div[1]/div/div/div/div[2]/div[1]/i')\n",
    "search_button.click()"
   ]
  },
  {
   "cell_type": "code",
   "execution_count": 173,
   "id": "0924da7e",
   "metadata": {},
   "outputs": [
    {
     "data": {
      "text/plain": [
       "<selenium.webdriver.remote.webelement.WebElement (session=\"3942e36755e93b8d457e7c5ab9a90041\", element=\"1adb577d-e272-4f6e-ab1a-a1a20b1a1923\")>"
      ]
     },
     "execution_count": 173,
     "metadata": {},
     "output_type": "execute_result"
    }
   ],
   "source": [
    "select_button=driver.find_element_by_xpath(\"//label[@class='radio-label']\")\n",
    "select_button\n"
   ]
  },
  {
   "cell_type": "code",
   "execution_count": 193,
   "id": "8e97245c",
   "metadata": {},
   "outputs": [],
   "source": [
    "job_titles=[]\n",
    "company_names=[]\n",
    "locations_list=[]\n",
    "experience_list=[]"
   ]
  },
  {
   "cell_type": "code",
   "execution_count": 199,
   "id": "7b9c33f8",
   "metadata": {},
   "outputs": [
    {
     "data": {
      "text/plain": [
       "[<selenium.webdriver.remote.webelement.WebElement (session=\"3942e36755e93b8d457e7c5ab9a90041\", element=\"ba702785-8c29-47c5-b5f9-53bff09c8cd8\")>,\n",
       " <selenium.webdriver.remote.webelement.WebElement (session=\"3942e36755e93b8d457e7c5ab9a90041\", element=\"2f6eb67a-50b6-412c-9e78-14ef7d369cb7\")>,\n",
       " <selenium.webdriver.remote.webelement.WebElement (session=\"3942e36755e93b8d457e7c5ab9a90041\", element=\"536a017b-0bde-475a-a65d-a48e5519ada3\")>,\n",
       " <selenium.webdriver.remote.webelement.WebElement (session=\"3942e36755e93b8d457e7c5ab9a90041\", element=\"95efe54c-5764-4926-b9ce-1d9f24cebf12\")>,\n",
       " <selenium.webdriver.remote.webelement.WebElement (session=\"3942e36755e93b8d457e7c5ab9a90041\", element=\"d55a8ece-e9db-47ef-bb92-f7b08d03ffa0\")>,\n",
       " <selenium.webdriver.remote.webelement.WebElement (session=\"3942e36755e93b8d457e7c5ab9a90041\", element=\"a77cd048-c8df-4713-88a2-8746acae0d2d\")>,\n",
       " <selenium.webdriver.remote.webelement.WebElement (session=\"3942e36755e93b8d457e7c5ab9a90041\", element=\"bcd7e23c-2dcc-4e6e-868f-4c9a2d81efd9\")>,\n",
       " <selenium.webdriver.remote.webelement.WebElement (session=\"3942e36755e93b8d457e7c5ab9a90041\", element=\"db7e7421-a543-4a53-a476-61682874cc74\")>,\n",
       " <selenium.webdriver.remote.webelement.WebElement (session=\"3942e36755e93b8d457e7c5ab9a90041\", element=\"111fa8cb-75ad-4c5c-9f13-ece685dc052b\")>,\n",
       " <selenium.webdriver.remote.webelement.WebElement (session=\"3942e36755e93b8d457e7c5ab9a90041\", element=\"774daebb-163e-4d20-a358-eb2b0f4c2135\")>]"
      ]
     },
     "execution_count": 199,
     "metadata": {},
     "output_type": "execute_result"
    }
   ],
   "source": [
    "# So lets extract all the tags having the job-titles\n",
    "titles_tags=driver.find_elements_by_xpath(\"//a[@class='title noclick']\")\n",
    "titles_tags[0:10]"
   ]
  },
  {
   "cell_type": "code",
   "execution_count": 200,
   "id": "721a3989",
   "metadata": {},
   "outputs": [
    {
     "data": {
      "text/plain": [
       "['Senior Data Scientist',\n",
       " 'Data Scientist',\n",
       " 'Senior Data Scientist',\n",
       " 'Data Scientist with SAS',\n",
       " 'Hiring For Data Scientist + Python/R+ Predictive Modeling',\n",
       " 'Urgent Requirement || Data Scientist || Noida',\n",
       " 'Director Data Science',\n",
       " 'Data Scientist - Machine Learning (5-14 yrs)',\n",
       " 'Data Scientist- Fresher Opening - Newgen Software Technologies',\n",
       " 'Senior Data Scientist']"
      ]
     },
     "execution_count": 200,
     "metadata": {},
     "output_type": "execute_result"
    }
   ],
   "source": [
    "for i in titles_tags:\n",
    "    title=i.text\n",
    "    job_titles.append(title)\n",
    "job_titles[0:10]"
   ]
  },
  {
   "cell_type": "code",
   "execution_count": 201,
   "id": "a394e40d",
   "metadata": {},
   "outputs": [
    {
     "data": {
      "text/plain": [
       "[<selenium.webdriver.remote.webelement.WebElement (session=\"3942e36755e93b8d457e7c5ab9a90041\", element=\"f7483bb6-8b32-41a5-9104-629fdd8a7be1\")>,\n",
       " <selenium.webdriver.remote.webelement.WebElement (session=\"3942e36755e93b8d457e7c5ab9a90041\", element=\"f6dad6bb-3eb1-4279-b320-25ff7b37e0c0\")>,\n",
       " <selenium.webdriver.remote.webelement.WebElement (session=\"3942e36755e93b8d457e7c5ab9a90041\", element=\"2cb6fb51-fca3-43fe-91f6-c22a6dab9292\")>,\n",
       " <selenium.webdriver.remote.webelement.WebElement (session=\"3942e36755e93b8d457e7c5ab9a90041\", element=\"ba2631eb-63cc-4c77-943a-7f5535972d82\")>,\n",
       " <selenium.webdriver.remote.webelement.WebElement (session=\"3942e36755e93b8d457e7c5ab9a90041\", element=\"b720d7ae-9d15-4ebe-9c4e-4717a7061852\")>,\n",
       " <selenium.webdriver.remote.webelement.WebElement (session=\"3942e36755e93b8d457e7c5ab9a90041\", element=\"f27c67e1-073b-405f-aa45-46f853e8d0dd\")>,\n",
       " <selenium.webdriver.remote.webelement.WebElement (session=\"3942e36755e93b8d457e7c5ab9a90041\", element=\"af0db02e-9389-45ed-857a-e6095cf54095\")>,\n",
       " <selenium.webdriver.remote.webelement.WebElement (session=\"3942e36755e93b8d457e7c5ab9a90041\", element=\"0545dc5f-35ae-4a68-b123-45e1dd01b797\")>,\n",
       " <selenium.webdriver.remote.webelement.WebElement (session=\"3942e36755e93b8d457e7c5ab9a90041\", element=\"f692a160-0e03-4861-8383-d6e12e99ce5a\")>,\n",
       " <selenium.webdriver.remote.webelement.WebElement (session=\"3942e36755e93b8d457e7c5ab9a90041\", element=\"39a29897-2d4a-47fb-a28c-5e53f058fb2f\")>]"
      ]
     },
     "execution_count": 201,
     "metadata": {},
     "output_type": "execute_result"
    }
   ],
   "source": [
    "# So lets extract all the tags having the company names\n",
    "companies_tags=driver.find_elements_by_xpath(\"//p[@class='company body-medium']\")\n",
    "companies_tags[0:10]"
   ]
  },
  {
   "cell_type": "code",
   "execution_count": 202,
   "id": "03e231bb",
   "metadata": {},
   "outputs": [
    {
     "data": {
      "text/plain": [
       "['GENPACT India Private Limited',\n",
       " 'Optum Global Solutions (India) Private Limited',\n",
       " 'Tech Mahindra Ltd',\n",
       " 'GENPACT India Private Limited',\n",
       " 'HCL Technologies',\n",
       " 'Optum Global Solutions (India) Private Limited',\n",
       " 'Zyoin',\n",
       " 'Newgen Software Technologies Ltd.',\n",
       " 'Pitney Bowes India Pvt Ltd',\n",
       " 'JK Technosoft Ltd']"
      ]
     },
     "execution_count": 202,
     "metadata": {},
     "output_type": "execute_result"
    }
   ],
   "source": [
    "for i in companies_tags:\n",
    "    company_name=i.text\n",
    "    company_names.append(company_name)\n",
    "company_names[0:10]"
   ]
  },
  {
   "cell_type": "code",
   "execution_count": 203,
   "id": "9590c52b",
   "metadata": {},
   "outputs": [
    {
     "data": {
      "text/plain": [
       "[<selenium.webdriver.remote.webelement.WebElement (session=\"3942e36755e93b8d457e7c5ab9a90041\", element=\"96ed7aab-9958-460b-98fc-5039ac112f81\")>,\n",
       " <selenium.webdriver.remote.webelement.WebElement (session=\"3942e36755e93b8d457e7c5ab9a90041\", element=\"fdc8bc67-0da7-45f0-b19a-d91d71c225f4\")>,\n",
       " <selenium.webdriver.remote.webelement.WebElement (session=\"3942e36755e93b8d457e7c5ab9a90041\", element=\"d38f17e4-62fa-4bb7-af93-6787345a99e1\")>,\n",
       " <selenium.webdriver.remote.webelement.WebElement (session=\"3942e36755e93b8d457e7c5ab9a90041\", element=\"dd580c92-42d2-4a2c-8ce4-0467875b4ff0\")>,\n",
       " <selenium.webdriver.remote.webelement.WebElement (session=\"3942e36755e93b8d457e7c5ab9a90041\", element=\"a6b4dec8-1031-42cc-9bd9-1e21636c758f\")>,\n",
       " <selenium.webdriver.remote.webelement.WebElement (session=\"3942e36755e93b8d457e7c5ab9a90041\", element=\"1f07818f-2d36-4045-af28-41625c5c6b36\")>,\n",
       " <selenium.webdriver.remote.webelement.WebElement (session=\"3942e36755e93b8d457e7c5ab9a90041\", element=\"357b0809-1d19-4b0b-aed6-f747299841ec\")>,\n",
       " <selenium.webdriver.remote.webelement.WebElement (session=\"3942e36755e93b8d457e7c5ab9a90041\", element=\"0930cc3d-3c07-4a80-b001-a7f796581934\")>,\n",
       " <selenium.webdriver.remote.webelement.WebElement (session=\"3942e36755e93b8d457e7c5ab9a90041\", element=\"5e19d002-3c1b-415b-b235-1b1802ade5df\")>,\n",
       " <selenium.webdriver.remote.webelement.WebElement (session=\"3942e36755e93b8d457e7c5ab9a90041\", element=\"35f5c1e8-2980-4014-8319-bbecc8633023\")>]"
      ]
     },
     "execution_count": 203,
     "metadata": {},
     "output_type": "execute_result"
    }
   ],
   "source": [
    "# so lets extract all the tags having the experience required data\n",
    "\n",
    "experience_tags=driver.find_elements_by_xpath(\"//p[@class='body-small-l']\")\n",
    "experience_tags[0:10]"
   ]
  },
  {
   "cell_type": "code",
   "execution_count": 204,
   "id": "646997f7",
   "metadata": {},
   "outputs": [
    {
     "data": {
      "text/plain": [
       "['7-12 years',\n",
       " 'Not Disclosed',\n",
       " 'Bengaluru/Bangalore, Hyderabad/Secunderabad, Gurgaon/Gurugram + 1 more',\n",
       " '7-12 Yrs',\n",
       " 'Not Disclosed',\n",
       " 'Bengaluru/Bangalore, Hyderabad/Secunderabad, Gurgaon/Gurugram +1 more',\n",
       " 'deep learning, python, machine learning',\n",
       " '2-7 Yrs',\n",
       " 'Not Disclosed',\n",
       " 'Noida']"
      ]
     },
     "execution_count": 204,
     "metadata": {},
     "output_type": "execute_result"
    }
   ],
   "source": [
    "for i in experience_tags:\n",
    "    experience=i.text\n",
    "    experience_list.append(experience)\n",
    "experience_list[0:10]"
   ]
  },
  {
   "cell_type": "code",
   "execution_count": 205,
   "id": "0c8dc1de",
   "metadata": {},
   "outputs": [],
   "source": [
    "#Import pandas as pd\n",
    "jobs=pd.DataFrame({})\n",
    "jobs['title']=job_titles[:10]\n",
    "jobs['company']=company_names[:10]\n",
    "jobs['experience_required']=experience_list[:10]\n"
   ]
  },
  {
   "cell_type": "code",
   "execution_count": 206,
   "id": "264d9409",
   "metadata": {},
   "outputs": [
    {
     "data": {
      "text/html": [
       "<div>\n",
       "<style scoped>\n",
       "    .dataframe tbody tr th:only-of-type {\n",
       "        vertical-align: middle;\n",
       "    }\n",
       "\n",
       "    .dataframe tbody tr th {\n",
       "        vertical-align: top;\n",
       "    }\n",
       "\n",
       "    .dataframe thead th {\n",
       "        text-align: right;\n",
       "    }\n",
       "</style>\n",
       "<table border=\"1\" class=\"dataframe\">\n",
       "  <thead>\n",
       "    <tr style=\"text-align: right;\">\n",
       "      <th></th>\n",
       "      <th>title</th>\n",
       "      <th>company</th>\n",
       "      <th>experience_required</th>\n",
       "    </tr>\n",
       "  </thead>\n",
       "  <tbody>\n",
       "    <tr>\n",
       "      <th>0</th>\n",
       "      <td>Senior Data Scientist</td>\n",
       "      <td>GENPACT India Private Limited</td>\n",
       "      <td>7-12 years</td>\n",
       "    </tr>\n",
       "    <tr>\n",
       "      <th>1</th>\n",
       "      <td>Data Scientist</td>\n",
       "      <td>Optum Global Solutions (India) Private Limited</td>\n",
       "      <td>Not Disclosed</td>\n",
       "    </tr>\n",
       "    <tr>\n",
       "      <th>2</th>\n",
       "      <td>Senior Data Scientist</td>\n",
       "      <td>Tech Mahindra Ltd</td>\n",
       "      <td>Bengaluru/Bangalore, Hyderabad/Secunderabad, G...</td>\n",
       "    </tr>\n",
       "    <tr>\n",
       "      <th>3</th>\n",
       "      <td>Data Scientist with SAS</td>\n",
       "      <td>GENPACT India Private Limited</td>\n",
       "      <td>7-12 Yrs</td>\n",
       "    </tr>\n",
       "    <tr>\n",
       "      <th>4</th>\n",
       "      <td>Hiring For Data Scientist + Python/R+ Predicti...</td>\n",
       "      <td>HCL Technologies</td>\n",
       "      <td>Not Disclosed</td>\n",
       "    </tr>\n",
       "    <tr>\n",
       "      <th>5</th>\n",
       "      <td>Urgent Requirement || Data Scientist || Noida</td>\n",
       "      <td>Optum Global Solutions (India) Private Limited</td>\n",
       "      <td>Bengaluru/Bangalore, Hyderabad/Secunderabad, G...</td>\n",
       "    </tr>\n",
       "    <tr>\n",
       "      <th>6</th>\n",
       "      <td>Director Data Science</td>\n",
       "      <td>Zyoin</td>\n",
       "      <td>deep learning, python, machine learning</td>\n",
       "    </tr>\n",
       "    <tr>\n",
       "      <th>7</th>\n",
       "      <td>Data Scientist - Machine Learning (5-14 yrs)</td>\n",
       "      <td>Newgen Software Technologies Ltd.</td>\n",
       "      <td>2-7 Yrs</td>\n",
       "    </tr>\n",
       "    <tr>\n",
       "      <th>8</th>\n",
       "      <td>Data Scientist- Fresher Opening - Newgen Softw...</td>\n",
       "      <td>Pitney Bowes India Pvt Ltd</td>\n",
       "      <td>Not Disclosed</td>\n",
       "    </tr>\n",
       "    <tr>\n",
       "      <th>9</th>\n",
       "      <td>Senior Data Scientist</td>\n",
       "      <td>JK Technosoft Ltd</td>\n",
       "      <td>Noida</td>\n",
       "    </tr>\n",
       "  </tbody>\n",
       "</table>\n",
       "</div>"
      ],
      "text/plain": [
       "                                               title  \\\n",
       "0                              Senior Data Scientist   \n",
       "1                                     Data Scientist   \n",
       "2                              Senior Data Scientist   \n",
       "3                            Data Scientist with SAS   \n",
       "4  Hiring For Data Scientist + Python/R+ Predicti...   \n",
       "5      Urgent Requirement || Data Scientist || Noida   \n",
       "6                              Director Data Science   \n",
       "7       Data Scientist - Machine Learning (5-14 yrs)   \n",
       "8  Data Scientist- Fresher Opening - Newgen Softw...   \n",
       "9                              Senior Data Scientist   \n",
       "\n",
       "                                          company  \\\n",
       "0                   GENPACT India Private Limited   \n",
       "1  Optum Global Solutions (India) Private Limited   \n",
       "2                               Tech Mahindra Ltd   \n",
       "3                   GENPACT India Private Limited   \n",
       "4                                HCL Technologies   \n",
       "5  Optum Global Solutions (India) Private Limited   \n",
       "6                                           Zyoin   \n",
       "7               Newgen Software Technologies Ltd.   \n",
       "8                      Pitney Bowes India Pvt Ltd   \n",
       "9                               JK Technosoft Ltd   \n",
       "\n",
       "                                 experience_required  \n",
       "0                                         7-12 years  \n",
       "1                                      Not Disclosed  \n",
       "2  Bengaluru/Bangalore, Hyderabad/Secunderabad, G...  \n",
       "3                                           7-12 Yrs  \n",
       "4                                      Not Disclosed  \n",
       "5  Bengaluru/Bangalore, Hyderabad/Secunderabad, G...  \n",
       "6            deep learning, python, machine learning  \n",
       "7                                            2-7 Yrs  \n",
       "8                                      Not Disclosed  \n",
       "9                                              Noida  "
      ]
     },
     "execution_count": 206,
     "metadata": {},
     "output_type": "execute_result"
    }
   ],
   "source": [
    "jobs"
   ]
  },
  {
   "cell_type": "markdown",
   "id": "1cf93cb9",
   "metadata": {},
   "source": [
    "10. Write a python program to scrape the salary data for Data Scientist designation.\n",
    "You have to scrape Company name, Number of salaries, Average salary, Minsalary, Max Salary."
   ]
  },
  {
   "cell_type": "code",
   "execution_count": 125,
   "id": "de73d5a3",
   "metadata": {},
   "outputs": [],
   "source": [
    "import selenium\n",
    "import pandas as pd\n",
    "from selenium import webdriver\n",
    "import warnings\n",
    "warnings.filterwarnings(\"ignore\")\n",
    "import time"
   ]
  },
  {
   "cell_type": "code",
   "execution_count": 126,
   "id": "224dc6a8",
   "metadata": {},
   "outputs": [],
   "source": [
    "driver = webdriver.Chrome(r\"C:\\Users\\Administrator\\Downloads\\chromedriver_win32\\chromedriver.exe\")"
   ]
  },
  {
   "cell_type": "code",
   "execution_count": 92,
   "id": "d8baa986",
   "metadata": {},
   "outputs": [],
   "source": [
    "driver=webdriver.Chrome(\"chromedriver.exe\")\n",
    "time.sleep(2)"
   ]
  },
  {
   "cell_type": "code",
   "execution_count": 93,
   "id": "37429696",
   "metadata": {},
   "outputs": [],
   "source": [
    "driver.get('https://www.ambitionbox.com/')"
   ]
  },
  {
   "cell_type": "code",
   "execution_count": 94,
   "id": "9581b07f",
   "metadata": {},
   "outputs": [
    {
     "data": {
      "text/plain": [
       "<selenium.webdriver.remote.webelement.WebElement (session=\"cb397737de50ae7417b1abb7bafd83e7\", element=\"22f6eb4b-d486-4c23-8fbf-d5b8f5942513\")>"
      ]
     },
     "execution_count": 94,
     "metadata": {},
     "output_type": "execute_result"
    }
   ],
   "source": [
    "search_g= driver.find_element_by_xpath(\"//a[@class='link salaries']\") \n",
    "search_g"
   ]
  },
  {
   "cell_type": "code",
   "execution_count": 95,
   "id": "638bd5d0",
   "metadata": {},
   "outputs": [],
   "source": [
    "search_g.send_keys('Salaries')"
   ]
  },
  {
   "cell_type": "code",
   "execution_count": 96,
   "id": "1c7bfd36",
   "metadata": {},
   "outputs": [],
   "source": [
    "search_g.click()"
   ]
  },
  {
   "cell_type": "code",
   "execution_count": 97,
   "id": "5d48b64e",
   "metadata": {},
   "outputs": [],
   "source": [
    "search_job_profile=driver.find_element_by_xpath('/html/body/div/div/div/main/section[1]/div[2]/div[1]/span/input')"
   ]
  },
  {
   "cell_type": "code",
   "execution_count": 98,
   "id": "47e6f18c",
   "metadata": {},
   "outputs": [
    {
     "data": {
      "text/plain": [
       "<selenium.webdriver.remote.webelement.WebElement (session=\"cb397737de50ae7417b1abb7bafd83e7\", element=\"6c5b47ff-f482-444f-823e-5cbf6e394dc8\")>"
      ]
     },
     "execution_count": 98,
     "metadata": {},
     "output_type": "execute_result"
    }
   ],
   "source": [
    "search_job_profile"
   ]
  },
  {
   "cell_type": "code",
   "execution_count": 99,
   "id": "8c276e33",
   "metadata": {},
   "outputs": [],
   "source": [
    "search_job_profile.send_keys(\"Data Scientist\")"
   ]
  },
  {
   "cell_type": "code",
   "execution_count": 100,
   "id": "5470ec6d",
   "metadata": {},
   "outputs": [],
   "source": [
    "search_job_profile.click()"
   ]
  },
  {
   "cell_type": "code",
   "execution_count": 101,
   "id": "aa20f9b0",
   "metadata": {},
   "outputs": [
    {
     "data": {
      "text/plain": [
       "<selenium.webdriver.remote.webelement.WebElement (session=\"cb397737de50ae7417b1abb7bafd83e7\", element=\"18557e72-697e-437d-9ab5-f1aa21c5238e\")>"
      ]
     },
     "execution_count": 101,
     "metadata": {},
     "output_type": "execute_result"
    }
   ],
   "source": [
    "select_button=driver.find_element_by_xpath(\"//p[@class='tt_text']\")\n",
    "select_button"
   ]
  },
  {
   "cell_type": "code",
   "execution_count": 102,
   "id": "07bf5107",
   "metadata": {},
   "outputs": [],
   "source": [
    "search_job_profile.click()"
   ]
  },
  {
   "cell_type": "code",
   "execution_count": 103,
   "id": "bfc0b7f5",
   "metadata": {},
   "outputs": [
    {
     "data": {
      "text/plain": [
       "<selenium.webdriver.remote.webelement.WebElement (session=\"cb397737de50ae7417b1abb7bafd83e7\", element=\"a3484414-be8c-4f6e-906d-69c9e43eb86d\")>"
      ]
     },
     "execution_count": 103,
     "metadata": {},
     "output_type": "execute_result"
    }
   ],
   "source": [
    "select_button=driver.find_element_by_xpath(\"//div[@class='suggestion_wrap tt-suggestion tt-selectable']\")\n",
    "select_button"
   ]
  },
  {
   "cell_type": "code",
   "execution_count": 135,
   "id": "a55e036b",
   "metadata": {},
   "outputs": [],
   "source": [
    "search_job_profile.click()"
   ]
  },
  {
   "cell_type": "code",
   "execution_count": 136,
   "id": "4398afbf",
   "metadata": {},
   "outputs": [],
   "source": [
    "company_name=[]\n",
    "total_salary_record=[]\n",
    "average_salary=[]\n",
    "minimum_salary=[]\n",
    "maximum_salary=[]\n",
    "experience_required=[]\n"
   ]
  },
  {
   "cell_type": "code",
   "execution_count": 137,
   "id": "3c13c844",
   "metadata": {},
   "outputs": [
    {
     "data": {
      "text/plain": [
       "[<selenium.webdriver.remote.webelement.WebElement (session=\"a5770c2cac9baf3156e7647706e011da\", element=\"f8af5910-c177-4710-8315-bef05405270d\")>,\n",
       " <selenium.webdriver.remote.webelement.WebElement (session=\"a5770c2cac9baf3156e7647706e011da\", element=\"693b5335-6aba-4693-9fa8-1a0fc6451c07\")>,\n",
       " <selenium.webdriver.remote.webelement.WebElement (session=\"a5770c2cac9baf3156e7647706e011da\", element=\"a24dbac7-d610-4c67-b8aa-8ae1e0892540\")>,\n",
       " <selenium.webdriver.remote.webelement.WebElement (session=\"a5770c2cac9baf3156e7647706e011da\", element=\"b37e3332-9e7b-4c9e-8629-cf1e9254b224\")>,\n",
       " <selenium.webdriver.remote.webelement.WebElement (session=\"a5770c2cac9baf3156e7647706e011da\", element=\"cd46ab06-ab81-48fb-b24d-993e4ec426eb\")>,\n",
       " <selenium.webdriver.remote.webelement.WebElement (session=\"a5770c2cac9baf3156e7647706e011da\", element=\"25259733-6e8d-4a00-ac60-eee7cb406308\")>,\n",
       " <selenium.webdriver.remote.webelement.WebElement (session=\"a5770c2cac9baf3156e7647706e011da\", element=\"f2525b0c-7606-4f22-a547-8f009d305a42\")>,\n",
       " <selenium.webdriver.remote.webelement.WebElement (session=\"a5770c2cac9baf3156e7647706e011da\", element=\"295fb39e-4772-4f0d-ad3e-4374ea7f58c0\")>,\n",
       " <selenium.webdriver.remote.webelement.WebElement (session=\"a5770c2cac9baf3156e7647706e011da\", element=\"9efa3362-4fdf-41a3-9b91-71d81b449401\")>,\n",
       " <selenium.webdriver.remote.webelement.WebElement (session=\"a5770c2cac9baf3156e7647706e011da\", element=\"893f9411-20a6-48d5-98b8-763475063219\")>]"
      ]
     },
     "execution_count": 137,
     "metadata": {},
     "output_type": "execute_result"
    }
   ],
   "source": [
    "companies_tags=driver.find_elements_by_xpath(\"//div[@class='name']\")\n",
    "companies_tags[0:10]"
   ]
  },
  {
   "cell_type": "code",
   "execution_count": 138,
   "id": "c87c6177",
   "metadata": {},
   "outputs": [
    {
     "ename": "AttributeError",
     "evalue": "'str' object has no attribute 'append'",
     "output_type": "error",
     "traceback": [
      "\u001b[1;31m---------------------------------------------------------------------------\u001b[0m",
      "\u001b[1;31mAttributeError\u001b[0m                            Traceback (most recent call last)",
      "\u001b[1;32m<ipython-input-138-304ce9034518>\u001b[0m in \u001b[0;36m<module>\u001b[1;34m\u001b[0m\n\u001b[0;32m      1\u001b[0m \u001b[1;32mfor\u001b[0m \u001b[0mi\u001b[0m \u001b[1;32min\u001b[0m \u001b[0mcompanies_tags\u001b[0m\u001b[1;33m:\u001b[0m\u001b[1;33m\u001b[0m\u001b[1;33m\u001b[0m\u001b[0m\n\u001b[0;32m      2\u001b[0m     \u001b[0mcompany_names\u001b[0m\u001b[1;33m=\u001b[0m\u001b[0mi\u001b[0m\u001b[1;33m.\u001b[0m\u001b[0mtext\u001b[0m\u001b[1;33m\u001b[0m\u001b[1;33m\u001b[0m\u001b[0m\n\u001b[1;32m----> 3\u001b[1;33m     \u001b[0mcompany_names\u001b[0m\u001b[1;33m.\u001b[0m\u001b[0mappend\u001b[0m\u001b[1;33m(\u001b[0m\u001b[0mcompany_name\u001b[0m\u001b[1;33m)\u001b[0m\u001b[1;33m\u001b[0m\u001b[1;33m\u001b[0m\u001b[0m\n\u001b[0m\u001b[0;32m      4\u001b[0m \u001b[0mcompany_names\u001b[0m\u001b[1;33m[\u001b[0m\u001b[1;36m0\u001b[0m\u001b[1;33m:\u001b[0m\u001b[1;36m10\u001b[0m\u001b[1;33m]\u001b[0m\u001b[1;33m\u001b[0m\u001b[1;33m\u001b[0m\u001b[0m\n",
      "\u001b[1;31mAttributeError\u001b[0m: 'str' object has no attribute 'append'"
     ]
    }
   ],
   "source": [
    "for i in companies_tags:\n",
    "    company_names=i.text\n",
    "    company_names.append(company_name)\n",
    "company_names[0:10]"
   ]
  },
  {
   "cell_type": "code",
   "execution_count": 139,
   "id": "76e0fa4f",
   "metadata": {},
   "outputs": [
    {
     "data": {
      "text/plain": [
       "[<selenium.webdriver.remote.webelement.WebElement (session=\"a5770c2cac9baf3156e7647706e011da\", element=\"dce390d7-eeb2-464a-b9f7-37e421e9cd73\")>,\n",
       " <selenium.webdriver.remote.webelement.WebElement (session=\"a5770c2cac9baf3156e7647706e011da\", element=\"29adb39a-dd17-4f16-ac9d-26cb8fd9b792\")>,\n",
       " <selenium.webdriver.remote.webelement.WebElement (session=\"a5770c2cac9baf3156e7647706e011da\", element=\"ae41d564-9883-499c-8ef3-f66a3bc93981\")>,\n",
       " <selenium.webdriver.remote.webelement.WebElement (session=\"a5770c2cac9baf3156e7647706e011da\", element=\"d75a34db-5555-4293-b8da-e537ca4ec73e\")>,\n",
       " <selenium.webdriver.remote.webelement.WebElement (session=\"a5770c2cac9baf3156e7647706e011da\", element=\"301fc3da-e832-433d-82c7-fb37839cbe75\")>,\n",
       " <selenium.webdriver.remote.webelement.WebElement (session=\"a5770c2cac9baf3156e7647706e011da\", element=\"d7b81b62-c03e-48f6-8580-09e7ede82c90\")>,\n",
       " <selenium.webdriver.remote.webelement.WebElement (session=\"a5770c2cac9baf3156e7647706e011da\", element=\"8376c50f-e9af-4755-8873-5ed73fba1d95\")>,\n",
       " <selenium.webdriver.remote.webelement.WebElement (session=\"a5770c2cac9baf3156e7647706e011da\", element=\"70321f31-a41b-4e72-96b2-43fad89282ce\")>,\n",
       " <selenium.webdriver.remote.webelement.WebElement (session=\"a5770c2cac9baf3156e7647706e011da\", element=\"d09f2121-8057-45cc-b7df-04ba04977b1b\")>,\n",
       " <selenium.webdriver.remote.webelement.WebElement (session=\"a5770c2cac9baf3156e7647706e011da\", element=\"eebd3a1e-e8ba-422b-a58a-b5882f373b7f\")>]"
      ]
     },
     "execution_count": 139,
     "metadata": {},
     "output_type": "execute_result"
    }
   ],
   "source": [
    "salary_tags=driver.find_elements_by_xpath(\"//p[@class='averageCtc']\")\n",
    "salary_tags[0:10]"
   ]
  },
  {
   "cell_type": "code",
   "execution_count": 140,
   "id": "0ccf7aa6",
   "metadata": {},
   "outputs": [
    {
     "data": {
      "text/plain": [
       "['₹ 29.7L',\n",
       " '₹ 20.5L',\n",
       " '₹ 18.9L',\n",
       " '₹ 15.9L',\n",
       " '₹ 15.2L',\n",
       " '₹ 15.2L',\n",
       " '₹ 14.8L',\n",
       " '₹ 14.0L',\n",
       " '₹ 12.7L',\n",
       " '₹ 12.4L']"
      ]
     },
     "execution_count": 140,
     "metadata": {},
     "output_type": "execute_result"
    }
   ],
   "source": [
    "for i in salary_tags :\n",
    "    salary=i.text\n",
    "    total_salary_record.append(salary)\n",
    "total_salary_record[0:10]"
   ]
  },
  {
   "cell_type": "code",
   "execution_count": 141,
   "id": "8c75cebc",
   "metadata": {},
   "outputs": [
    {
     "data": {
      "text/plain": [
       "[<selenium.webdriver.remote.webelement.WebElement (session=\"a5770c2cac9baf3156e7647706e011da\", element=\"655a82c0-76cd-438e-af51-7953b6820405\")>,\n",
       " <selenium.webdriver.remote.webelement.WebElement (session=\"a5770c2cac9baf3156e7647706e011da\", element=\"128e1b3d-6877-4623-a98e-510218868cdf\")>,\n",
       " <selenium.webdriver.remote.webelement.WebElement (session=\"a5770c2cac9baf3156e7647706e011da\", element=\"1314d8df-1c4b-43f4-bacb-4e74ffed43b8\")>,\n",
       " <selenium.webdriver.remote.webelement.WebElement (session=\"a5770c2cac9baf3156e7647706e011da\", element=\"47d4f85c-214f-4def-83cd-948a9ea88034\")>,\n",
       " <selenium.webdriver.remote.webelement.WebElement (session=\"a5770c2cac9baf3156e7647706e011da\", element=\"407575e6-5366-474b-9063-df73001697d7\")>,\n",
       " <selenium.webdriver.remote.webelement.WebElement (session=\"a5770c2cac9baf3156e7647706e011da\", element=\"c0cafaaf-9ebc-4994-b601-634289edb47b\")>,\n",
       " <selenium.webdriver.remote.webelement.WebElement (session=\"a5770c2cac9baf3156e7647706e011da\", element=\"2d0480e5-c2c7-499c-b158-bf46a6e3a5a6\")>,\n",
       " <selenium.webdriver.remote.webelement.WebElement (session=\"a5770c2cac9baf3156e7647706e011da\", element=\"e29c61ac-e3b1-4625-8105-5f12657c359a\")>,\n",
       " <selenium.webdriver.remote.webelement.WebElement (session=\"a5770c2cac9baf3156e7647706e011da\", element=\"89597b3c-49d6-4455-87c2-4163349dda0b\")>,\n",
       " <selenium.webdriver.remote.webelement.WebElement (session=\"a5770c2cac9baf3156e7647706e011da\", element=\"cad27357-94a1-4f7d-a1d1-f3bb1afe8351\")>]"
      ]
     },
     "execution_count": 141,
     "metadata": {},
     "output_type": "execute_result"
    }
   ],
   "source": [
    "salary_tags=driver.find_elements_by_xpath(\"//div[@class='value body-medium']\")\n",
    "salary_tags[0:10]"
   ]
  },
  {
   "cell_type": "code",
   "execution_count": 142,
   "id": "50e39bb0",
   "metadata": {},
   "outputs": [
    {
     "data": {
      "text/plain": [
       "['₹ 25.0L',\n",
       " '₹ 35.0L',\n",
       " '₹ 15.0L',\n",
       " '₹ 25.5L',\n",
       " '₹ 5.6L',\n",
       " '₹ 26.2L',\n",
       " '₹ 9.8L',\n",
       " '₹ 20.0L',\n",
       " '₹ 11.0L',\n",
       " '₹ 22.0L']"
      ]
     },
     "execution_count": 142,
     "metadata": {},
     "output_type": "execute_result"
    }
   ],
   "source": [
    "for i in salary_tags :\n",
    "    salary=i.text\n",
    "    minimum_salary.append(salary)\n",
    "minimum_salary[0:10]"
   ]
  },
  {
   "cell_type": "code",
   "execution_count": 143,
   "id": "aa116bb0",
   "metadata": {},
   "outputs": [
    {
     "data": {
      "text/plain": [
       "[<selenium.webdriver.remote.webelement.WebElement (session=\"a5770c2cac9baf3156e7647706e011da\", element=\"655a82c0-76cd-438e-af51-7953b6820405\")>,\n",
       " <selenium.webdriver.remote.webelement.WebElement (session=\"a5770c2cac9baf3156e7647706e011da\", element=\"128e1b3d-6877-4623-a98e-510218868cdf\")>,\n",
       " <selenium.webdriver.remote.webelement.WebElement (session=\"a5770c2cac9baf3156e7647706e011da\", element=\"1314d8df-1c4b-43f4-bacb-4e74ffed43b8\")>,\n",
       " <selenium.webdriver.remote.webelement.WebElement (session=\"a5770c2cac9baf3156e7647706e011da\", element=\"47d4f85c-214f-4def-83cd-948a9ea88034\")>,\n",
       " <selenium.webdriver.remote.webelement.WebElement (session=\"a5770c2cac9baf3156e7647706e011da\", element=\"407575e6-5366-474b-9063-df73001697d7\")>,\n",
       " <selenium.webdriver.remote.webelement.WebElement (session=\"a5770c2cac9baf3156e7647706e011da\", element=\"c0cafaaf-9ebc-4994-b601-634289edb47b\")>,\n",
       " <selenium.webdriver.remote.webelement.WebElement (session=\"a5770c2cac9baf3156e7647706e011da\", element=\"2d0480e5-c2c7-499c-b158-bf46a6e3a5a6\")>,\n",
       " <selenium.webdriver.remote.webelement.WebElement (session=\"a5770c2cac9baf3156e7647706e011da\", element=\"e29c61ac-e3b1-4625-8105-5f12657c359a\")>,\n",
       " <selenium.webdriver.remote.webelement.WebElement (session=\"a5770c2cac9baf3156e7647706e011da\", element=\"89597b3c-49d6-4455-87c2-4163349dda0b\")>,\n",
       " <selenium.webdriver.remote.webelement.WebElement (session=\"a5770c2cac9baf3156e7647706e011da\", element=\"cad27357-94a1-4f7d-a1d1-f3bb1afe8351\")>]"
      ]
     },
     "execution_count": 143,
     "metadata": {},
     "output_type": "execute_result"
    }
   ],
   "source": [
    "salary_tags=driver.find_elements_by_xpath(\"//div[@class='value body-medium']\")\n",
    "salary_tags[0:10]"
   ]
  },
  {
   "cell_type": "code",
   "execution_count": 144,
   "id": "f4fcffea",
   "metadata": {},
   "outputs": [
    {
     "data": {
      "text/plain": [
       "['₹ 25.0L',\n",
       " '₹ 35.0L',\n",
       " '₹ 15.0L',\n",
       " '₹ 25.5L',\n",
       " '₹ 5.6L',\n",
       " '₹ 26.2L',\n",
       " '₹ 9.8L',\n",
       " '₹ 20.0L',\n",
       " '₹ 11.0L',\n",
       " '₹ 22.0L']"
      ]
     },
     "execution_count": 144,
     "metadata": {},
     "output_type": "execute_result"
    }
   ],
   "source": [
    "for i in salary_tags :\n",
    "    salary=i.text\n",
    "    maximum_salary.append(salary)\n",
    "maximum_salary[0:10]"
   ]
  },
  {
   "cell_type": "code",
   "execution_count": 145,
   "id": "0404cdec",
   "metadata": {},
   "outputs": [
    {
     "data": {
      "text/plain": [
       "[<selenium.webdriver.remote.webelement.WebElement (session=\"a5770c2cac9baf3156e7647706e011da\", element=\"36fa9700-088b-4d8b-ac99-9fa578e35935\")>,\n",
       " <selenium.webdriver.remote.webelement.WebElement (session=\"a5770c2cac9baf3156e7647706e011da\", element=\"0929cee9-4128-4df8-9613-6df34b20aefd\")>,\n",
       " <selenium.webdriver.remote.webelement.WebElement (session=\"a5770c2cac9baf3156e7647706e011da\", element=\"5b86262b-dbd5-4aae-b9a2-9c2f36c5f1d9\")>,\n",
       " <selenium.webdriver.remote.webelement.WebElement (session=\"a5770c2cac9baf3156e7647706e011da\", element=\"ebb2d7da-a32b-44f5-99c7-677155160d4a\")>,\n",
       " <selenium.webdriver.remote.webelement.WebElement (session=\"a5770c2cac9baf3156e7647706e011da\", element=\"52912d77-7459-4d8a-b7e2-14e7daee4eaa\")>,\n",
       " <selenium.webdriver.remote.webelement.WebElement (session=\"a5770c2cac9baf3156e7647706e011da\", element=\"571e4295-0fec-45dc-aa89-31e0cdaa6493\")>,\n",
       " <selenium.webdriver.remote.webelement.WebElement (session=\"a5770c2cac9baf3156e7647706e011da\", element=\"ea34c69d-fd2e-4d47-ac86-f7ddcb274481\")>,\n",
       " <selenium.webdriver.remote.webelement.WebElement (session=\"a5770c2cac9baf3156e7647706e011da\", element=\"ab3de349-6ca3-4d44-b8ee-a66e6982ed8b\")>,\n",
       " <selenium.webdriver.remote.webelement.WebElement (session=\"a5770c2cac9baf3156e7647706e011da\", element=\"7f05dfff-50ff-4341-9da4-0cd7d0799a24\")>,\n",
       " <selenium.webdriver.remote.webelement.WebElement (session=\"a5770c2cac9baf3156e7647706e011da\", element=\"16bfdfed-9929-44d9-a32a-dec55d9e007e\")>]"
      ]
     },
     "execution_count": 145,
     "metadata": {},
     "output_type": "execute_result"
    }
   ],
   "source": [
    "experience_tags=driver.find_elements_by_xpath(\"//div[@class='salaries sbold-list-header']\")\n",
    "experience_tags[0:10]"
   ]
  },
  {
   "cell_type": "code",
   "execution_count": 146,
   "id": "20f7ef43",
   "metadata": {},
   "outputs": [
    {
     "data": {
      "text/plain": [
       "['Data Scientist\\n . \\n3 yrs exp',\n",
       " 'Data Scientist\\n . \\n3-4 yrs exp',\n",
       " 'Data Scientist\\n . \\n4 yrs exp',\n",
       " 'Data Scientist\\n . \\n2 yrs exp',\n",
       " 'Data Scientist\\n . \\n3-4 yrs exp',\n",
       " 'Data Scientist\\n . \\n2-4 yrs exp',\n",
       " 'Data Scientist\\n . \\n2-4 yrs exp',\n",
       " 'Data Scientist\\n . \\n2-4 yrs exp',\n",
       " 'Data Scientist\\n . \\n4 yrs exp',\n",
       " 'Data Scientist\\n . \\n4 yrs exp']"
      ]
     },
     "execution_count": 146,
     "metadata": {},
     "output_type": "execute_result"
    }
   ],
   "source": [
    "for i in experience_tags:\n",
    "    experience=i.text\n",
    "    experience_required.append(experience)\n",
    "experience_required[0:10]"
   ]
  },
  {
   "cell_type": "code",
   "execution_count": 147,
   "id": "eb08bf20",
   "metadata": {},
   "outputs": [],
   "source": [
    "jobs=pd.DataFrame({})\n",
    "jobs['Total Salary Record']=total_salary_record[:10]\n",
    "jobs['Minimum Salary']=minimum_salary[:10]\n",
    "jobs['Maximum Salary']=maximum_salary[:10]\n",
    "jobs['Experience']=experience_required[:10]"
   ]
  },
  {
   "cell_type": "code",
   "execution_count": 149,
   "id": "b2efaae3",
   "metadata": {},
   "outputs": [
    {
     "data": {
      "text/html": [
       "<div>\n",
       "<style scoped>\n",
       "    .dataframe tbody tr th:only-of-type {\n",
       "        vertical-align: middle;\n",
       "    }\n",
       "\n",
       "    .dataframe tbody tr th {\n",
       "        vertical-align: top;\n",
       "    }\n",
       "\n",
       "    .dataframe thead th {\n",
       "        text-align: right;\n",
       "    }\n",
       "</style>\n",
       "<table border=\"1\" class=\"dataframe\">\n",
       "  <thead>\n",
       "    <tr style=\"text-align: right;\">\n",
       "      <th></th>\n",
       "      <th>Total Salary Record</th>\n",
       "      <th>Minimum Salary</th>\n",
       "      <th>Maximum Salary</th>\n",
       "      <th>Experience</th>\n",
       "    </tr>\n",
       "  </thead>\n",
       "  <tbody>\n",
       "    <tr>\n",
       "      <th>0</th>\n",
       "      <td>₹ 29.7L</td>\n",
       "      <td>₹ 25.0L</td>\n",
       "      <td>₹ 25.0L</td>\n",
       "      <td>Data Scientist\\n . \\n3 yrs exp</td>\n",
       "    </tr>\n",
       "    <tr>\n",
       "      <th>1</th>\n",
       "      <td>₹ 20.5L</td>\n",
       "      <td>₹ 35.0L</td>\n",
       "      <td>₹ 35.0L</td>\n",
       "      <td>Data Scientist\\n . \\n3-4 yrs exp</td>\n",
       "    </tr>\n",
       "    <tr>\n",
       "      <th>2</th>\n",
       "      <td>₹ 18.9L</td>\n",
       "      <td>₹ 15.0L</td>\n",
       "      <td>₹ 15.0L</td>\n",
       "      <td>Data Scientist\\n . \\n4 yrs exp</td>\n",
       "    </tr>\n",
       "    <tr>\n",
       "      <th>3</th>\n",
       "      <td>₹ 15.9L</td>\n",
       "      <td>₹ 25.5L</td>\n",
       "      <td>₹ 25.5L</td>\n",
       "      <td>Data Scientist\\n . \\n2 yrs exp</td>\n",
       "    </tr>\n",
       "    <tr>\n",
       "      <th>4</th>\n",
       "      <td>₹ 15.2L</td>\n",
       "      <td>₹ 5.6L</td>\n",
       "      <td>₹ 5.6L</td>\n",
       "      <td>Data Scientist\\n . \\n3-4 yrs exp</td>\n",
       "    </tr>\n",
       "    <tr>\n",
       "      <th>5</th>\n",
       "      <td>₹ 15.2L</td>\n",
       "      <td>₹ 26.2L</td>\n",
       "      <td>₹ 26.2L</td>\n",
       "      <td>Data Scientist\\n . \\n2-4 yrs exp</td>\n",
       "    </tr>\n",
       "    <tr>\n",
       "      <th>6</th>\n",
       "      <td>₹ 14.8L</td>\n",
       "      <td>₹ 9.8L</td>\n",
       "      <td>₹ 9.8L</td>\n",
       "      <td>Data Scientist\\n . \\n2-4 yrs exp</td>\n",
       "    </tr>\n",
       "    <tr>\n",
       "      <th>7</th>\n",
       "      <td>₹ 14.0L</td>\n",
       "      <td>₹ 20.0L</td>\n",
       "      <td>₹ 20.0L</td>\n",
       "      <td>Data Scientist\\n . \\n2-4 yrs exp</td>\n",
       "    </tr>\n",
       "    <tr>\n",
       "      <th>8</th>\n",
       "      <td>₹ 12.7L</td>\n",
       "      <td>₹ 11.0L</td>\n",
       "      <td>₹ 11.0L</td>\n",
       "      <td>Data Scientist\\n . \\n4 yrs exp</td>\n",
       "    </tr>\n",
       "    <tr>\n",
       "      <th>9</th>\n",
       "      <td>₹ 12.4L</td>\n",
       "      <td>₹ 22.0L</td>\n",
       "      <td>₹ 22.0L</td>\n",
       "      <td>Data Scientist\\n . \\n4 yrs exp</td>\n",
       "    </tr>\n",
       "  </tbody>\n",
       "</table>\n",
       "</div>"
      ],
      "text/plain": [
       "  Total Salary Record Minimum Salary Maximum Salary  \\\n",
       "0             ₹ 29.7L        ₹ 25.0L        ₹ 25.0L   \n",
       "1             ₹ 20.5L        ₹ 35.0L        ₹ 35.0L   \n",
       "2             ₹ 18.9L        ₹ 15.0L        ₹ 15.0L   \n",
       "3             ₹ 15.9L        ₹ 25.5L        ₹ 25.5L   \n",
       "4             ₹ 15.2L         ₹ 5.6L         ₹ 5.6L   \n",
       "5             ₹ 15.2L        ₹ 26.2L        ₹ 26.2L   \n",
       "6             ₹ 14.8L         ₹ 9.8L         ₹ 9.8L   \n",
       "7             ₹ 14.0L        ₹ 20.0L        ₹ 20.0L   \n",
       "8             ₹ 12.7L        ₹ 11.0L        ₹ 11.0L   \n",
       "9             ₹ 12.4L        ₹ 22.0L        ₹ 22.0L   \n",
       "\n",
       "                         Experience  \n",
       "0    Data Scientist\\n . \\n3 yrs exp  \n",
       "1  Data Scientist\\n . \\n3-4 yrs exp  \n",
       "2    Data Scientist\\n . \\n4 yrs exp  \n",
       "3    Data Scientist\\n . \\n2 yrs exp  \n",
       "4  Data Scientist\\n . \\n3-4 yrs exp  \n",
       "5  Data Scientist\\n . \\n2-4 yrs exp  \n",
       "6  Data Scientist\\n . \\n2-4 yrs exp  \n",
       "7  Data Scientist\\n . \\n2-4 yrs exp  \n",
       "8    Data Scientist\\n . \\n4 yrs exp  \n",
       "9    Data Scientist\\n . \\n4 yrs exp  "
      ]
     },
     "execution_count": 149,
     "metadata": {},
     "output_type": "execute_result"
    }
   ],
   "source": [
    "jobs"
   ]
  },
  {
   "cell_type": "code",
   "execution_count": 150,
   "id": "3bed2974",
   "metadata": {},
   "outputs": [],
   "source": [
    "driver.close()"
   ]
  }
 ],
 "metadata": {
  "kernelspec": {
   "display_name": "Python 3",
   "language": "python",
   "name": "python3"
  },
  "language_info": {
   "codemirror_mode": {
    "name": "ipython",
    "version": 3
   },
   "file_extension": ".py",
   "mimetype": "text/x-python",
   "name": "python",
   "nbconvert_exporter": "python",
   "pygments_lexer": "ipython3",
   "version": "3.8.8"
  }
 },
 "nbformat": 4,
 "nbformat_minor": 5
}
